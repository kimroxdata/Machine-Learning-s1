{
 "cells": [
  {
   "cell_type": "markdown",
   "id": "74c660e0-3e78-4789-ad1d-8facf7f123bb",
   "metadata": {},
   "source": [
    "**Food Delivery Cost and Profitability Analysis: Process We Can Follow**\n",
    "\n",
    "Food Delivery Cost and Profitability Analysis involves examining all the costs\n",
    "associated with delivering food orders, from direct expenses like delivery fees and\n",
    "packaging to indirect expenses like discounts offered to customers and commission\n",
    "fees paid by restaurants. By juxtaposing these costs against the revenue generated\n",
    "(primarily through order values and commission fees), the analysis aims to provide\n",
    "insights into how profitable the food delivery service is on a per-order basis.\n",
    "Below is the process we can follow for the task of Food Delivery Cost and\n",
    "Profitability Analysis:\n",
    "(40 Marks)\n",
    "Food Delivery Cost and Profitability Analysis: Process We Can Follow\n",
    "Food Delivery Cost and Profitability Analysis involves examining all the costs\n",
    "associated with delivering food orders, from direct expenses like delivery fees and\n",
    "packaging to indirect expenses like discounts offered to customers and commission\n",
    "fees paid by restaurants. By juxtaposing these costs against the revenue generated\n",
    "(primarily through order values and commission fees), the analysis aims to provide\n",
    "insights into how profitable the food delivery service is on a per-order basis.\n",
    "Below is the process we can follow for the task of Food Delivery Cost and\n",
    "Profitability Analysis:\n",
    "(40 Marks)\n",
    "\n"
   ]
  },
  {
   "cell_type": "markdown",
   "id": "a1cc1183-2649-40bc-9651-0a14351c4c59",
   "metadata": {},
   "source": [
    "1. Start by gathering comprehensive data related to all aspects of food delivery\n",
    "operations. Links here: 2\n",
    "https://statso.io/wp-content/uploads/2024/02/food_orders_new_delhi.c"
   ]
  },
  {
   "cell_type": "code",
   "execution_count": 128,
   "id": "bdba52b8-df1f-4d02-a804-6a532653efa6",
   "metadata": {},
   "outputs": [],
   "source": [
    "import pandas as pd\n",
    "\n",
    "# Load the dataset\n",
    "file_path = r\"C:\\Users\\Kevin\\Downloads\\food_orders_new_delhi.csv\"\n",
    "data = pd.read_csv(file_path)\n"
   ]
  },
  {
   "cell_type": "markdown",
   "id": "fae1801b-118d-48c8-988f-832536f3e7c6",
   "metadata": {},
   "source": [
    "2. Clean the dataset for inconsistencies, missing values, or irrelevant information. 5"
   ]
  },
  {
   "cell_type": "code",
   "execution_count": 27,
   "id": "f91f2897-03c3-4b1a-9467-21002fc1970c",
   "metadata": {
    "scrolled": true
   },
   "outputs": [
    {
     "name": "stdout",
     "output_type": "stream",
     "text": [
      "   Order ID Customer ID Restaurant ID  Order Date and Time  \\\n",
      "0         1       C8270         R2924  2024-02-01 01:11:52   \n",
      "1         2       C1860         R2054  2024-02-02 22:11:04   \n",
      "2         3       C6390         R2870  2024-01-31 05:54:35   \n",
      "3         4       C6191         R2642  2024-01-16 22:52:49   \n",
      "4         5       C6734         R2799  2024-01-29 01:19:30   \n",
      "\n",
      "  Delivery Date and Time  Order Value  Delivery Fee    Payment Method  \\\n",
      "0    2024-02-01 02:39:52         1914             0       Credit Card   \n",
      "1    2024-02-02 22:46:04          986            40    Digital Wallet   \n",
      "2    2024-01-31 06:52:35          937            30  Cash on Delivery   \n",
      "3    2024-01-16 23:38:49         1463            50  Cash on Delivery   \n",
      "4    2024-01-29 02:48:30         1992            30  Cash on Delivery   \n",
      "\n",
      "  Discounts and Offers  Commission Fee  Payment Processing Fee  \\\n",
      "0            5% on App             150                      47   \n",
      "1                  10%             198                      23   \n",
      "2         15% New User             195                      45   \n",
      "3                  NaN             146                      27   \n",
      "4         50 off Promo             130                      50   \n",
      "\n",
      "   Refunds/Chargebacks  \n",
      "0                    0  \n",
      "1                    0  \n",
      "2                    0  \n",
      "3                    0  \n",
      "4                    0  \n"
     ]
    }
   ],
   "source": [
    "# Display the first few rows of the dataset\n",
    "print(data.head())"
   ]
  },
  {
   "cell_type": "code",
   "execution_count": 129,
   "id": "d01efe87-c7ad-4239-b624-c40e4d227ddd",
   "metadata": {
    "scrolled": true
   },
   "outputs": [
    {
     "name": "stdout",
     "output_type": "stream",
     "text": [
      "Missing values in each column:\n",
      " Order ID                    0\n",
      "Customer ID                 0\n",
      "Restaurant ID               0\n",
      "Order Date and Time         0\n",
      "Delivery Date and Time      0\n",
      "Order Value                 0\n",
      "Delivery Fee                0\n",
      "Payment Method              0\n",
      "Discounts and Offers      185\n",
      "Commission Fee              0\n",
      "Payment Processing Fee      0\n",
      "Refunds/Chargebacks         0\n",
      "dtype: int64\n"
     ]
    }
   ],
   "source": [
    "# Check for missing values\n",
    "missing_values = data.isnull().sum()\n",
    "print(\"Missing values in each column:\\n\", missing_values)"
   ]
  },
  {
   "cell_type": "code",
   "execution_count": 130,
   "id": "55b48f28-4551-4d66-9431-6d354ef7e0c1",
   "metadata": {},
   "outputs": [
    {
     "name": "stdout",
     "output_type": "stream",
     "text": [
      "Number of duplicate rows: 0\n"
     ]
    }
   ],
   "source": [
    "# Fill or drop missing values \n",
    "data.dropna(inplace=True)\n",
    "# Check for duplicates\n",
    "duplicate_count = data.duplicated().sum()\n",
    "print(f\"Number of duplicate rows: {duplicate_count}\")\n",
    "data = data.drop_duplicates()"
   ]
  },
  {
   "cell_type": "code",
   "execution_count": 29,
   "id": "fd03f354-bfa6-4fac-9a4e-9d607c65f132",
   "metadata": {
    "scrolled": true
   },
   "outputs": [
    {
     "name": "stdout",
     "output_type": "stream",
     "text": [
      "Order ID                   int64\n",
      "Customer ID               object\n",
      "Restaurant ID             object\n",
      "Order Date and Time       object\n",
      "Delivery Date and Time    object\n",
      "Order Value                int64\n",
      "Delivery Fee               int64\n",
      "Payment Method            object\n",
      "Discounts and Offers      object\n",
      "Commission Fee             int64\n",
      "Payment Processing Fee     int64\n",
      "Refunds/Chargebacks        int64\n",
      "dtype: object\n"
     ]
    }
   ],
   "source": [
    "# Display data types for further cleaning\n",
    "print(data.dtypes)"
   ]
  },
  {
   "cell_type": "code",
   "execution_count": 131,
   "id": "c099f53e-cc82-4bcc-b205-1603adb6fd10",
   "metadata": {
    "scrolled": true
   },
   "outputs": [
    {
     "name": "stdout",
     "output_type": "stream",
     "text": [
      "Order ID                           int64\n",
      "Customer ID                       object\n",
      "Restaurant ID                     object\n",
      "Order Date and Time       datetime64[ns]\n",
      "Delivery Date and Time    datetime64[ns]\n",
      "Order Value                        int64\n",
      "Delivery Fee                       int64\n",
      "Payment Method                    object\n",
      "Discounts and Offers              object\n",
      "Commission Fee                     int64\n",
      "Payment Processing Fee             int64\n",
      "Refunds/Chargebacks                int64\n",
      "dtype: object\n"
     ]
    }
   ],
   "source": [
    "# convert date and time columns to datetime\n",
    "data['Order Date and Time'] = pd.to_datetime(data['Order Date and Time'])\n",
    "data['Delivery Date and Time'] = pd.to_datetime(data['Delivery Date and Time'])\n",
    "print(data.dtypes)\n"
   ]
  },
  {
   "cell_type": "markdown",
   "id": "e5006626-082d-4bb4-bcc2-b731104b767b",
   "metadata": {},
   "source": [
    "3. Find the most common payment method. What is the proportion of the most\n",
    "common payment method? 3"
   ]
  },
  {
   "cell_type": "code",
   "execution_count": 132,
   "id": "c86e2deb-d062-49a0-95b4-375699496fbe",
   "metadata": {},
   "outputs": [
    {
     "name": "stdout",
     "output_type": "stream",
     "text": [
      "Most Common Payment Method: Cash on Delivery\n",
      "Proportion of Most Common Payment Method: 35.83%\n"
     ]
    }
   ],
   "source": [
    "\n",
    "payment_counts = data['Payment Method'].value_counts()  \n",
    "most_common_payment_method = payment_counts.idxmax()\n",
    "most_common_payment_proportion = payment_counts.max() / payment_counts.sum()\n",
    "\n",
    "print(f\"Most Common Payment Method: {most_common_payment_method}\")\n",
    "print(f\"Proportion of Most Common Payment Method: {most_common_payment_proportion:.2%}\")\n"
   ]
  },
  {
   "cell_type": "markdown",
   "id": "9ddf5c6c-96f8-4076-96f3-bd973383a049",
   "metadata": {},
   "source": [
    "4. Find 95% confidence interval of the proportion of the most common payment\n",
    "method 2"
   ]
  },
  {
   "cell_type": "code",
   "execution_count": 133,
   "id": "5979eb11-d8b8-43d6-b94b-4ddd91b8938a",
   "metadata": {},
   "outputs": [
    {
     "name": "stdout",
     "output_type": "stream",
     "text": [
      "95% Confidence Interval: [0.3283, 0.3877]\n"
     ]
    }
   ],
   "source": [
    "import numpy as np\n",
    "from scipy import stats\n",
    "\n",
    "# Parameters for the confidence interval calculation\n",
    "n = payment_counts # Total number of payments\n",
    "p = most_common_payment_proportion  # Proportion of the most common payment method\n",
    "count = most_common_payment_method # Count of the most common payment method\n",
    "\n",
    "# Standard error calculation\n",
    "se = np.sqrt(p * (1 - p) / n)\n",
    "\n",
    "# Z-score for a 95% confidence level\n",
    "z_score = stats.norm.ppf(0.975)  # For two-tailed test, we use 0.975\n",
    "\n",
    "# Confidence interval calculation\n",
    "confidence_interval = (\n",
    "    p - z_score * se,\n",
    "    p + z_score * se\n",
    ")\n",
    "print(f\"95% Confidence Interval: [{ci_lower:.4f}, {ci_upper:.4f}]\")\n"
   ]
  },
  {
   "cell_type": "code",
   "execution_count": null,
   "id": "7fedd373-0432-4bda-ae79-465adc208858",
   "metadata": {},
   "outputs": [],
   "source": []
  },
  {
   "cell_type": "markdown",
   "id": "0800f27d-0e05-4393-8260-d688d89a03f1",
   "metadata": {},
   "source": [
    "5. Determine the average and the median commission fee. 1"
   ]
  },
  {
   "cell_type": "code",
   "execution_count": 134,
   "id": "4dfb8807-8127-4911-905b-2f2867a54964",
   "metadata": {},
   "outputs": [
    {
     "name": "stdout",
     "output_type": "stream",
     "text": [
      "Average Commission Fee: 127.36\n",
      "Median Commission Fee: 128.00\n"
     ]
    }
   ],
   "source": [
    "# Calculate the average (mean) commission fee\n",
    "average_commission_fee = data['Commission Fee'].mean()\n",
    "\n",
    "# Calculate the median commission fee\n",
    "median_commission_fee = data['Commission Fee'].median()\n",
    "\n",
    "# Print the results\n",
    "print(f\"Average Commission Fee: {average_commission_fee:.2f}\")\n",
    "print(f\"Median Commission Fee: {median_commission_fee:.2f}\")"
   ]
  },
  {
   "cell_type": "markdown",
   "id": "9922c336-dff3-42a1-ac43-1051363c3c75",
   "metadata": {},
   "source": [
    "6. Find the average order value of the customer 1"
   ]
  },
  {
   "cell_type": "code",
   "execution_count": 135,
   "id": "719e2f27-cdad-49a8-a352-ba3b1b330a26",
   "metadata": {},
   "outputs": [
    {
     "name": "stdout",
     "output_type": "stream",
     "text": [
      "average Order Value: 1055.35\n"
     ]
    }
   ],
   "source": [
    "average_order_Value = data['Order Value'].mean()\n",
    "print(f\"average Order Value: {average_order_Value:.2f}\")"
   ]
  },
  {
   "cell_type": "markdown",
   "id": "c1fa6200-e988-491a-bb06-556ad2430d73",
   "metadata": {},
   "source": [
    "7. Find the probability that a commission fee is\n",
    "i). More than 120 2\n",
    "ii). Less than 143 2\n",
    "iii). Between 86 and 133 2"
   ]
  },
  {
   "cell_type": "code",
   "execution_count": 136,
   "id": "462900e5-2c94-450c-93fa-82991a941624",
   "metadata": {},
   "outputs": [
    {
     "name": "stdout",
     "output_type": "stream",
     "text": [
      "Probability that a commission fee is more than 120: 0.5595\n",
      "Probability that a commission fee is less than 143: 0.6000\n",
      "Probability that a commission fee is between 86 and 133: 0.3215\n"
     ]
    }
   ],
   "source": [
    "# Calculate the total number of commission fee\n",
    "total_commissions = len(data['Commission Fee'])\n",
    "\n",
    "# i) Probability that a commission fee is more than 120\n",
    "prob_more_than_120 = len(data[data['Commission Fee'] > 120]) / total_commissions\n",
    "\n",
    "# ii) Probability that a commission fee is less than 143\n",
    "prob_less_than_143 = len(data[data['Commission Fee'] < 143]) / total_commissions\n",
    "\n",
    "# iii) Probability that a commission fee is between 86 and 133\n",
    "prob_between_86_and_133 = len(data[(data['Commission Fee'] >= 86) & (data['Commission Fee'] <= 133)]) / total_commissions\n",
    "\n",
    "# Print the results\n",
    "print(f\"Probability that a commission fee is more than 120: {prob_more_than_120:.4f}\")\n",
    "print(f\"Probability that a commission fee is less than 143: {prob_less_than_143:.4f}\")\n",
    "print(f\"Probability that a commission fee is between 86 and 133: {prob_between_86_and_133:.4f}\")"
   ]
  },
  {
   "cell_type": "markdown",
   "id": "9e403557-2c20-42e4-82f9-a26ddfdab480",
   "metadata": {},
   "source": [
    "8. Find the average delivery time of the orders done by the credit card 2"
   ]
  },
  {
   "cell_type": "code",
   "execution_count": 137,
   "id": "729bedda-2b6d-4321-a7f5-274274793be5",
   "metadata": {
    "scrolled": true
   },
   "outputs": [
    {
     "name": "stdout",
     "output_type": "stream",
     "text": [
      "Average delivery time of the orders done by credit card:\n",
      "1.23 hours and 13.86 minutes\n"
     ]
    }
   ],
   "source": [
    "\n",
    "\n",
    "# Calculate the delivery time\n",
    "data['delivery_time'] = data['Delivery Date and Time'] - data['Order Date and Time']\n",
    "\n",
    "# Select records where payment method is Credit Card\n",
    "credit_card_orders = data[data['Payment Method'] == 'Credit Card']\n",
    "\n",
    "if not credit_card_orders.empty:\n",
    "    # Calculate the average delivery time\n",
    "    mean_delivery_time = credit_card_orders['delivery_time'].mean()\n",
    "    hours = mean_delivery_time.total_seconds() / 3600\n",
    "    minutes = (mean_delivery_time.total_seconds() % 3600) / 60\n",
    "    average_delivery_time = f'{hours:.2f} hours and {minutes:.2f} minutes'\n",
    "else:\n",
    "    average_delivery_time = 'No deliveries by credit card'\n",
    "\n",
    "# Output the average delivery time\n",
    "print('Average delivery time of the orders done by credit card:')\n",
    "print(average_delivery_time)\n",
    "\n"
   ]
  },
  {
   "cell_type": "markdown",
   "id": "559036a9-9209-4628-a7f5-dcaa3553ec0c",
   "metadata": {},
   "source": [
    "9. What is the lowest order value of 10% largest orders done by Cash on delivery? 3"
   ]
  },
  {
   "cell_type": "code",
   "execution_count": 138,
   "id": "0118fec5-51a0-499a-9ac2-791169506fd3",
   "metadata": {},
   "outputs": [
    {
     "name": "stdout",
     "output_type": "stream",
     "text": [
      "The lowest order value of the largest 10% of orders done by Cash on Delivery is: 1798\n"
     ]
    }
   ],
   "source": [
    "\n",
    "   # Filter for Cash on Delivery orders\n",
    "cash_on_delivery_orders = data[data['Payment Method'].str.contains('Cash on Delivery', case=False)]\n",
    "\n",
    "if cash_on_delivery_orders.empty:\n",
    "    print(\"No orders made via Cash on Delivery.\")\n",
    "else:\n",
    "    # Sort the order values in descending order\n",
    "    sorted_orders = cash_on_delivery_orders.sort_values(by='Order Value', ascending=False)  \n",
    "    \n",
    "    # Calculate 10% of the total number of orders\n",
    "    num_orders = len(sorted_orders)\n",
    "    cut_off_index = int(num_orders * 0.1)  # Get the index for the largest 10%\n",
    "\n",
    "    # Select the largest 10% orders\n",
    "    largest_10_percent_orders = sorted_orders.iloc[:cut_off_index]\n",
    "\n",
    "    # Get the lowest order value in this subset\n",
    "    lowest_order_value_largest_10 = largest_10_percent_orders['Order Value'].min()  \n",
    "\n",
    "    print(f'The lowest order value of the largest 10% of orders done by Cash on Delivery is: {lowest_order_value_largest_10}')\n"
   ]
  },
  {
   "cell_type": "markdown",
   "id": "c4c31ff8-41b7-4140-84c1-124de909ce37",
   "metadata": {},
   "source": [
    "10. What is the highest order value of 60% least orders done by Digital Wallet? 3\n"
   ]
  },
  {
   "cell_type": "code",
   "execution_count": 139,
   "id": "4b89a491-2a80-493c-91fe-83457fb93314",
   "metadata": {},
   "outputs": [
    {
     "name": "stdout",
     "output_type": "stream",
     "text": [
      "The highest order value of the least 60% of orders done by Digital Wallet is: 1166\n"
     ]
    }
   ],
   "source": [
    "# Filter for Digital Wallet orders\n",
    "digital_wallet_orders = data[data['Payment Method'].str.contains('Digital Wallet', case=False)]\n",
    "\n",
    "if digital_wallet_orders.empty:\n",
    "    print(\"No orders made via Digital Wallet.\")\n",
    "else:\n",
    "    # Sort the order values in ascending order\n",
    "    sorted_orders = digital_wallet_orders.sort_values(by='Order Value')  \n",
    "    \n",
    "    # Calculate 60% of the total number of orders\n",
    "    num_orders = len(sorted_orders)\n",
    "    cut_off_index = int(num_orders * 0.6)  #  the index for the top 60%\n",
    "\n",
    "    # Select the least 60% orders\n",
    "    least_60_percent_orders = sorted_orders.iloc[:cut_off_index]\n",
    "\n",
    "    # Get the highest order value in this subset\n",
    "    highest_order_value_least_60 = least_60_percent_orders['Order Value'].max()  \n",
    "\n",
    "    print(f'The highest order value of the least 60% of orders done by Digital Wallet is: {highest_order_value_least_60}')"
   ]
  },
  {
   "cell_type": "code",
   "execution_count": null,
   "id": "be4543a0-6303-4374-871e-9c1f80ee301a",
   "metadata": {},
   "outputs": [],
   "source": []
  },
  {
   "cell_type": "markdown",
   "id": "3a5a2203-6ad2-4626-9f14-f0c969d95279",
   "metadata": {},
   "source": [
    "11. By what amount is the mean value by Digital Wallet more or less than that of Cash\n",
    "on delivery? 3"
   ]
  },
  {
   "cell_type": "code",
   "execution_count": 140,
   "id": "bfb5352e-4769-42a0-9c3e-5aaf58a9cc08",
   "metadata": {
    "scrolled": true
   },
   "outputs": [
    {
     "name": "stdout",
     "output_type": "stream",
     "text": [
      "Mean order value for Digital Wallet: 1041.93\n",
      "Mean order value for Cash on Delivery: 1055.56\n",
      "The mean value by Digital Wallet is 13.63 less than Cash on Delivery\n"
     ]
    }
   ],
   "source": [
    "\n",
    "#  Filter the dataset for Digital Wallet and Cash on Delivery\n",
    "digital_wallet_orders = data[data['Payment Method'] == 'Digital Wallet']\n",
    "cash_on_delivery_orders = data[data['Payment Method'] == 'Cash on Delivery']\n",
    "\n",
    "# Step 4: Calculate the mean order amounts for each payment method\n",
    "mean_digital_wallet = digital_wallet_orders['Order Value'].mean()\n",
    "mean_cash_on_delivery = cash_on_delivery_orders['Order Value'].mean()\n",
    "\n",
    "# Step 5: Calculate the difference\n",
    "if mean_digital_wallet != 0 and mean_cash_on_delivery != 0:\n",
    "    difference = (mean_digital_wallet - mean_cash_on_delivery) \n",
    "    if difference > 0:\n",
    "        result = f'The mean value by Digital Wallet is {difference:.2f} more than Cash on Delivery'\n",
    "    else:\n",
    "        result = f'The mean value by Digital Wallet is {abs(difference):.2f} less than Cash on Delivery'\n",
    "else:\n",
    "    result = 'Either mean_digital_wallet or mean_cash_on_delivery is zero. Result is not valid.'\n",
    "    \n",
    "# Output the results\n",
    "print(f'Mean order value for Digital Wallet: {mean_digital_wallet:.2f}')\n",
    "print(f'Mean order value for Cash on Delivery: {mean_cash_on_delivery:.2f}')\n",
    "print(result)"
   ]
  },
  {
   "cell_type": "markdown",
   "id": "d39d5f80-d147-4690-9afb-b070cc26aff8",
   "metadata": {},
   "source": [
    "12. The delivery time for any item will take more than 53 minutes. Using a significance\n",
    "level of 0.05, prove or disapprove this claim. 3"
   ]
  },
  {
   "cell_type": "code",
   "execution_count": 143,
   "id": "f04d0ecb-3f8e-4464-a848-bd934494a967",
   "metadata": {},
   "outputs": [
    {
     "name": "stdout",
     "output_type": "stream",
     "text": [
      "Mean Delivery Time: 4415411042944.785\n",
      "Standard Deviation: 1577856302916.814\n",
      "T-statistic: 79.88817403981788\n",
      "Critical T-Value: 1.646727724436789\n",
      "Reject the null hypothesis. There is sufficient evidence to approve the claim that the mean delivery time is greater than 53 minutes.\n"
     ]
    }
   ],
   "source": [
    "#ensuring delivery time is numeric\n",
    "\n",
    "if 'delivery_time' in data.columns:\n",
    "    data['delivery_time'] = pd.to_numeric(data['delivery_time'], errors='coerce')\n",
    "\n",
    "    # Drop NaN values\n",
    "    delivery_times = data['delivery_time'].dropna()\n",
    "\n",
    "    # Calculate sample statistics\n",
    "    n = len(delivery_times)\n",
    "    mean_delivery_time = delivery_times.mean()\n",
    "    std_delivery_time = delivery_times.std(ddof=1)  #  standard deviation\n",
    "\n",
    "    # Set null hypothesis mean\n",
    "    mu_0 = 53\n",
    "\n",
    "    # Calculate the t-statistic\n",
    "    t_statistic = (mean_delivery_time - mu_0) / (std_delivery_time / np.sqrt(n))\n",
    "\n",
    "    # Determine critical t-value for one-tailed test\n",
    "    critical_t = stats.t.ppf(0.95, df=n-1)\n",
    "\n",
    "    # Print results\n",
    "    print(f'Mean Delivery Time: {mean_delivery_time}')\n",
    "    print(f'Standard Deviation: {std_delivery_time}')\n",
    "    print(f'T-statistic: {t_statistic}')\n",
    "    print(f'Critical T-Value: {critical_t}')\n",
    "\n",
    "    # Decision\n",
    "    if t_statistic > critical_t:\n",
    "        print(\"Reject the null hypothesis. There is sufficient evidence to approve the claim that the mean delivery time is greater than 53 minutes.\")\n",
    "    else:\n",
    "        print(\"Fail to reject the null hypothesis. There is not enough evidence to approve the claim.\")\n"
   ]
  },
  {
   "cell_type": "markdown",
   "id": "eea7b82c-463b-45b8-8726-b9924720e15f",
   "metadata": {},
   "source": [
    "13. What is the range within which the middle 50% ordering-delivery durations differ? 3"
   ]
  },
  {
   "cell_type": "code",
   "execution_count": 112,
   "id": "577730a8-67d4-415c-9a98-667138c2f791",
   "metadata": {},
   "outputs": [
    {
     "name": "stdout",
     "output_type": "stream",
     "text": [
      "The range within which the middle 50% ordering-delivery durations differ is: 0 days 00:46:00\n"
     ]
    }
   ],
   "source": [
    "# Sort the ordering-delivery durations in ascending order\n",
    "sorted_durations = data['delivery_time'].sort_values()\n",
    "\n",
    "if len(sorted_durations) < 2:\n",
    "    print(\"inadequate data to calculate a range.\")\n",
    "else:\n",
    "    # Calculate the middle 50% of the ordering-delivery durations\n",
    "    num_durations = len(sorted_durations)\n",
    "    lower_bound_index = int(num_durations * 0.25)  # Exclude 25% of the shortest durations\n",
    "    upper_bound_index = int(num_durations * 0.75)  # Exclude 25% of the longest durations\n",
    "\n",
    "    # Select the middle 50% of the ordering-delivery durations\n",
    "    middle_50_percent_durations = sorted_durations.iloc[lower_bound_index:upper_bound_index]\n",
    "\n",
    "    # Find the minimum and maximum durations\n",
    "    min_duration = middle_50_percent_durations.min()\n",
    "    max_duration = middle_50_percent_durations.max()\n",
    "\n",
    "    # Calculate the range\n",
    "    duration_range = max_duration - min_duration\n",
    "\n",
    "    print(f'The range within which the middle 50% ordering-delivery durations differ is: {duration_range}')"
   ]
  },
  {
   "cell_type": "markdown",
   "id": "9eeed443-c814-4187-a2e8-55b159235709",
   "metadata": {},
   "source": [
    "14. Find the distribution of various payment methods whose Refunds/Chargebacks is\n",
    "more than zero. 3"
   ]
  },
  {
   "cell_type": "code",
   "execution_count": 121,
   "id": "d0421619-547c-48ed-834a-3cd4c6e166cc",
   "metadata": {},
   "outputs": [
    {
     "name": "stdout",
     "output_type": "stream",
     "text": [
      "Payment Method\n",
      "Credit Card         102\n",
      "Cash on Delivery    101\n",
      "Digital Wallet       82\n",
      "Name: count, dtype: int64\n"
     ]
    },
    {
     "data": {
      "image/png": "[encoded data removed]",
      "text/plain": [
       "<Figure size 640x480 with 1 Axes>"
      ]
     },
     "metadata": {},
     "output_type": "display_data"
    }
   ],
   "source": [
    "\n",
    "import matplotlib.pyplot as plt\n",
    "\n",
    "\n",
    "# Ensure that Refunds/Chargebacks is numeric\n",
    "if 'Refunds/Chargebacks' in data.columns:\n",
    "    data['Refunds/Chargebacks'] = pd.to_numeric(data['Refunds/Chargebacks'], errors='coerce')\n",
    "    \n",
    "    # Filter data where Refunds/Chargebacks is greater than zero\n",
    "    filtered_data = data[data['Refunds/Chargebacks'] > 0]\n",
    "    \n",
    "    # Group by payment method and count occurrences\n",
    "    payment_method_distribution = filtered_data['Payment Method'].value_counts()\n",
    "    \n",
    "    # Print the distribution\n",
    "    print(payment_method_distribution)\n",
    "    \n",
    "    #  Plot the distribution for better visualization\n",
    "    payment_method_distribution.plot(kind='bar', color='skyblue', edgecolor='black')\n",
    "    plt.title('Distribution of Payment Methods with Refunds/Chargebacks > 0')\n",
    "    plt.xlabel('Payment Method')\n",
    "    plt.ylabel('Count of Orders')\n",
    "    plt.xticks(rotation=45)\n",
    "    plt.tight_layout()  # Adjust layout for better fit\n",
    "    plt.show()\n",
    "else:\n",
    "    print(\"The 'Refunds/Chargebacks' column is not present in the dataset.\")\n"
   ]
  },
  {
   "cell_type": "code",
   "execution_count": null,
   "id": "f77b41f6-11ab-4380-8dc8-61af9bd15238",
   "metadata": {},
   "outputs": [],
   "source": []
  }
 ],
 "metadata": {
  "kernelspec": {
   "display_name": "Python 3 (ipykernel)",
   "language": "python",
   "name": "python3"
  },
  "language_info": {
   "codemirror_mode": {
    "name": "ipython",
    "version": 3
   },
   "file_extension": ".py",
   "mimetype": "text/x-python",
   "name": "python",
   "nbconvert_exporter": "python",
   "pygments_lexer": "ipython3",
   "version": "3.13.0"
  }
 },
 "nbformat": 4,
 "nbformat_minor": 5
}
