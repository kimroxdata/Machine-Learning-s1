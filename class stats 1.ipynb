{
 "cells": [
  {
   "cell_type": "code",
   "execution_count": 2,
   "id": "58852927-8790-40b8-ae0b-7f62b20edd9e",
   "metadata": {},
   "outputs": [],
   "source": [
    "a=2\n",
    "b=3"
   ]
  },
  {
   "cell_type": "code",
   "execution_count": 4,
   "id": "77ad10f6-1bf1-40d8-ab0d-671a96901ebd",
   "metadata": {},
   "outputs": [
    {
     "data": {
      "text/plain": [
       "6"
      ]
     },
     "execution_count": 4,
     "metadata": {},
     "output_type": "execute_result"
    }
   ],
   "source": [
    "b+3"
   ]
  },
  {
   "cell_type": "markdown",
   "id": "7af3b0a3-6d05-426c-8de4-7457323ec37b",
   "metadata": {},
   "source": [
    "integers: 2,3,4,5\n",
    "\n",
    "floats: 2.0, 3.4, 6.7\n",
    "\n",
    "Strings: \"david\", 'david', '2.0', '3'\n",
    "\n",
    "booleans: True, False"
   ]
  },
  {
   "cell_type": "code",
   "execution_count": 11,
   "id": "962fb21e-58a4-469a-89fa-3d720153931e",
   "metadata": {},
   "outputs": [],
   "source": [
    "li=['23','3','767']"
   ]
  },
  {
   "cell_type": "code",
   "execution_count": 12,
   "id": "247c9866-c5f7-46f5-a518-eb488e9962fd",
   "metadata": {},
   "outputs": [
    {
     "data": {
      "text/plain": [
       "[23, 3, 767]"
      ]
     },
     "execution_count": 12,
     "metadata": {},
     "output_type": "execute_result"
    }
   ],
   "source": [
    "li=[int(i) for i in li]\n",
    "li"
   ]
  },
  {
   "cell_type": "code",
   "execution_count": 13,
   "id": "7f414fba-b283-47ab-938b-92c7212317e8",
   "metadata": {},
   "outputs": [
    {
     "data": {
      "text/plain": [
       "793"
      ]
     },
     "execution_count": 13,
     "metadata": {},
     "output_type": "execute_result"
    }
   ],
   "source": [
    "sum(li)"
   ]
  },
  {
   "cell_type": "code",
   "execution_count": 14,
   "id": "7cab3c49-3daf-4939-a5da-b23e40a877f4",
   "metadata": {},
   "outputs": [
    {
     "data": {
      "text/plain": [
       "[0, 1, 2]"
      ]
     },
     "execution_count": 14,
     "metadata": {},
     "output_type": "execute_result"
    }
   ],
   "source": [
    "list(range(0,len(li)))"
   ]
  },
  {
   "cell_type": "code",
   "execution_count": 9,
   "id": "779c13a6-a58e-4d09-b24a-d656a19c1d7f",
   "metadata": {},
   "outputs": [],
   "source": [
    "del(li[0])"
   ]
  },
  {
   "cell_type": "code",
   "execution_count": 10,
   "id": "08969a59-5459-4719-941e-a9f2d5d435a7",
   "metadata": {},
   "outputs": [
    {
     "data": {
      "text/plain": [
       "[3, 767]"
      ]
     },
     "execution_count": 10,
     "metadata": {},
     "output_type": "execute_result"
    }
   ],
   "source": [
    "li"
   ]
  },
  {
   "cell_type": "code",
   "execution_count": null,
   "id": "4dcf2da8-7ea7-4ab8-b0b9-6c6f8cd29a2f",
   "metadata": {},
   "outputs": [],
   "source": [
    "print(a+b)"
   ]
  },
  {
   "cell_type": "code",
   "execution_count": 8,
   "id": "c13a19aa-79a7-4f9a-86df-cbebcfc415c3",
   "metadata": {},
   "outputs": [
    {
     "data": {
      "text/plain": [
       "'daviddavid'"
      ]
     },
     "execution_count": 8,
     "metadata": {},
     "output_type": "execute_result"
    }
   ],
   "source": [
    "\"david\"*2"
   ]
  },
  {
   "cell_type": "code",
   "execution_count": 10,
   "id": "ce06e1f0-c628-403f-af39-ef1ee62185b2",
   "metadata": {},
   "outputs": [
    {
     "data": {
      "text/plain": [
       "'david david '"
      ]
     },
     "execution_count": 10,
     "metadata": {},
     "output_type": "execute_result"
    }
   ],
   "source": [
    "(\"david\"+\" \")*2"
   ]
  },
  {
   "cell_type": "code",
   "execution_count": 11,
   "id": "6135d281-8d1e-4ef1-b4e7-84c771f1fd6a",
   "metadata": {},
   "outputs": [
    {
     "name": "stdout",
     "output_type": "stream",
     "text": [
      "add: 5\n"
     ]
    }
   ],
   "source": [
    "print(\"add:\", a+b)"
   ]
  },
  {
   "cell_type": "code",
   "execution_count": 12,
   "id": "2fc69afa-22e9-4065-b4fe-ef02c15baaed",
   "metadata": {},
   "outputs": [
    {
     "name": "stdout",
     "output_type": "stream",
     "text": [
      "subtract: -1\n"
     ]
    }
   ],
   "source": [
    "print(\"subtract:\", a-b)"
   ]
  },
  {
   "cell_type": "code",
   "execution_count": 13,
   "id": "7799986e-b835-41aa-b512-a6ec76091a1b",
   "metadata": {},
   "outputs": [
    {
     "name": "stdout",
     "output_type": "stream",
     "text": [
      "multiply: 6\n"
     ]
    }
   ],
   "source": [
    "print(\"multiply:\", a*b)"
   ]
  },
  {
   "cell_type": "code",
   "execution_count": 14,
   "id": "ec33f28e-2218-4c35-81b4-79220351f99a",
   "metadata": {},
   "outputs": [
    {
     "name": "stdout",
     "output_type": "stream",
     "text": [
      "power: 8\n"
     ]
    }
   ],
   "source": [
    "print(\"power:\", a**b)"
   ]
  },
  {
   "cell_type": "code",
   "execution_count": 32,
   "id": "6e62e08f-db0f-47ef-86fa-b6362b825a98",
   "metadata": {},
   "outputs": [
    {
     "name": "stdout",
     "output_type": "stream",
     "text": [
      "modular: 1\n"
     ]
    }
   ],
   "source": [
    "print(\"modular:\", 51%2)"
   ]
  },
  {
   "cell_type": "markdown",
   "id": "66f789df-b394-4ccb-a368-69098d6d61f8",
   "metadata": {},
   "source": [
    "\n",
    "### Division\n"
   ]
  },
  {
   "cell_type": "code",
   "execution_count": 19,
   "id": "79963183-29e0-4067-9817-2f6d8f7cd295",
   "metadata": {},
   "outputs": [
    {
     "name": "stdout",
     "output_type": "stream",
     "text": [
      "2.5\n"
     ]
    }
   ],
   "source": [
    "#division\n",
    "print(10/4)\n"
   ]
  },
  {
   "cell_type": "code",
   "execution_count": 21,
   "id": "9bceab1e-5c3f-4242-b3f9-48f99de2b79f",
   "metadata": {},
   "outputs": [
    {
     "name": "stdout",
     "output_type": "stream",
     "text": [
      "2\n"
     ]
    }
   ],
   "source": [
    "print(10//4)"
   ]
  },
  {
   "cell_type": "markdown",
   "id": "670ab450-fe09-4b81-baa3-673a0401465f",
   "metadata": {},
   "source": [
    "### Comparison\n",
    "\n",
    ">, <, <=, >=, !=,  == "
   ]
  },
  {
   "cell_type": "code",
   "execution_count": 22,
   "id": "1804d3a2-2718-4b74-9690-b441fadc537b",
   "metadata": {},
   "outputs": [
    {
     "data": {
      "text/plain": [
       "False"
      ]
     },
     "execution_count": 22,
     "metadata": {},
     "output_type": "execute_result"
    }
   ],
   "source": [
    "a==10"
   ]
  },
  {
   "cell_type": "code",
   "execution_count": 24,
   "id": "bf2435f5-7dac-4886-95dd-e2f0c1a20279",
   "metadata": {},
   "outputs": [
    {
     "data": {
      "text/plain": [
       "True"
      ]
     },
     "execution_count": 24,
     "metadata": {},
     "output_type": "execute_result"
    }
   ],
   "source": [
    "a==2"
   ]
  },
  {
   "cell_type": "markdown",
   "id": "6eb632a3-d122-4002-947c-828259a7cbe3",
   "metadata": {},
   "source": [
    "#### Logical operators\n",
    "not, and, or"
   ]
  },
  {
   "cell_type": "code",
   "execution_count": 26,
   "id": "2ab5cb14-6bc3-4f16-8e48-59a4829ebf2a",
   "metadata": {},
   "outputs": [
    {
     "data": {
      "text/plain": [
       "2"
      ]
     },
     "execution_count": 26,
     "metadata": {},
     "output_type": "execute_result"
    }
   ],
   "source": [
    "a"
   ]
  },
  {
   "cell_type": "code",
   "execution_count": null,
   "id": "ef54a15d-bfd8-423b-8615-48ba604b2ff0",
   "metadata": {},
   "outputs": [],
   "source": []
  },
  {
   "cell_type": "code",
   "execution_count": null,
   "id": "b6cc679b-29c2-437a-9b14-d815d9b54230",
   "metadata": {},
   "outputs": [],
   "source": []
  },
  {
   "cell_type": "markdown",
   "id": "087bf102-bccb-4ffb-ab60-6c8afcdfa548",
   "metadata": {},
   "source": [
    "### Data types and Operations\n",
    "* Data Types: Integers, Floats, Booleans, Strings\n",
    "* \n",
    "Operators: Arithmetic, Assignment, Comparison, Logical"
   ]
  },
  {
   "cell_type": "code",
   "execution_count": 33,
   "id": "30afc4f5-5159-49b4-9a15-b1cbc7a63cb1",
   "metadata": {},
   "outputs": [
    {
     "data": {
      "text/plain": [
       "int"
      ]
     },
     "execution_count": 33,
     "metadata": {},
     "output_type": "execute_result"
    }
   ],
   "source": [
    "type(22)    "
   ]
  },
  {
   "cell_type": "code",
   "execution_count": 34,
   "id": "b0a959e3-4b7c-40e7-9efa-6408fdc96f2d",
   "metadata": {},
   "outputs": [
    {
     "data": {
      "text/plain": [
       "str"
      ]
     },
     "execution_count": 34,
     "metadata": {},
     "output_type": "execute_result"
    }
   ],
   "source": [
    "type('2')"
   ]
  },
  {
   "cell_type": "code",
   "execution_count": 35,
   "id": "d0a57269-01aa-47d7-8aa4-54c197717608",
   "metadata": {},
   "outputs": [
    {
     "data": {
      "text/plain": [
       "bool"
      ]
     },
     "execution_count": 35,
     "metadata": {},
     "output_type": "execute_result"
    }
   ],
   "source": [
    "type(True)"
   ]
  },
  {
   "cell_type": "code",
   "execution_count": 36,
   "id": "f5c86923-d8d8-4d49-b417-aa6e0d3dd703",
   "metadata": {},
   "outputs": [
    {
     "data": {
      "text/plain": [
       "float"
      ]
     },
     "execution_count": 36,
     "metadata": {},
     "output_type": "execute_result"
    }
   ],
   "source": [
    "type(2.0)"
   ]
  },
  {
   "cell_type": "code",
   "execution_count": 37,
   "id": "6990e58c-80b2-479f-8b45-93d295f68fb4",
   "metadata": {},
   "outputs": [],
   "source": [
    "number=\"2\""
   ]
  },
  {
   "cell_type": "code",
   "execution_count": 39,
   "id": "1d1c0a89-05d6-4a66-9aad-89051dadd8e9",
   "metadata": {},
   "outputs": [
    {
     "data": {
      "text/plain": [
       "int"
      ]
     },
     "execution_count": 39,
     "metadata": {},
     "output_type": "execute_result"
    }
   ],
   "source": [
    "type(int(number)) #convert to integer"
   ]
  },
  {
   "cell_type": "code",
   "execution_count": 40,
   "id": "44d82add-5396-4dd5-b675-33be10462fbf",
   "metadata": {},
   "outputs": [
    {
     "data": {
      "text/plain": [
       "0"
      ]
     },
     "execution_count": 40,
     "metadata": {},
     "output_type": "execute_result"
    }
   ],
   "source": [
    "int(False)"
   ]
  },
  {
   "cell_type": "markdown",
   "id": "a958546a-1b2a-4ca5-81f9-8f0909c91f13",
   "metadata": {},
   "source": [
    "## Assigment operator"
   ]
  },
  {
   "cell_type": "code",
   "execution_count": null,
   "id": "395ee955-17af-4f36-8403-5541af334357",
   "metadata": {},
   "outputs": [],
   "source": [
    "a=12\n"
   ]
  },
  {
   "cell_type": "code",
   "execution_count": null,
   "id": "dfe862a4-a584-4723-99c7-173350122e36",
   "metadata": {},
   "outputs": [],
   "source": [
    "a"
   ]
  },
  {
   "cell_type": "markdown",
   "id": "9963786d-f976-4b9d-888e-7a4272bc17a5",
   "metadata": {},
   "source": [
    "### Arithmetic operators\n",
    "\n",
    "* addition, subtraction, division(integer,float), power, modular division\n",
    "* Built-In Functions, Type Conversion\n",
    "  \n",
    "In this quiz you're going to do some calculations for a tiler. Two parts of a floor need tiling. One part is 9 tiles wide by 7 tiles long, the other is 5 tiles wide by 7 tiles long. Tiles come in packages of 6.\n",
    "* \n",
    "How many tiles are neede\n",
    "\n",
    "* ?\n",
    "You buy 17 packages of tiles containing 6 tiles each. How many tiles will be left over?"
   ]
  },
  {
   "cell_type": "code",
   "execution_count": null,
   "id": "f3f90fa3-1f12-470e-8167-79e84f1fe7e1",
   "metadata": {},
   "outputs": [],
   "source": [
    "print(a+a, a-2, a//5,  a/5)"
   ]
  },
  {
   "cell_type": "code",
   "execution_count": null,
   "id": "da4c8150-b1cb-4673-b4d9-3667adb3da20",
   "metadata": {},
   "outputs": [],
   "source": [
    "a**2"
   ]
  },
  {
   "cell_type": "code",
   "execution_count": null,
   "id": "eb098d3d-a1b5-42b8-bc24-1276999097df",
   "metadata": {},
   "outputs": [],
   "source": [
    "a%2"
   ]
  },
  {
   "cell_type": "markdown",
   "id": "8afc6484-3ab0-492e-bc2c-8df731765bb4",
   "metadata": {},
   "source": [
    "Built-In Functions, Type Conversion\n",
    "\n",
    "Booleans, Comparison Operators, and Logical Operators\n",
    "\n",
    "True, False, ==, <, >, <=, >=, !=,  or and,  not\n"
   ]
  },
  {
   "cell_type": "code",
   "execution_count": null,
   "id": "c04d5bb0-a1c3-4b23-bc4f-2c9626ed617b",
   "metadata": {},
   "outputs": [],
   "source": []
  },
  {
   "cell_type": "markdown",
   "id": "ed539e19-d137-491a-80d4-2b04a6e59442",
   "metadata": {},
   "source": [
    "## Data Structures\n",
    "\n",
    "Lists, tuples, dictionaries, sets\n",
    "\n",
    "List methods: len, sum, sorted, \n"
   ]
  },
  {
   "cell_type": "code",
   "execution_count": 42,
   "id": "3fac1062-acc8-46e4-9e26-3a7c79b2405c",
   "metadata": {},
   "outputs": [],
   "source": [
    "#list\n",
    "names = [\"Carol\", \"Albert\", \"Ben\", \"Donna\"]\n",
    "sb=[2,4,5,6,8,8]\n",
    "list1=[[4,5],['3','come', True, False], 4]"
   ]
  },
  {
   "cell_type": "code",
   "execution_count": 46,
   "id": "bd046212-488a-4701-93f6-f97e08ee0d13",
   "metadata": {},
   "outputs": [
    {
     "data": {
      "text/plain": [
       "['Carol', 'Albert', 'Ben', 'Donna']"
      ]
     },
     "execution_count": 46,
     "metadata": {},
     "output_type": "execute_result"
    }
   ],
   "source": [
    "names"
   ]
  },
  {
   "cell_type": "code",
   "execution_count": 51,
   "id": "20e13cdc-6ff4-469f-b30f-2b0f7611a314",
   "metadata": {},
   "outputs": [
    {
     "name": "stdout",
     "output_type": "stream",
     "text": [
      "Carol , Donna\n"
     ]
    }
   ],
   "source": [
    "print(names[0],',', names[3])"
   ]
  },
  {
   "cell_type": "code",
   "execution_count": 58,
   "id": "68ca0546-292b-45f6-9e96-0c99f2657265",
   "metadata": {},
   "outputs": [],
   "source": [
    "names[-1]=3"
   ]
  },
  {
   "cell_type": "code",
   "execution_count": 53,
   "id": "87ad1fe8-64be-4586-86d2-fbae11607c75",
   "metadata": {},
   "outputs": [
    {
     "data": {
      "text/plain": [
       "'Ben'"
      ]
     },
     "execution_count": 53,
     "metadata": {},
     "output_type": "execute_result"
    }
   ],
   "source": [
    "names[-2]"
   ]
  },
  {
   "cell_type": "code",
   "execution_count": 55,
   "id": "3cd38220-5d3b-45e2-a4fc-c04eaa5fee5f",
   "metadata": {},
   "outputs": [
    {
     "data": {
      "text/plain": [
       "['Carol', 'Albert', 'Ben']"
      ]
     },
     "execution_count": 55,
     "metadata": {},
     "output_type": "execute_result"
    }
   ],
   "source": [
    "names[0:3]"
   ]
  },
  {
   "cell_type": "code",
   "execution_count": 56,
   "id": "aeaa7b22-a2df-41a0-a7f1-4eb616eed0b0",
   "metadata": {},
   "outputs": [
    {
     "data": {
      "text/plain": [
       "['Ben', 'Donna']"
      ]
     },
     "execution_count": 56,
     "metadata": {},
     "output_type": "execute_result"
    }
   ],
   "source": [
    "names[2:]"
   ]
  },
  {
   "cell_type": "code",
   "execution_count": 57,
   "id": "aef34525-563a-468a-bae5-72e78957d14b",
   "metadata": {},
   "outputs": [
    {
     "data": {
      "text/plain": [
       "['Carol', 'Albert']"
      ]
     },
     "execution_count": 57,
     "metadata": {},
     "output_type": "execute_result"
    }
   ],
   "source": [
    "names[:-2]"
   ]
  },
  {
   "cell_type": "code",
   "execution_count": 59,
   "id": "4811ad0d-5c81-48ce-b524-4bf0d98a5cda",
   "metadata": {},
   "outputs": [
    {
     "data": {
      "text/plain": [
       "['Carol', 'Albert', 'Ben', 3]"
      ]
     },
     "execution_count": 59,
     "metadata": {},
     "output_type": "execute_result"
    }
   ],
   "source": [
    "names"
   ]
  },
  {
   "cell_type": "markdown",
   "id": "cb04477c-eb45-47af-9382-c8fbc4a93193",
   "metadata": {},
   "source": [
    "### Tuple"
   ]
  },
  {
   "cell_type": "code",
   "execution_count": 60,
   "id": "53a02718-ccd5-4f97-881a-7344cb39de2d",
   "metadata": {},
   "outputs": [],
   "source": [
    "sb1=(2,4,5,6,8,8)"
   ]
  },
  {
   "cell_type": "markdown",
   "id": "3c53e493-9593-4f68-9875-56b6248b4c20",
   "metadata": {},
   "source": [
    "## sets"
   ]
  },
  {
   "cell_type": "code",
   "execution_count": 64,
   "id": "4f2bfcf8-3e86-4f07-b94e-f1221ad57276",
   "metadata": {},
   "outputs": [],
   "source": [
    "set1=set(sb1)"
   ]
  },
  {
   "cell_type": "code",
   "execution_count": 65,
   "id": "d12f74e5-318d-4fb2-bae7-2b82ba454db2",
   "metadata": {},
   "outputs": [
    {
     "data": {
      "text/plain": [
       "{2, 4, 5, 6, 8}"
      ]
     },
     "execution_count": 65,
     "metadata": {},
     "output_type": "execute_result"
    }
   ],
   "source": [
    "set1"
   ]
  },
  {
   "cell_type": "markdown",
   "id": "08b06e8f-cf01-4d80-a44a-f82f913c6f81",
   "metadata": {},
   "source": [
    "## dictionary"
   ]
  },
  {
   "cell_type": "code",
   "execution_count": 66,
   "id": "5f497f91-d828-434c-a12d-29c99a062e3c",
   "metadata": {},
   "outputs": [],
   "source": [
    "dic1 = {\"a\": 11, \"b\": 12, \"c\": 36, \"v\": True}"
   ]
  },
  {
   "cell_type": "code",
   "execution_count": 67,
   "id": "fc3c0248-b7e5-4f3f-9aa7-f60378a49b0c",
   "metadata": {},
   "outputs": [
    {
     "data": {
      "text/plain": [
       "dict"
      ]
     },
     "execution_count": 67,
     "metadata": {},
     "output_type": "execute_result"
    }
   ],
   "source": [
    "type(dic1)"
   ]
  },
  {
   "cell_type": "code",
   "execution_count": 69,
   "id": "0078fcc1-94d6-43d9-835f-4bcae601de52",
   "metadata": {},
   "outputs": [
    {
     "data": {
      "text/plain": [
       "dict_keys(['a', 'b', 'c', 'v'])"
      ]
     },
     "execution_count": 69,
     "metadata": {},
     "output_type": "execute_result"
    }
   ],
   "source": [
    "dic1.keys()"
   ]
  },
  {
   "cell_type": "code",
   "execution_count": 70,
   "id": "a7f79319-c05c-4c78-80c6-4c229b66ff39",
   "metadata": {},
   "outputs": [
    {
     "data": {
      "text/plain": [
       "dict_values([11, 12, 36, True])"
      ]
     },
     "execution_count": 70,
     "metadata": {},
     "output_type": "execute_result"
    }
   ],
   "source": [
    "dic1.values()"
   ]
  },
  {
   "cell_type": "code",
   "execution_count": null,
   "id": "72363d91-2a74-4182-a8bf-961529e8742e",
   "metadata": {},
   "outputs": [],
   "source": []
  },
  {
   "cell_type": "markdown",
   "id": "5c5c27f7-a1e9-49b9-910d-f0e742edba30",
   "metadata": {},
   "source": [
    "## control flows\n",
    "\n",
    "If statements\n",
    "If, Elif, Else"
   ]
  },
  {
   "cell_type": "code",
   "execution_count": 71,
   "id": "c6a48472-dd84-48bc-9f3b-afdb7f7449fd",
   "metadata": {},
   "outputs": [
    {
     "name": "stdout",
     "output_type": "stream",
     "text": [
      "Proceed with the class\n"
     ]
    }
   ],
   "source": [
    "#if we have 5 students, the class will proceed\n",
    "n=6\n",
    "if n >= 5:\n",
    "    print('Proceed with the class')"
   ]
  },
  {
   "cell_type": "code",
   "execution_count": 72,
   "id": "6caa3733-82b4-4610-b930-977f0500f570",
   "metadata": {},
   "outputs": [],
   "source": [
    "n=4\n",
    "if n >= 5:\n",
    "    print('Proceed with the class')"
   ]
  },
  {
   "cell_type": "code",
   "execution_count": 73,
   "id": "30ddcfb5-f1b0-4010-bd9b-61a1e3d463cf",
   "metadata": {},
   "outputs": [],
   "source": [
    "#if we have 5 students, the class will proceed otherwise do not"
   ]
  },
  {
   "cell_type": "code",
   "execution_count": 75,
   "id": "7fe11c9a-1e64-4fd2-903d-f3f49e70eeb4",
   "metadata": {},
   "outputs": [
    {
     "name": "stdout",
     "output_type": "stream",
     "text": [
      "Proceed with the class\n"
     ]
    }
   ],
   "source": [
    "n=13\n",
    "if n>=5:\n",
    "    print('Proceed with the class')\n",
    "else:\n",
    "    print('Do not proceed with the class')"
   ]
  },
  {
   "cell_type": "code",
   "execution_count": 76,
   "id": "86636229-a005-44e9-b92b-32066879cd85",
   "metadata": {},
   "outputs": [],
   "source": [
    "# grading: F:<40, pass 40 <= x< 50, Second class above 50, first class above or equal to 70  "
   ]
  },
  {
   "cell_type": "code",
   "execution_count": 80,
   "id": "14e30107-63bd-413e-a336-af4f14b48d4d",
   "metadata": {
    "scrolled": true
   },
   "outputs": [
    {
     "name": "stdout",
     "output_type": "stream",
     "text": [
      "pass\n"
     ]
    }
   ],
   "source": [
    "marks= 40\n",
    "if marks <40:\n",
    "    print('Fail')\n",
    "elif marks < 50:\n",
    "    print('pass')\n",
    "elif marks < 70:\n",
    "    print('Second class upper or Lower')\n",
    "else:\n",
    "    print('first class')"
   ]
  },
  {
   "cell_type": "code",
   "execution_count": 81,
   "id": "968ea41b-a8f1-47bd-84a4-e3a616851552",
   "metadata": {},
   "outputs": [],
   "source": [
    "# grading: Fail:<40, passed 40 <= x<= 100, (marks > 100) or (marks < 0): Invalid score  "
   ]
  },
  {
   "cell_type": "code",
   "execution_count": null,
   "id": "d2780b7c-8671-4254-91c5-fe26fe092361",
   "metadata": {},
   "outputs": [],
   "source": []
  },
  {
   "cell_type": "markdown",
   "id": "f30b6455-013d-4c30-b99e-d501e4d29dd9",
   "metadata": {},
   "source": [
    "loops\n",
    "For and while loop\n",
    "\n",
    "\n",
    "## Functions"
   ]
  },
  {
   "cell_type": "markdown",
   "id": "e987b740-eb7b-4432-9b43-8d1c5c0aef8c",
   "metadata": {},
   "source": [
    "Population Density Function\n",
    "Write a function named population_density that takes two arguments, population and land_area, and returns a population density calculated from those values.\n",
    "\n",
    "\n",
    "Find area, average, standard deviation, median, mode\n"
   ]
  },
  {
   "cell_type": "code",
   "execution_count": 92,
   "id": "0bf8cfc2-b2c9-4885-a440-b521a1cd3471",
   "metadata": {},
   "outputs": [],
   "source": [
    "def add2numbers(a,b):\n",
    "    '''\n",
    "    This function calculates the sum of two numbers and returns a number\n",
    "    Arguments a = number, b=number    \n",
    "    '''\n",
    "    return a+b"
   ]
  },
  {
   "cell_type": "code",
   "execution_count": 87,
   "id": "224044da-bfb0-4edc-8788-19f3b6bf673c",
   "metadata": {},
   "outputs": [],
   "source": [
    "v=add2numbers(10,7)"
   ]
  },
  {
   "cell_type": "code",
   "execution_count": 85,
   "id": "0fc1cbc8-99a9-4c40-a2e4-107e51a17055",
   "metadata": {},
   "outputs": [],
   "source": [
    "var2=10+7"
   ]
  },
  {
   "cell_type": "code",
   "execution_count": 86,
   "id": "4a9be318-5846-4ff5-b564-94a17ddb178f",
   "metadata": {},
   "outputs": [
    {
     "data": {
      "text/plain": [
       "17"
      ]
     },
     "execution_count": 86,
     "metadata": {},
     "output_type": "execute_result"
    }
   ],
   "source": [
    "var2"
   ]
  },
  {
   "cell_type": "code",
   "execution_count": 88,
   "id": "a6833979-4fb4-48c2-8da4-8eaa2da23886",
   "metadata": {},
   "outputs": [
    {
     "data": {
      "text/plain": [
       "17"
      ]
     },
     "execution_count": 88,
     "metadata": {},
     "output_type": "execute_result"
    }
   ],
   "source": [
    "v"
   ]
  },
  {
   "cell_type": "code",
   "execution_count": 91,
   "id": "34736bc1-6435-4e97-9b4b-850e47d0377d",
   "metadata": {},
   "outputs": [],
   "source": [
    "#area of a triangle with base = 24, hypotenuse= 25: \n",
    "#defne the function and class it\n",
    "# area= (base * height)/2\n",
    "#height=(hypotenuse**2 -base**2)**(1/2)"
   ]
  },
  {
   "cell_type": "code",
   "execution_count": 95,
   "id": "95bbbc3e-7e1e-4347-aef3-96eeeb7e2030",
   "metadata": {},
   "outputs": [],
   "source": [
    "def area_of_tri(base,hyp):\n",
    "    hei=(hyp**2 - base**2)**0.5\n",
    "    area=0.5*base*hei\n",
    "    return area"
   ]
  },
  {
   "cell_type": "code",
   "execution_count": 96,
   "id": "23613414-6a83-4993-80b3-84016fba1a17",
   "metadata": {},
   "outputs": [
    {
     "data": {
      "text/plain": [
       "84.0"
      ]
     },
     "execution_count": 96,
     "metadata": {},
     "output_type": "execute_result"
    }
   ],
   "source": [
    "area_of_tri(24,25)"
   ]
  },
  {
   "cell_type": "code",
   "execution_count": 97,
   "id": "75c3a28d-e28b-488d-9fd7-a2bc9db18962",
   "metadata": {},
   "outputs": [
    {
     "data": {
      "text/plain": [
       "6"
      ]
     },
     "execution_count": 97,
     "metadata": {},
     "output_type": "execute_result"
    }
   ],
   "source": [
    "lis=[3,2,4,8,9,8]\n",
    "len(lis)"
   ]
  },
  {
   "cell_type": "code",
   "execution_count": 99,
   "id": "ec21e196-3def-47f4-8f40-fce4d4266132",
   "metadata": {},
   "outputs": [
    {
     "data": {
      "text/plain": [
       "34"
      ]
     },
     "execution_count": 99,
     "metadata": {},
     "output_type": "execute_result"
    }
   ],
   "source": [
    "s=sum(lis)\n",
    "s"
   ]
  },
  {
   "cell_type": "code",
   "execution_count": 100,
   "id": "28cd1afb-4c82-45fa-b508-eebd664e6134",
   "metadata": {},
   "outputs": [
    {
     "data": {
      "text/plain": [
       "5.666666666666667"
      ]
     },
     "execution_count": 100,
     "metadata": {},
     "output_type": "execute_result"
    }
   ],
   "source": [
    "sum(lis)/len(lis)"
   ]
  },
  {
   "cell_type": "code",
   "execution_count": 101,
   "id": "11248dd0-5193-4b2a-a301-de23a685abe8",
   "metadata": {},
   "outputs": [],
   "source": [
    "def average_f(a_list):\n",
    "    return sum(a_list)/len(a_list)"
   ]
  },
  {
   "cell_type": "code",
   "execution_count": 102,
   "id": "6bf4fc22-7b84-4d40-84df-f2e23064239f",
   "metadata": {},
   "outputs": [
    {
     "data": {
      "text/plain": [
       "5.666666666666667"
      ]
     },
     "execution_count": 102,
     "metadata": {},
     "output_type": "execute_result"
    }
   ],
   "source": [
    "average_f(lis)"
   ]
  },
  {
   "cell_type": "code",
   "execution_count": 103,
   "id": "cef7708b-a4c7-471a-9c6f-f504de44ccd0",
   "metadata": {},
   "outputs": [
    {
     "data": {
      "text/plain": [
       "[3, 2, 4, 8, 9, 8]"
      ]
     },
     "execution_count": 103,
     "metadata": {},
     "output_type": "execute_result"
    }
   ],
   "source": [
    "lis"
   ]
  },
  {
   "cell_type": "code",
   "execution_count": 104,
   "id": "9131485e-42a2-4bda-aac9-87703c211f8d",
   "metadata": {},
   "outputs": [
    {
     "name": "stdout",
     "output_type": "stream",
     "text": [
      "3\n",
      "2\n",
      "4\n",
      "8\n",
      "9\n",
      "8\n"
     ]
    }
   ],
   "source": [
    "for i in lis:\n",
    "    print(i)"
   ]
  },
  {
   "cell_type": "code",
   "execution_count": 107,
   "id": "e583e6f0-cea4-4bd9-9180-d085bfc35654",
   "metadata": {},
   "outputs": [
    {
     "name": "stdout",
     "output_type": "stream",
     "text": [
      "34\n"
     ]
    }
   ],
   "source": [
    "sum1=0\n",
    "for i in lis:\n",
    "    sum1=sum1+i\n",
    "print(sum1)\n"
   ]
  },
  {
   "cell_type": "code",
   "execution_count": 112,
   "id": "becac9f8-9b30-4fff-ad04-ea4060a113f3",
   "metadata": {},
   "outputs": [
    {
     "name": "stdout",
     "output_type": "stream",
     "text": [
      "34\n"
     ]
    }
   ],
   "source": [
    "sum1=0\n",
    "for i in lis:\n",
    "    sum1+=i\n",
    "print(sum1)"
   ]
  },
  {
   "cell_type": "code",
   "execution_count": 116,
   "id": "8b6f6d11-1919-47ec-9a6e-f338d61510a9",
   "metadata": {},
   "outputs": [
    {
     "name": "stdout",
     "output_type": "stream",
     "text": [
      "5 : 8\n",
      "4 : 9\n",
      "3 : 8\n",
      "2 : 4\n",
      "1 : 2\n",
      "0 : 3\n"
     ]
    }
   ],
   "source": [
    "n0=len(lis)\n",
    "while n0>0:\n",
    "    n0=n0-1\n",
    "    print(n0,':', lis[n0])"
   ]
  },
  {
   "cell_type": "code",
   "execution_count": 119,
   "id": "1dd42adf-6847-46df-8548-7519bd7ad4bf",
   "metadata": {},
   "outputs": [],
   "source": [
    "import numpy as np\n",
    "import pandas as pd"
   ]
  },
  {
   "cell_type": "code",
   "execution_count": 120,
   "id": "1b93b90d-7dca-4255-9876-03ebdd9e0cf1",
   "metadata": {},
   "outputs": [],
   "source": [
    "lis1=np.array([3,2,4,8,9,8])"
   ]
  },
  {
   "cell_type": "code",
   "execution_count": 121,
   "id": "450fad33-a3df-46a6-9905-e02a1393873b",
   "metadata": {},
   "outputs": [
    {
     "data": {
      "text/plain": [
       "array([3, 2, 4, 8, 9, 8])"
      ]
     },
     "execution_count": 121,
     "metadata": {},
     "output_type": "execute_result"
    }
   ],
   "source": [
    "lis1"
   ]
  },
  {
   "cell_type": "code",
   "execution_count": 122,
   "id": "3fa4abab-827f-448f-8bcf-0ba4b13427b3",
   "metadata": {},
   "outputs": [
    {
     "data": {
      "text/plain": [
       "numpy.ndarray"
      ]
     },
     "execution_count": 122,
     "metadata": {},
     "output_type": "execute_result"
    }
   ],
   "source": [
    "type(lis1)"
   ]
  },
  {
   "cell_type": "code",
   "execution_count": 127,
   "id": "bca364d1-0651-4d06-bdd8-e29ace450ed4",
   "metadata": {},
   "outputs": [],
   "source": [
    "dict2={'names':['james','david','Emmanuel','john'], 'age':[32,26,28,30], 'experience':[3,5,4,6]}"
   ]
  },
  {
   "cell_type": "code",
   "execution_count": 128,
   "id": "906442bf-42b5-411e-a595-1285852ea7fb",
   "metadata": {},
   "outputs": [],
   "source": [
    "df=pd.DataFrame(dict2)"
   ]
  },
  {
   "cell_type": "code",
   "execution_count": 129,
   "id": "01ceae8f-955f-426b-8764-7fd67219c217",
   "metadata": {},
   "outputs": [
    {
     "data": {
      "text/html": [
       "<div>\n",
       "<style scoped>\n",
       "    .dataframe tbody tr th:only-of-type {\n",
       "        vertical-align: middle;\n",
       "    }\n",
       "\n",
       "    .dataframe tbody tr th {\n",
       "        vertical-align: top;\n",
       "    }\n",
       "\n",
       "    .dataframe thead th {\n",
       "        text-align: right;\n",
       "    }\n",
       "</style>\n",
       "<table border=\"1\" class=\"dataframe\">\n",
       "  <thead>\n",
       "    <tr style=\"text-align: right;\">\n",
       "      <th></th>\n",
       "      <th>names</th>\n",
       "      <th>age</th>\n",
       "      <th>experience</th>\n",
       "    </tr>\n",
       "  </thead>\n",
       "  <tbody>\n",
       "    <tr>\n",
       "      <th>0</th>\n",
       "      <td>james</td>\n",
       "      <td>32</td>\n",
       "      <td>3</td>\n",
       "    </tr>\n",
       "    <tr>\n",
       "      <th>1</th>\n",
       "      <td>david</td>\n",
       "      <td>26</td>\n",
       "      <td>5</td>\n",
       "    </tr>\n",
       "    <tr>\n",
       "      <th>2</th>\n",
       "      <td>Emmanuel</td>\n",
       "      <td>28</td>\n",
       "      <td>4</td>\n",
       "    </tr>\n",
       "    <tr>\n",
       "      <th>3</th>\n",
       "      <td>john</td>\n",
       "      <td>30</td>\n",
       "      <td>6</td>\n",
       "    </tr>\n",
       "  </tbody>\n",
       "</table>\n",
       "</div>"
      ],
      "text/plain": [
       "      names  age  experience\n",
       "0     james   32           3\n",
       "1     david   26           5\n",
       "2  Emmanuel   28           4\n",
       "3      john   30           6"
      ]
     },
     "execution_count": 129,
     "metadata": {},
     "output_type": "execute_result"
    }
   ],
   "source": [
    "df"
   ]
  },
  {
   "cell_type": "code",
   "execution_count": 130,
   "id": "65065840-07c8-4092-aa98-a687e7fc3515",
   "metadata": {},
   "outputs": [
    {
     "data": {
      "text/plain": [
       "(4, 3)"
      ]
     },
     "execution_count": 130,
     "metadata": {},
     "output_type": "execute_result"
    }
   ],
   "source": [
    "df.shape"
   ]
  },
  {
   "cell_type": "code",
   "execution_count": 131,
   "id": "9a69e05e-f158-4af4-8666-c873fdecfdd0",
   "metadata": {},
   "outputs": [
    {
     "name": "stdout",
     "output_type": "stream",
     "text": [
      "<class 'pandas.core.frame.DataFrame'>\n",
      "RangeIndex: 4 entries, 0 to 3\n",
      "Data columns (total 3 columns):\n",
      " #   Column      Non-Null Count  Dtype \n",
      "---  ------      --------------  ----- \n",
      " 0   names       4 non-null      object\n",
      " 1   age         4 non-null      int64 \n",
      " 2   experience  4 non-null      int64 \n",
      "dtypes: int64(2), object(1)\n",
      "memory usage: 228.0+ bytes\n"
     ]
    }
   ],
   "source": [
    "df.info()"
   ]
  },
  {
   "cell_type": "code",
   "execution_count": 3,
   "id": "b0e59da7-c6e0-4509-8db4-ec97c9c4d1c4",
   "metadata": {},
   "outputs": [],
   "source": [
    "#import libraries\n",
    "import numpy as np\n",
    "import pandas as pd"
   ]
  },
  {
   "cell_type": "code",
   "execution_count": 24,
   "id": "f980beae-e993-4f63-8e89-aa0215957b03",
   "metadata": {},
   "outputs": [],
   "source": [
    "np1=np.array([3,5,7,9,11,13,15])"
   ]
  },
  {
   "cell_type": "code",
   "execution_count": 5,
   "id": "9ffcca44-8f56-4ef3-8b08-99f4fa6378df",
   "metadata": {},
   "outputs": [
    {
     "data": {
      "text/plain": [
       "array([ 3,  5,  7,  9, 11, 13, 15])"
      ]
     },
     "execution_count": 5,
     "metadata": {},
     "output_type": "execute_result"
    }
   ],
   "source": [
    "np1"
   ]
  },
  {
   "cell_type": "code",
   "execution_count": 6,
   "id": "b9d5c934-6ecf-493a-b796-29cac8f476e8",
   "metadata": {},
   "outputs": [
    {
     "data": {
      "text/plain": [
       "numpy.ndarray"
      ]
     },
     "execution_count": 6,
     "metadata": {},
     "output_type": "execute_result"
    }
   ],
   "source": [
    "#check type\n",
    "type(np1)"
   ]
  },
  {
   "cell_type": "code",
   "execution_count": 19,
   "id": "ebbb40f4-0729-4741-912a-48c83db64aeb",
   "metadata": {},
   "outputs": [],
   "source": [
    "sum1=np1.sum() #sum of elements"
   ]
  },
  {
   "cell_type": "code",
   "execution_count": 23,
   "id": "44bd22dd-2d9c-4234-9b5e-fa9b8ce763bf",
   "metadata": {},
   "outputs": [
    {
     "name": "stdout",
     "output_type": "stream",
     "text": [
      "63\n"
     ]
    }
   ],
   "source": [
    "print(sum1)"
   ]
  },
  {
   "cell_type": "code",
   "execution_count": 20,
   "id": "ead0e764-5e34-4b0e-aa54-abf5c5acaa5a",
   "metadata": {},
   "outputs": [],
   "source": [
    "len1=len(np1) # number of elements"
   ]
  },
  {
   "cell_type": "markdown",
   "id": "2b365bd8-00f7-4184-9b1c-f8e261555afe",
   "metadata": {},
   "source": [
    "### mean"
   ]
  },
  {
   "cell_type": "code",
   "execution_count": 18,
   "id": "c83a1964-ae84-457c-bb3d-b5f82b27e0ac",
   "metadata": {},
   "outputs": [
    {
     "data": {
      "text/plain": [
       "9.0"
      ]
     },
     "execution_count": 18,
     "metadata": {},
     "output_type": "execute_result"
    }
   ],
   "source": [
    "np1.mean()"
   ]
  },
  {
   "cell_type": "code",
   "execution_count": 21,
   "id": "08554c82-fed6-41a3-b59b-d86971a9ab81",
   "metadata": {},
   "outputs": [
    {
     "name": "stdout",
     "output_type": "stream",
     "text": [
      "9.0\n"
     ]
    }
   ],
   "source": [
    "mean=sum1/len1\n",
    "print(mean)"
   ]
  },
  {
   "cell_type": "code",
   "execution_count": 27,
   "id": "9e03bb79-4c2c-49ff-b4b5-c4bfce3de99a",
   "metadata": {},
   "outputs": [],
   "source": [
    "def summation(list1):\n",
    "    sum3=0\n",
    "    for number in list1:\n",
    "        sum3=sum3+number\n",
    "    return sum3     \n",
    "\n",
    "def average1(list1):\n",
    "    sum3=0\n",
    "    for number in list1:\n",
    "        sum3=sum3+number\n",
    "    return sum3/len(list1)  \n",
    "    "
   ]
  },
  {
   "cell_type": "code",
   "execution_count": 26,
   "id": "c65f309e-e0ea-44da-877e-aa8d4fc9021d",
   "metadata": {},
   "outputs": [
    {
     "data": {
      "text/plain": [
       "63"
      ]
     },
     "execution_count": 26,
     "metadata": {},
     "output_type": "execute_result"
    }
   ],
   "source": [
    "summation(np1)"
   ]
  },
  {
   "cell_type": "code",
   "execution_count": 31,
   "id": "ed09fc29-654a-43f5-ab58-87c42bc9a20b",
   "metadata": {},
   "outputs": [
    {
     "data": {
      "text/plain": [
       "9.0"
      ]
     },
     "execution_count": 31,
     "metadata": {},
     "output_type": "execute_result"
    }
   ],
   "source": [
    "average1(np1)"
   ]
  },
  {
   "cell_type": "code",
   "execution_count": 35,
   "id": "b191db42-5fdf-40e0-8795-ae242dd64e8b",
   "metadata": {},
   "outputs": [
    {
     "data": {
      "text/plain": [
       "9.0"
      ]
     },
     "execution_count": 35,
     "metadata": {},
     "output_type": "execute_result"
    }
   ],
   "source": [
    "np.median(np1)"
   ]
  },
  {
   "cell_type": "code",
   "execution_count": 36,
   "id": "01c71f5c-4ec3-4ee7-8863-b360ce053b61",
   "metadata": {},
   "outputs": [
    {
     "data": {
      "text/plain": [
       "array([ 3,  5,  7,  9, 11, 13, 15])"
      ]
     },
     "execution_count": 36,
     "metadata": {},
     "output_type": "execute_result"
    }
   ],
   "source": [
    "np1"
   ]
  },
  {
   "cell_type": "code",
   "execution_count": 37,
   "id": "26553850-bc30-4eac-8597-ae9cbb8751c1",
   "metadata": {},
   "outputs": [],
   "source": [
    "np2=np.array([3,7,15,11,5,9,13])"
   ]
  },
  {
   "cell_type": "code",
   "execution_count": 38,
   "id": "31d3821a-e13d-46b4-b359-9f3fc47a9141",
   "metadata": {},
   "outputs": [
    {
     "data": {
      "text/plain": [
       "9.0"
      ]
     },
     "execution_count": 38,
     "metadata": {},
     "output_type": "execute_result"
    }
   ],
   "source": [
    "np.median(np2)"
   ]
  },
  {
   "cell_type": "markdown",
   "id": "8e0a1dc5-c565-4fbc-804f-758779ac4c5e",
   "metadata": {},
   "source": [
    "### Import a csv file into a python notebook"
   ]
  },
  {
   "cell_type": "code",
   "execution_count": 1,
   "id": "7bac57ff-a31e-41f7-8aef-07762e6dfe4a",
   "metadata": {},
   "outputs": [],
   "source": [
    "import requests"
   ]
  },
  {
   "cell_type": "code",
   "execution_count": 2,
   "id": "6a5992d9-aee3-4a59-a5a2-16f99dfba24d",
   "metadata": {},
   "outputs": [],
   "source": [
    "url=\"https://statso.io/wp-content/uploads/2024/02/food_orders_new_delhi.csv\"\n",
    "response=requests.get(url)\n",
    "with open('food_order.csv','wb') as file:\n",
    "    file.write(response.content)"
   ]
  },
  {
   "cell_type": "code",
   "execution_count": 4,
   "id": "7bf66c13-0c77-4e38-a3a3-938733ef554a",
   "metadata": {},
   "outputs": [
    {
     "data": {
      "text/html": [
       "<div>\n",
       "<style scoped>\n",
       "    .dataframe tbody tr th:only-of-type {\n",
       "        vertical-align: middle;\n",
       "    }\n",
       "\n",
       "    .dataframe tbody tr th {\n",
       "        vertical-align: top;\n",
       "    }\n",
       "\n",
       "    .dataframe thead th {\n",
       "        text-align: right;\n",
       "    }\n",
       "</style>\n",
       "<table border=\"1\" class=\"dataframe\">\n",
       "  <thead>\n",
       "    <tr style=\"text-align: right;\">\n",
       "      <th></th>\n",
       "      <th>Order ID</th>\n",
       "      <th>Customer ID</th>\n",
       "      <th>Restaurant ID</th>\n",
       "      <th>Order Date and Time</th>\n",
       "      <th>Delivery Date and Time</th>\n",
       "      <th>Order Value</th>\n",
       "      <th>Delivery Fee</th>\n",
       "      <th>Payment Method</th>\n",
       "      <th>Discounts and Offers</th>\n",
       "      <th>Commission Fee</th>\n",
       "      <th>Payment Processing Fee</th>\n",
       "      <th>Refunds/Chargebacks</th>\n",
       "    </tr>\n",
       "  </thead>\n",
       "  <tbody>\n",
       "    <tr>\n",
       "      <th>0</th>\n",
       "      <td>1</td>\n",
       "      <td>C8270</td>\n",
       "      <td>R2924</td>\n",
       "      <td>2024-02-01 01:11:52</td>\n",
       "      <td>2024-02-01 02:39:52</td>\n",
       "      <td>1914</td>\n",
       "      <td>0</td>\n",
       "      <td>Credit Card</td>\n",
       "      <td>5% on App</td>\n",
       "      <td>150</td>\n",
       "      <td>47</td>\n",
       "      <td>0</td>\n",
       "    </tr>\n",
       "    <tr>\n",
       "      <th>1</th>\n",
       "      <td>2</td>\n",
       "      <td>C1860</td>\n",
       "      <td>R2054</td>\n",
       "      <td>2024-02-02 22:11:04</td>\n",
       "      <td>2024-02-02 22:46:04</td>\n",
       "      <td>986</td>\n",
       "      <td>40</td>\n",
       "      <td>Digital Wallet</td>\n",
       "      <td>10%</td>\n",
       "      <td>198</td>\n",
       "      <td>23</td>\n",
       "      <td>0</td>\n",
       "    </tr>\n",
       "    <tr>\n",
       "      <th>2</th>\n",
       "      <td>3</td>\n",
       "      <td>C6390</td>\n",
       "      <td>R2870</td>\n",
       "      <td>2024-01-31 05:54:35</td>\n",
       "      <td>2024-01-31 06:52:35</td>\n",
       "      <td>937</td>\n",
       "      <td>30</td>\n",
       "      <td>Cash on Delivery</td>\n",
       "      <td>15% New User</td>\n",
       "      <td>195</td>\n",
       "      <td>45</td>\n",
       "      <td>0</td>\n",
       "    </tr>\n",
       "    <tr>\n",
       "      <th>3</th>\n",
       "      <td>4</td>\n",
       "      <td>C6191</td>\n",
       "      <td>R2642</td>\n",
       "      <td>2024-01-16 22:52:49</td>\n",
       "      <td>2024-01-16 23:38:49</td>\n",
       "      <td>1463</td>\n",
       "      <td>50</td>\n",
       "      <td>Cash on Delivery</td>\n",
       "      <td>NaN</td>\n",
       "      <td>146</td>\n",
       "      <td>27</td>\n",
       "      <td>0</td>\n",
       "    </tr>\n",
       "    <tr>\n",
       "      <th>4</th>\n",
       "      <td>5</td>\n",
       "      <td>C6734</td>\n",
       "      <td>R2799</td>\n",
       "      <td>2024-01-29 01:19:30</td>\n",
       "      <td>2024-01-29 02:48:30</td>\n",
       "      <td>1992</td>\n",
       "      <td>30</td>\n",
       "      <td>Cash on Delivery</td>\n",
       "      <td>50 off Promo</td>\n",
       "      <td>130</td>\n",
       "      <td>50</td>\n",
       "      <td>0</td>\n",
       "    </tr>\n",
       "  </tbody>\n",
       "</table>\n",
       "</div>"
      ],
      "text/plain": [
       "   Order ID Customer ID Restaurant ID  Order Date and Time  \\\n",
       "0         1       C8270         R2924  2024-02-01 01:11:52   \n",
       "1         2       C1860         R2054  2024-02-02 22:11:04   \n",
       "2         3       C6390         R2870  2024-01-31 05:54:35   \n",
       "3         4       C6191         R2642  2024-01-16 22:52:49   \n",
       "4         5       C6734         R2799  2024-01-29 01:19:30   \n",
       "\n",
       "  Delivery Date and Time  Order Value  Delivery Fee    Payment Method  \\\n",
       "0    2024-02-01 02:39:52         1914             0       Credit Card   \n",
       "1    2024-02-02 22:46:04          986            40    Digital Wallet   \n",
       "2    2024-01-31 06:52:35          937            30  Cash on Delivery   \n",
       "3    2024-01-16 23:38:49         1463            50  Cash on Delivery   \n",
       "4    2024-01-29 02:48:30         1992            30  Cash on Delivery   \n",
       "\n",
       "  Discounts and Offers  Commission Fee  Payment Processing Fee  \\\n",
       "0            5% on App             150                      47   \n",
       "1                  10%             198                      23   \n",
       "2         15% New User             195                      45   \n",
       "3                  NaN             146                      27   \n",
       "4         50 off Promo             130                      50   \n",
       "\n",
       "   Refunds/Chargebacks  \n",
       "0                    0  \n",
       "1                    0  \n",
       "2                    0  \n",
       "3                    0  \n",
       "4                    0  "
      ]
     },
     "execution_count": 4,
     "metadata": {},
     "output_type": "execute_result"
    }
   ],
   "source": [
    "food_order=pd.read_csv('food_order.csv')\n",
    "food_order.head()"
   ]
  },
  {
   "cell_type": "code",
   "execution_count": null,
   "id": "56a37c5f-1a6b-4262-ba8b-24f709913ff6",
   "metadata": {},
   "outputs": [],
   "source": []
  },
  {
   "cell_type": "code",
   "execution_count": null,
   "id": "266a472a-b2bb-49a3-b28f-df10d11258e6",
   "metadata": {},
   "outputs": [],
   "source": []
  },
  {
   "cell_type": "code",
   "execution_count": 40,
   "id": "a224b4b5-874e-4b36-a3fb-e72bd6257e57",
   "metadata": {},
   "outputs": [],
   "source": [
    "link=\"https://raw.githubusercontent.com/cloudxlab/ml/master/machine_learning/datasets/housing/housing.csv\"\n",
    "request=requests.get(link)"
   ]
  },
  {
   "cell_type": "code",
   "execution_count": 46,
   "id": "dc3c2262-e9d5-4312-9ba8-8f7b9910ffc2",
   "metadata": {},
   "outputs": [],
   "source": [
    "with open(\"housing.csv\",'wb') as file:\n",
    "    file.write(request.content)"
   ]
  },
  {
   "cell_type": "code",
   "execution_count": 47,
   "id": "1076e1c4-655c-43fe-8e09-553117a7faa4",
   "metadata": {},
   "outputs": [],
   "source": [
    "housing_df=pd.read_csv(\"housing.csv\")"
   ]
  },
  {
   "cell_type": "code",
   "execution_count": 53,
   "id": "c67ec7e8-dd49-453e-b5a2-f7a5db315b19",
   "metadata": {},
   "outputs": [
    {
     "data": {
      "text/html": [
       "<div>\n",
       "<style scoped>\n",
       "    .dataframe tbody tr th:only-of-type {\n",
       "        vertical-align: middle;\n",
       "    }\n",
       "\n",
       "    .dataframe tbody tr th {\n",
       "        vertical-align: top;\n",
       "    }\n",
       "\n",
       "    .dataframe thead th {\n",
       "        text-align: right;\n",
       "    }\n",
       "</style>\n",
       "<table border=\"1\" class=\"dataframe\">\n",
       "  <thead>\n",
       "    <tr style=\"text-align: right;\">\n",
       "      <th></th>\n",
       "      <th>longitude</th>\n",
       "      <th>latitude</th>\n",
       "      <th>housing_median_age</th>\n",
       "      <th>total_rooms</th>\n",
       "      <th>total_bedrooms</th>\n",
       "      <th>population</th>\n",
       "      <th>households</th>\n",
       "      <th>median_income</th>\n",
       "      <th>median_house_value</th>\n",
       "      <th>ocean_proximity</th>\n",
       "    </tr>\n",
       "  </thead>\n",
       "  <tbody>\n",
       "    <tr>\n",
       "      <th>0</th>\n",
       "      <td>-122.23</td>\n",
       "      <td>37.88</td>\n",
       "      <td>41.0</td>\n",
       "      <td>880.0</td>\n",
       "      <td>129.0</td>\n",
       "      <td>322.0</td>\n",
       "      <td>126.0</td>\n",
       "      <td>8.3252</td>\n",
       "      <td>452600.0</td>\n",
       "      <td>NEAR BAY</td>\n",
       "    </tr>\n",
       "  </tbody>\n",
       "</table>\n",
       "</div>"
      ],
      "text/plain": [
       "   longitude  latitude  housing_median_age  total_rooms  total_bedrooms  \\\n",
       "0    -122.23     37.88                41.0        880.0           129.0   \n",
       "\n",
       "   population  households  median_income  median_house_value ocean_proximity  \n",
       "0       322.0       126.0         8.3252            452600.0        NEAR BAY  "
      ]
     },
     "execution_count": 53,
     "metadata": {},
     "output_type": "execute_result"
    }
   ],
   "source": [
    "housing_df.head(1)"
   ]
  },
  {
   "cell_type": "code",
   "execution_count": 54,
   "id": "a89f0347-9490-4d09-a2c9-c93559b46d83",
   "metadata": {},
   "outputs": [
    {
     "data": {
      "text/plain": [
       "(20640, 10)"
      ]
     },
     "execution_count": 54,
     "metadata": {},
     "output_type": "execute_result"
    }
   ],
   "source": [
    "housing_df.shape"
   ]
  },
  {
   "cell_type": "code",
   "execution_count": 56,
   "id": "fe1ac69d-3ec1-4cfc-8184-e8db9bdc7e48",
   "metadata": {},
   "outputs": [
    {
     "data": {
      "text/plain": [
       "10"
      ]
     },
     "execution_count": 56,
     "metadata": {},
     "output_type": "execute_result"
    }
   ],
   "source": [
    "housing_df.shape[1]"
   ]
  },
  {
   "cell_type": "code",
   "execution_count": 57,
   "id": "c774700a-972e-443c-b569-adf38e318569",
   "metadata": {},
   "outputs": [
    {
     "name": "stdout",
     "output_type": "stream",
     "text": [
      "<class 'pandas.core.frame.DataFrame'>\n",
      "RangeIndex: 20640 entries, 0 to 20639\n",
      "Data columns (total 10 columns):\n",
      " #   Column              Non-Null Count  Dtype  \n",
      "---  ------              --------------  -----  \n",
      " 0   longitude           20640 non-null  float64\n",
      " 1   latitude            20640 non-null  float64\n",
      " 2   housing_median_age  20640 non-null  float64\n",
      " 3   total_rooms         20640 non-null  float64\n",
      " 4   total_bedrooms      20433 non-null  float64\n",
      " 5   population          20640 non-null  float64\n",
      " 6   households          20640 non-null  float64\n",
      " 7   median_income       20640 non-null  float64\n",
      " 8   median_house_value  20640 non-null  float64\n",
      " 9   ocean_proximity     20640 non-null  object \n",
      "dtypes: float64(9), object(1)\n",
      "memory usage: 1.6+ MB\n"
     ]
    }
   ],
   "source": [
    "housing_df.info()"
   ]
  },
  {
   "cell_type": "code",
   "execution_count": 58,
   "id": "01023fd1-d062-4e9f-91e5-abbaccf1ce99",
   "metadata": {},
   "outputs": [
    {
     "data": {
      "text/plain": [
       "Index(['longitude', 'latitude', 'housing_median_age', 'total_rooms',\n",
       "       'total_bedrooms', 'population', 'households', 'median_income',\n",
       "       'median_house_value', 'ocean_proximity'],\n",
       "      dtype='object')"
      ]
     },
     "execution_count": 58,
     "metadata": {},
     "output_type": "execute_result"
    }
   ],
   "source": [
    "housing_df.columns"
   ]
  },
  {
   "cell_type": "code",
   "execution_count": 59,
   "id": "ea1bf5b9-3a4c-4a61-8878-17cbbecd82a6",
   "metadata": {},
   "outputs": [
    {
     "data": {
      "text/plain": [
       "0         880.0\n",
       "1        7099.0\n",
       "2        1467.0\n",
       "3        1274.0\n",
       "4        1627.0\n",
       "          ...  \n",
       "20635    1665.0\n",
       "20636     697.0\n",
       "20637    2254.0\n",
       "20638    1860.0\n",
       "20639    2785.0\n",
       "Name: total_rooms, Length: 20640, dtype: float64"
      ]
     },
     "execution_count": 59,
     "metadata": {},
     "output_type": "execute_result"
    }
   ],
   "source": [
    "housing_df['total_rooms']"
   ]
  },
  {
   "cell_type": "code",
   "execution_count": 63,
   "id": "50c26e67-4017-491c-bc15-b5eaeff18acd",
   "metadata": {},
   "outputs": [
    {
     "name": "stdout",
     "output_type": "stream",
     "text": [
      "sum:  54402150.0\n",
      "mean:  2635.7630813953488\n"
     ]
    }
   ],
   "source": [
    "print(\"sum: \",housing_df['total_rooms'].sum())\n",
    "print('mean: ',housing_df['total_rooms'].mean())"
   ]
  },
  {
   "cell_type": "code",
   "execution_count": 64,
   "id": "c4293830-799e-4998-ab29-6887c06634d1",
   "metadata": {},
   "outputs": [
    {
     "name": "stdout",
     "output_type": "stream",
     "text": [
      "mean = 2635.7630813953488 and sum = 54402150.0\n"
     ]
    }
   ],
   "source": [
    "print('mean = {} and sum = {}'.format(housing_df['total_rooms'].mean(),housing_df['total_rooms'].sum()))"
   ]
  },
  {
   "cell_type": "code",
   "execution_count": 65,
   "id": "ab038a88-3c87-4b0b-9550-f3bfe27b160c",
   "metadata": {},
   "outputs": [
    {
     "data": {
      "text/html": [
       "<div>\n",
       "<style scoped>\n",
       "    .dataframe tbody tr th:only-of-type {\n",
       "        vertical-align: middle;\n",
       "    }\n",
       "\n",
       "    .dataframe tbody tr th {\n",
       "        vertical-align: top;\n",
       "    }\n",
       "\n",
       "    .dataframe thead th {\n",
       "        text-align: right;\n",
       "    }\n",
       "</style>\n",
       "<table border=\"1\" class=\"dataframe\">\n",
       "  <thead>\n",
       "    <tr style=\"text-align: right;\">\n",
       "      <th></th>\n",
       "      <th>longitude</th>\n",
       "      <th>latitude</th>\n",
       "      <th>housing_median_age</th>\n",
       "      <th>total_rooms</th>\n",
       "      <th>total_bedrooms</th>\n",
       "      <th>population</th>\n",
       "      <th>households</th>\n",
       "      <th>median_income</th>\n",
       "      <th>median_house_value</th>\n",
       "    </tr>\n",
       "  </thead>\n",
       "  <tbody>\n",
       "    <tr>\n",
       "      <th>count</th>\n",
       "      <td>20640.000000</td>\n",
       "      <td>20640.000000</td>\n",
       "      <td>20640.000000</td>\n",
       "      <td>20640.000000</td>\n",
       "      <td>20433.000000</td>\n",
       "      <td>20640.000000</td>\n",
       "      <td>20640.000000</td>\n",
       "      <td>20640.000000</td>\n",
       "      <td>20640.000000</td>\n",
       "    </tr>\n",
       "    <tr>\n",
       "      <th>mean</th>\n",
       "      <td>-119.569704</td>\n",
       "      <td>35.631861</td>\n",
       "      <td>28.639486</td>\n",
       "      <td>2635.763081</td>\n",
       "      <td>537.870553</td>\n",
       "      <td>1425.476744</td>\n",
       "      <td>499.539680</td>\n",
       "      <td>3.870671</td>\n",
       "      <td>206855.816909</td>\n",
       "    </tr>\n",
       "    <tr>\n",
       "      <th>std</th>\n",
       "      <td>2.003532</td>\n",
       "      <td>2.135952</td>\n",
       "      <td>12.585558</td>\n",
       "      <td>2181.615252</td>\n",
       "      <td>421.385070</td>\n",
       "      <td>1132.462122</td>\n",
       "      <td>382.329753</td>\n",
       "      <td>1.899822</td>\n",
       "      <td>115395.615874</td>\n",
       "    </tr>\n",
       "    <tr>\n",
       "      <th>min</th>\n",
       "      <td>-124.350000</td>\n",
       "      <td>32.540000</td>\n",
       "      <td>1.000000</td>\n",
       "      <td>2.000000</td>\n",
       "      <td>1.000000</td>\n",
       "      <td>3.000000</td>\n",
       "      <td>1.000000</td>\n",
       "      <td>0.499900</td>\n",
       "      <td>14999.000000</td>\n",
       "    </tr>\n",
       "    <tr>\n",
       "      <th>25%</th>\n",
       "      <td>-121.800000</td>\n",
       "      <td>33.930000</td>\n",
       "      <td>18.000000</td>\n",
       "      <td>1447.750000</td>\n",
       "      <td>296.000000</td>\n",
       "      <td>787.000000</td>\n",
       "      <td>280.000000</td>\n",
       "      <td>2.563400</td>\n",
       "      <td>119600.000000</td>\n",
       "    </tr>\n",
       "    <tr>\n",
       "      <th>50%</th>\n",
       "      <td>-118.490000</td>\n",
       "      <td>34.260000</td>\n",
       "      <td>29.000000</td>\n",
       "      <td>2127.000000</td>\n",
       "      <td>435.000000</td>\n",
       "      <td>1166.000000</td>\n",
       "      <td>409.000000</td>\n",
       "      <td>3.534800</td>\n",
       "      <td>179700.000000</td>\n",
       "    </tr>\n",
       "    <tr>\n",
       "      <th>75%</th>\n",
       "      <td>-118.010000</td>\n",
       "      <td>37.710000</td>\n",
       "      <td>37.000000</td>\n",
       "      <td>3148.000000</td>\n",
       "      <td>647.000000</td>\n",
       "      <td>1725.000000</td>\n",
       "      <td>605.000000</td>\n",
       "      <td>4.743250</td>\n",
       "      <td>264725.000000</td>\n",
       "    </tr>\n",
       "    <tr>\n",
       "      <th>max</th>\n",
       "      <td>-114.310000</td>\n",
       "      <td>41.950000</td>\n",
       "      <td>52.000000</td>\n",
       "      <td>39320.000000</td>\n",
       "      <td>6445.000000</td>\n",
       "      <td>35682.000000</td>\n",
       "      <td>6082.000000</td>\n",
       "      <td>15.000100</td>\n",
       "      <td>500001.000000</td>\n",
       "    </tr>\n",
       "  </tbody>\n",
       "</table>\n",
       "</div>"
      ],
      "text/plain": [
       "          longitude      latitude  housing_median_age   total_rooms  \\\n",
       "count  20640.000000  20640.000000        20640.000000  20640.000000   \n",
       "mean    -119.569704     35.631861           28.639486   2635.763081   \n",
       "std        2.003532      2.135952           12.585558   2181.615252   \n",
       "min     -124.350000     32.540000            1.000000      2.000000   \n",
       "25%     -121.800000     33.930000           18.000000   1447.750000   \n",
       "50%     -118.490000     34.260000           29.000000   2127.000000   \n",
       "75%     -118.010000     37.710000           37.000000   3148.000000   \n",
       "max     -114.310000     41.950000           52.000000  39320.000000   \n",
       "\n",
       "       total_bedrooms    population    households  median_income  \\\n",
       "count    20433.000000  20640.000000  20640.000000   20640.000000   \n",
       "mean       537.870553   1425.476744    499.539680       3.870671   \n",
       "std        421.385070   1132.462122    382.329753       1.899822   \n",
       "min          1.000000      3.000000      1.000000       0.499900   \n",
       "25%        296.000000    787.000000    280.000000       2.563400   \n",
       "50%        435.000000   1166.000000    409.000000       3.534800   \n",
       "75%        647.000000   1725.000000    605.000000       4.743250   \n",
       "max       6445.000000  35682.000000   6082.000000      15.000100   \n",
       "\n",
       "       median_house_value  \n",
       "count        20640.000000  \n",
       "mean        206855.816909  \n",
       "std         115395.615874  \n",
       "min          14999.000000  \n",
       "25%         119600.000000  \n",
       "50%         179700.000000  \n",
       "75%         264725.000000  \n",
       "max         500001.000000  "
      ]
     },
     "execution_count": 65,
     "metadata": {},
     "output_type": "execute_result"
    }
   ],
   "source": [
    "housing_df.describe()"
   ]
  },
  {
   "cell_type": "code",
   "execution_count": null,
   "id": "6081392d-ea8d-43b7-a2be-0196665f3368",
   "metadata": {},
   "outputs": [],
   "source": []
  }
 ],
 "metadata": {
  "kernelspec": {
   "display_name": "Python 3 (ipykernel)",
   "language": "python",
   "name": "python3"
  },
  "language_info": {
   "codemirror_mode": {
    "name": "ipython",
    "version": 3
   },
   "file_extension": ".py",
   "mimetype": "text/x-python",
   "name": "python",
   "nbconvert_exporter": "python",
   "pygments_lexer": "ipython3",
   "version": "3.11.7"
  }
 },
 "nbformat": 4,
 "nbformat_minor": 5
}
