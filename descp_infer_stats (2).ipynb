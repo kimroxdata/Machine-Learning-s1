{
 "cells": [
  {
   "cell_type": "markdown",
   "id": "b81b8a17-b47e-40ed-8444-b751e3c89fd5",
   "metadata": {},
   "source": [
    "# BASIC CONCEPTS ON DESCRIPTIVE STATISTICS AND STATISTICAL INFERENCE \n",
    "## Descriptive Analysis\n",
    "Is a branch of statistics that summarises the characteristics of a data set. They are mainly\n",
    "* measures of central tendency\n",
    "* measures of variability(spread/dispersion)\n",
    "* Frequency distribution\n",
    "\n",
    "### Measures of central tendency\n",
    "These refer to numbers that represent the middle of the data. The include **mean(arithmetic), median** and **mode**.\n",
    "\n",
    "$$\\text{mean}, \\bar{x} =\\sum_{i=1}^n \\dfrac{x_i}{n}$$\n",
    "\n",
    "* **mean**: The sum divided by the number of elements\n",
    "* **median** the middle value when the values are arranged logically based on the magnitude\n",
    "* **mode** the most common item\n",
    "  \n",
    "Let us consider the housing data. The data contains the census report of the households grouped in blocks in California. \n",
    "\n",
    "Column details:\n",
    "* **longitute**: A measure of how far west a house is, a higher value is farther west\n",
    "* **latitide**: A measure of how far north a house is; a higher vale is farther north\n",
    "* **housing_median_age**: The median age of a house within a block; a lower number is a new building\n",
    "* **total_rooms**: total number of rooms within a block\n",
    "* **total_bedrooms**: total number of bedrooms within a block\n",
    "* **population**: total number of people residing within a block\n",
    "* **households**: Total number of households, a group of people residing within a home unit, for a block\n",
    "* **median_income**: median income for households within a block of houses(measured in 10,000USD)\n",
    "* **median_house_value**: median house value for households within a block(in USD)\n",
    "* **ocean_Proximity**: Location of the house of the ocean or sea\n",
    "t ocean/sea\n"
   ]
  },
  {
   "cell_type": "code",
   "execution_count": 1,
   "id": "01e5c009-6c3c-470b-b3e5-a77387d5a400",
   "metadata": {},
   "outputs": [],
   "source": [
    "#Load the libraries\n",
    "#ensure that the graphics are displayed in the notebook, we use the magic function below\n",
    "%matplotlib inline \n",
    "import numpy as np\n",
    "import pandas as pd\n",
    "import matplotlib.pyplot as plt\n",
    "from scipy import stats "
   ]
  },
  {
   "cell_type": "code",
   "execution_count": 3,
   "id": "cd7b9867-fac5-4f37-b231-39a16c97333d",
   "metadata": {
    "scrolled": true
   },
   "outputs": [
    {
     "data": {
      "text/html": [
       "<div>\n",
       "<style scoped>\n",
       "    .dataframe tbody tr th:only-of-type {\n",
       "        vertical-align: middle;\n",
       "    }\n",
       "\n",
       "    .dataframe tbody tr th {\n",
       "        vertical-align: top;\n",
       "    }\n",
       "\n",
       "    .dataframe thead th {\n",
       "        text-align: right;\n",
       "    }\n",
       "</style>\n",
       "<table border=\"1\" class=\"dataframe\">\n",
       "  <thead>\n",
       "    <tr style=\"text-align: right;\">\n",
       "      <th></th>\n",
       "      <th>longitude</th>\n",
       "      <th>latitude</th>\n",
       "      <th>housing_median_age</th>\n",
       "      <th>total_rooms</th>\n",
       "      <th>total_bedrooms</th>\n",
       "      <th>population</th>\n",
       "      <th>households</th>\n",
       "      <th>median_income</th>\n",
       "      <th>median_house_value</th>\n",
       "      <th>ocean_proximity</th>\n",
       "    </tr>\n",
       "  </thead>\n",
       "  <tbody>\n",
       "    <tr>\n",
       "      <th>0</th>\n",
       "      <td>-122.23</td>\n",
       "      <td>37.88</td>\n",
       "      <td>41.0</td>\n",
       "      <td>880.0</td>\n",
       "      <td>129.0</td>\n",
       "      <td>322.0</td>\n",
       "      <td>126.0</td>\n",
       "      <td>8.3252</td>\n",
       "      <td>452600.0</td>\n",
       "      <td>NEAR BAY</td>\n",
       "    </tr>\n",
       "    <tr>\n",
       "      <th>1</th>\n",
       "      <td>-122.22</td>\n",
       "      <td>37.86</td>\n",
       "      <td>21.0</td>\n",
       "      <td>7099.0</td>\n",
       "      <td>1106.0</td>\n",
       "      <td>2401.0</td>\n",
       "      <td>1138.0</td>\n",
       "      <td>8.3014</td>\n",
       "      <td>358500.0</td>\n",
       "      <td>NEAR BAY</td>\n",
       "    </tr>\n",
       "  </tbody>\n",
       "</table>\n",
       "</div>"
      ],
      "text/plain": [
       "   longitude  latitude  housing_median_age  total_rooms  total_bedrooms  \\\n",
       "0    -122.23     37.88                41.0        880.0           129.0   \n",
       "1    -122.22     37.86                21.0       7099.0          1106.0   \n",
       "\n",
       "   population  households  median_income  median_house_value ocean_proximity  \n",
       "0       322.0       126.0         8.3252            452600.0        NEAR BAY  \n",
       "1      2401.0      1138.0         8.3014            358500.0        NEAR BAY  "
      ]
     },
     "execution_count": 3,
     "metadata": {},
     "output_type": "execute_result"
    }
   ],
   "source": [
    "housing_data=pd.read_csv('housing.csv')\n",
    "housing_data.head(2) ##see the first 2 rows"
   ]
  },
  {
   "cell_type": "code",
   "execution_count": 4,
   "id": "acfba343-af32-4337-bca8-9399fc8afeb5",
   "metadata": {},
   "outputs": [
    {
     "data": {
      "text/plain": [
       "(20640, 10)"
      ]
     },
     "execution_count": 4,
     "metadata": {},
     "output_type": "execute_result"
    }
   ],
   "source": [
    "housing_data.shape #dimension"
   ]
  },
  {
   "cell_type": "code",
   "execution_count": 5,
   "id": "474c5ed1-ae62-4074-a4fb-bf195abbed94",
   "metadata": {},
   "outputs": [
    {
     "data": {
      "text/plain": [
       "10"
      ]
     },
     "execution_count": 5,
     "metadata": {},
     "output_type": "execute_result"
    }
   ],
   "source": [
    "housing_data.shape[1]"
   ]
  },
  {
   "cell_type": "code",
   "execution_count": 6,
   "id": "e2f681d7-498e-44e3-a42a-8fded908545d",
   "metadata": {
    "scrolled": true
   },
   "outputs": [
    {
     "name": "stdout",
     "output_type": "stream",
     "text": [
      "<class 'pandas.core.frame.DataFrame'>\n",
      "RangeIndex: 20640 entries, 0 to 20639\n",
      "Data columns (total 10 columns):\n",
      " #   Column              Non-Null Count  Dtype  \n",
      "---  ------              --------------  -----  \n",
      " 0   longitude           20640 non-null  float64\n",
      " 1   latitude            20640 non-null  float64\n",
      " 2   housing_median_age  20640 non-null  float64\n",
      " 3   total_rooms         20640 non-null  float64\n",
      " 4   total_bedrooms      20433 non-null  float64\n",
      " 5   population          20640 non-null  float64\n",
      " 6   households          20640 non-null  float64\n",
      " 7   median_income       20640 non-null  float64\n",
      " 8   median_house_value  20640 non-null  float64\n",
      " 9   ocean_proximity     20640 non-null  object \n",
      "dtypes: float64(9), object(1)\n",
      "memory usage: 1.6+ MB\n"
     ]
    }
   ],
   "source": [
    "housing_data.info() #view the data types of the columns"
   ]
  },
  {
   "cell_type": "code",
   "execution_count": 7,
   "id": "58a95af5-0f95-49a4-87cf-561b17d53a32",
   "metadata": {},
   "outputs": [
    {
     "data": {
      "text/html": [
       "<div>\n",
       "<style scoped>\n",
       "    .dataframe tbody tr th:only-of-type {\n",
       "        vertical-align: middle;\n",
       "    }\n",
       "\n",
       "    .dataframe tbody tr th {\n",
       "        vertical-align: top;\n",
       "    }\n",
       "\n",
       "    .dataframe thead th {\n",
       "        text-align: right;\n",
       "    }\n",
       "</style>\n",
       "<table border=\"1\" class=\"dataframe\">\n",
       "  <thead>\n",
       "    <tr style=\"text-align: right;\">\n",
       "      <th></th>\n",
       "      <th>longitude</th>\n",
       "      <th>latitude</th>\n",
       "      <th>housing_median_age</th>\n",
       "      <th>total_rooms</th>\n",
       "      <th>total_bedrooms</th>\n",
       "      <th>population</th>\n",
       "      <th>households</th>\n",
       "      <th>median_income</th>\n",
       "      <th>median_house_value</th>\n",
       "    </tr>\n",
       "  </thead>\n",
       "  <tbody>\n",
       "    <tr>\n",
       "      <th>count</th>\n",
       "      <td>20640.000000</td>\n",
       "      <td>20640.000000</td>\n",
       "      <td>20640.000000</td>\n",
       "      <td>20640.000000</td>\n",
       "      <td>20433.000000</td>\n",
       "      <td>20640.000000</td>\n",
       "      <td>20640.000000</td>\n",
       "      <td>20640.000000</td>\n",
       "      <td>20640.000000</td>\n",
       "    </tr>\n",
       "    <tr>\n",
       "      <th>mean</th>\n",
       "      <td>-119.569704</td>\n",
       "      <td>35.631861</td>\n",
       "      <td>28.639486</td>\n",
       "      <td>2635.763081</td>\n",
       "      <td>537.870553</td>\n",
       "      <td>1425.476744</td>\n",
       "      <td>499.539680</td>\n",
       "      <td>3.870671</td>\n",
       "      <td>206855.816909</td>\n",
       "    </tr>\n",
       "    <tr>\n",
       "      <th>std</th>\n",
       "      <td>2.003532</td>\n",
       "      <td>2.135952</td>\n",
       "      <td>12.585558</td>\n",
       "      <td>2181.615252</td>\n",
       "      <td>421.385070</td>\n",
       "      <td>1132.462122</td>\n",
       "      <td>382.329753</td>\n",
       "      <td>1.899822</td>\n",
       "      <td>115395.615874</td>\n",
       "    </tr>\n",
       "    <tr>\n",
       "      <th>min</th>\n",
       "      <td>-124.350000</td>\n",
       "      <td>32.540000</td>\n",
       "      <td>1.000000</td>\n",
       "      <td>2.000000</td>\n",
       "      <td>1.000000</td>\n",
       "      <td>3.000000</td>\n",
       "      <td>1.000000</td>\n",
       "      <td>0.499900</td>\n",
       "      <td>14999.000000</td>\n",
       "    </tr>\n",
       "    <tr>\n",
       "      <th>25%</th>\n",
       "      <td>-121.800000</td>\n",
       "      <td>33.930000</td>\n",
       "      <td>18.000000</td>\n",
       "      <td>1447.750000</td>\n",
       "      <td>296.000000</td>\n",
       "      <td>787.000000</td>\n",
       "      <td>280.000000</td>\n",
       "      <td>2.563400</td>\n",
       "      <td>119600.000000</td>\n",
       "    </tr>\n",
       "    <tr>\n",
       "      <th>50%</th>\n",
       "      <td>-118.490000</td>\n",
       "      <td>34.260000</td>\n",
       "      <td>29.000000</td>\n",
       "      <td>2127.000000</td>\n",
       "      <td>435.000000</td>\n",
       "      <td>1166.000000</td>\n",
       "      <td>409.000000</td>\n",
       "      <td>3.534800</td>\n",
       "      <td>179700.000000</td>\n",
       "    </tr>\n",
       "    <tr>\n",
       "      <th>75%</th>\n",
       "      <td>-118.010000</td>\n",
       "      <td>37.710000</td>\n",
       "      <td>37.000000</td>\n",
       "      <td>3148.000000</td>\n",
       "      <td>647.000000</td>\n",
       "      <td>1725.000000</td>\n",
       "      <td>605.000000</td>\n",
       "      <td>4.743250</td>\n",
       "      <td>264725.000000</td>\n",
       "    </tr>\n",
       "    <tr>\n",
       "      <th>max</th>\n",
       "      <td>-114.310000</td>\n",
       "      <td>41.950000</td>\n",
       "      <td>52.000000</td>\n",
       "      <td>39320.000000</td>\n",
       "      <td>6445.000000</td>\n",
       "      <td>35682.000000</td>\n",
       "      <td>6082.000000</td>\n",
       "      <td>15.000100</td>\n",
       "      <td>500001.000000</td>\n",
       "    </tr>\n",
       "  </tbody>\n",
       "</table>\n",
       "</div>"
      ],
      "text/plain": [
       "          longitude      latitude  housing_median_age   total_rooms  \\\n",
       "count  20640.000000  20640.000000        20640.000000  20640.000000   \n",
       "mean    -119.569704     35.631861           28.639486   2635.763081   \n",
       "std        2.003532      2.135952           12.585558   2181.615252   \n",
       "min     -124.350000     32.540000            1.000000      2.000000   \n",
       "25%     -121.800000     33.930000           18.000000   1447.750000   \n",
       "50%     -118.490000     34.260000           29.000000   2127.000000   \n",
       "75%     -118.010000     37.710000           37.000000   3148.000000   \n",
       "max     -114.310000     41.950000           52.000000  39320.000000   \n",
       "\n",
       "       total_bedrooms    population    households  median_income  \\\n",
       "count    20433.000000  20640.000000  20640.000000   20640.000000   \n",
       "mean       537.870553   1425.476744    499.539680       3.870671   \n",
       "std        421.385070   1132.462122    382.329753       1.899822   \n",
       "min          1.000000      3.000000      1.000000       0.499900   \n",
       "25%        296.000000    787.000000    280.000000       2.563400   \n",
       "50%        435.000000   1166.000000    409.000000       3.534800   \n",
       "75%        647.000000   1725.000000    605.000000       4.743250   \n",
       "max       6445.000000  35682.000000   6082.000000      15.000100   \n",
       "\n",
       "       median_house_value  \n",
       "count        20640.000000  \n",
       "mean        206855.816909  \n",
       "std         115395.615874  \n",
       "min          14999.000000  \n",
       "25%         119600.000000  \n",
       "50%         179700.000000  \n",
       "75%         264725.000000  \n",
       "max         500001.000000  "
      ]
     },
     "execution_count": 7,
     "metadata": {},
     "output_type": "execute_result"
    }
   ],
   "source": [
    "housing_data.describe()"
   ]
  },
  {
   "cell_type": "code",
   "execution_count": 12,
   "id": "99566ef5-8405-4526-8b30-bb2837133d29",
   "metadata": {},
   "outputs": [],
   "source": [
    "no_rows=housing_data.describe()['latitude'].iloc[0]"
   ]
  },
  {
   "cell_type": "code",
   "execution_count": 13,
   "id": "8517bb7e-ea4d-49cf-b625-bbf798da1b05",
   "metadata": {},
   "outputs": [
    {
     "data": {
      "text/plain": [
       "20640.0"
      ]
     },
     "execution_count": 13,
     "metadata": {},
     "output_type": "execute_result"
    }
   ],
   "source": [
    "no_rows"
   ]
  },
  {
   "cell_type": "code",
   "execution_count": null,
   "id": "d49d74c3-e2ff-4cb8-9940-d004e65f3699",
   "metadata": {},
   "outputs": [],
   "source": [
    "#It is evidet that total_bedrooms columns has missing values(None)"
   ]
  },
  {
   "cell_type": "markdown",
   "id": "5903699d-b693-487b-ab46-1d7db9da68ba",
   "metadata": {},
   "source": [
    "#### slicing"
   ]
  },
  {
   "cell_type": "code",
   "execution_count": 20,
   "id": "2918494a-2f84-43e6-a3d3-cdf803d94a48",
   "metadata": {},
   "outputs": [
    {
     "data": {
      "text/plain": [
       "0         880.0\n",
       "1        7099.0\n",
       "2        1467.0\n",
       "3        1274.0\n",
       "4        1627.0\n",
       "          ...  \n",
       "20635    1665.0\n",
       "20636     697.0\n",
       "20637    2254.0\n",
       "20638    1860.0\n",
       "20639    2785.0\n",
       "Name: total_rooms, Length: 20640, dtype: float64"
      ]
     },
     "execution_count": 20,
     "metadata": {},
     "output_type": "execute_result"
    }
   ],
   "source": [
    "housing_data['total_rooms']"
   ]
  },
  {
   "cell_type": "code",
   "execution_count": 15,
   "id": "46b55e8c-c37f-4958-bcbc-24796479024d",
   "metadata": {},
   "outputs": [
    {
     "data": {
      "text/plain": [
       "(20640,)"
      ]
     },
     "execution_count": 15,
     "metadata": {},
     "output_type": "execute_result"
    }
   ],
   "source": [
    "#get data for one row\n",
    "housing_data['total_rooms'].shape #this is a Pandas series, 1 dimensional, 1 dimension"
   ]
  },
  {
   "cell_type": "code",
   "execution_count": 22,
   "id": "911e7339-4cd7-4065-b747-b71047b47c54",
   "metadata": {},
   "outputs": [
    {
     "data": {
      "text/plain": [
       "0     880.0\n",
       "1    7099.0\n",
       "Name: total_rooms, dtype: float64"
      ]
     },
     "execution_count": 22,
     "metadata": {},
     "output_type": "execute_result"
    }
   ],
   "source": [
    "housing_data.total_rooms.head(2) # we can also get the above series using the dot notation, 1 dimension"
   ]
  },
  {
   "cell_type": "code",
   "execution_count": 21,
   "id": "fee2f251-eee8-46d0-8abf-0a2d136f9c23",
   "metadata": {},
   "outputs": [
    {
     "data": {
      "text/plain": [
       "(20640, 1)"
      ]
     },
     "execution_count": 21,
     "metadata": {},
     "output_type": "execute_result"
    }
   ],
   "source": [
    "housing_data[['total_rooms']].shape  # this makes it possible to be two dimensional "
   ]
  },
  {
   "cell_type": "code",
   "execution_count": 24,
   "id": "51fe6d1f-0f85-4259-837a-71a6e8db51eb",
   "metadata": {},
   "outputs": [
    {
     "data": {
      "text/plain": [
       "['longitude',\n",
       " 'latitude',\n",
       " 'housing_median_age',\n",
       " 'total_rooms',\n",
       " 'total_bedrooms',\n",
       " 'population',\n",
       " 'households',\n",
       " 'median_income',\n",
       " 'median_house_value',\n",
       " 'ocean_proximity']"
      ]
     },
     "execution_count": 24,
     "metadata": {},
     "output_type": "execute_result"
    }
   ],
   "source": [
    "housing_data.columns.to_list()"
   ]
  },
  {
   "cell_type": "code",
   "execution_count": 25,
   "id": "b4570cbc-67e3-4af4-811d-23aad54957e5",
   "metadata": {},
   "outputs": [
    {
     "data": {
      "text/html": [
       "<div>\n",
       "<style scoped>\n",
       "    .dataframe tbody tr th:only-of-type {\n",
       "        vertical-align: middle;\n",
       "    }\n",
       "\n",
       "    .dataframe tbody tr th {\n",
       "        vertical-align: top;\n",
       "    }\n",
       "\n",
       "    .dataframe thead th {\n",
       "        text-align: right;\n",
       "    }\n",
       "</style>\n",
       "<table border=\"1\" class=\"dataframe\">\n",
       "  <thead>\n",
       "    <tr style=\"text-align: right;\">\n",
       "      <th></th>\n",
       "      <th>total_rooms</th>\n",
       "      <th>total_bedrooms</th>\n",
       "      <th>population</th>\n",
       "    </tr>\n",
       "  </thead>\n",
       "  <tbody>\n",
       "    <tr>\n",
       "      <th>0</th>\n",
       "      <td>880.0</td>\n",
       "      <td>129.0</td>\n",
       "      <td>322.0</td>\n",
       "    </tr>\n",
       "    <tr>\n",
       "      <th>1</th>\n",
       "      <td>7099.0</td>\n",
       "      <td>1106.0</td>\n",
       "      <td>2401.0</td>\n",
       "    </tr>\n",
       "  </tbody>\n",
       "</table>\n",
       "</div>"
      ],
      "text/plain": [
       "   total_rooms  total_bedrooms  population\n",
       "0        880.0           129.0       322.0\n",
       "1       7099.0          1106.0      2401.0"
      ]
     },
     "execution_count": 25,
     "metadata": {},
     "output_type": "execute_result"
    }
   ],
   "source": [
    "##select many columns\n",
    "housing_data[['total_rooms','total_bedrooms','population']].head(2)"
   ]
  },
  {
   "cell_type": "code",
   "execution_count": 34,
   "id": "1d0c2b94-0c0a-46bf-aca6-10435497ac2f",
   "metadata": {},
   "outputs": [
    {
     "data": {
      "text/plain": [
       "median_house_value    116800.0\n",
       "ocean_proximity         INLAND\n",
       "Name: 20634, dtype: object"
      ]
     },
     "execution_count": 34,
     "metadata": {},
     "output_type": "execute_result"
    }
   ],
   "source": [
    "housing_data.iloc[20634, -2:]"
   ]
  },
  {
   "cell_type": "code",
   "execution_count": 46,
   "id": "60211519-d4fc-43fb-af97-73489340f621",
   "metadata": {},
   "outputs": [
    {
     "data": {
      "text/html": [
       "<div>\n",
       "<style scoped>\n",
       "    .dataframe tbody tr th:only-of-type {\n",
       "        vertical-align: middle;\n",
       "    }\n",
       "\n",
       "    .dataframe tbody tr th {\n",
       "        vertical-align: top;\n",
       "    }\n",
       "\n",
       "    .dataframe thead th {\n",
       "        text-align: right;\n",
       "    }\n",
       "</style>\n",
       "<table border=\"1\" class=\"dataframe\">\n",
       "  <thead>\n",
       "    <tr style=\"text-align: right;\">\n",
       "      <th></th>\n",
       "      <th>longitude</th>\n",
       "      <th>latitude</th>\n",
       "      <th>housing_median_age</th>\n",
       "      <th>total_rooms</th>\n",
       "    </tr>\n",
       "  </thead>\n",
       "  <tbody>\n",
       "    <tr>\n",
       "      <th>0</th>\n",
       "      <td>-122.23</td>\n",
       "      <td>37.88</td>\n",
       "      <td>41.0</td>\n",
       "      <td>880.0</td>\n",
       "    </tr>\n",
       "    <tr>\n",
       "      <th>1</th>\n",
       "      <td>-122.22</td>\n",
       "      <td>37.86</td>\n",
       "      <td>21.0</td>\n",
       "      <td>7099.0</td>\n",
       "    </tr>\n",
       "    <tr>\n",
       "      <th>2</th>\n",
       "      <td>-122.24</td>\n",
       "      <td>37.85</td>\n",
       "      <td>52.0</td>\n",
       "      <td>1467.0</td>\n",
       "    </tr>\n",
       "  </tbody>\n",
       "</table>\n",
       "</div>"
      ],
      "text/plain": [
       "   longitude  latitude  housing_median_age  total_rooms\n",
       "0    -122.23     37.88                41.0        880.0\n",
       "1    -122.22     37.86                21.0       7099.0\n",
       "2    -122.24     37.85                52.0       1467.0"
      ]
     },
     "execution_count": 46,
     "metadata": {},
     "output_type": "execute_result"
    }
   ],
   "source": [
    "# using .loc and iloc. iloc selects rows and columns by using integer positions while loc is by labels\n",
    "housing_data.iloc[0:3,0:4] # seleacts all rows elements for the column 0,1,2,and 3"
   ]
  },
  {
   "cell_type": "code",
   "execution_count": 35,
   "id": "2c970401-378e-4239-9738-69505efae385",
   "metadata": {},
   "outputs": [
    {
     "data": {
      "text/html": [
       "<div>\n",
       "<style scoped>\n",
       "    .dataframe tbody tr th:only-of-type {\n",
       "        vertical-align: middle;\n",
       "    }\n",
       "\n",
       "    .dataframe tbody tr th {\n",
       "        vertical-align: top;\n",
       "    }\n",
       "\n",
       "    .dataframe thead th {\n",
       "        text-align: right;\n",
       "    }\n",
       "</style>\n",
       "<table border=\"1\" class=\"dataframe\">\n",
       "  <thead>\n",
       "    <tr style=\"text-align: right;\">\n",
       "      <th></th>\n",
       "      <th>longitude</th>\n",
       "      <th>latitude</th>\n",
       "      <th>housing_median_age</th>\n",
       "      <th>total_rooms</th>\n",
       "      <th>total_bedrooms</th>\n",
       "      <th>population</th>\n",
       "      <th>households</th>\n",
       "      <th>median_income</th>\n",
       "      <th>median_house_value</th>\n",
       "      <th>ocean_proximity</th>\n",
       "    </tr>\n",
       "  </thead>\n",
       "  <tbody>\n",
       "    <tr>\n",
       "      <th>1</th>\n",
       "      <td>-122.22</td>\n",
       "      <td>37.86</td>\n",
       "      <td>21.0</td>\n",
       "      <td>7099.0</td>\n",
       "      <td>1106.0</td>\n",
       "      <td>2401.0</td>\n",
       "      <td>1138.0</td>\n",
       "      <td>8.3014</td>\n",
       "      <td>358500.0</td>\n",
       "      <td>NEAR BAY</td>\n",
       "    </tr>\n",
       "    <tr>\n",
       "      <th>2</th>\n",
       "      <td>-122.24</td>\n",
       "      <td>37.85</td>\n",
       "      <td>52.0</td>\n",
       "      <td>1467.0</td>\n",
       "      <td>190.0</td>\n",
       "      <td>496.0</td>\n",
       "      <td>177.0</td>\n",
       "      <td>7.2574</td>\n",
       "      <td>352100.0</td>\n",
       "      <td>NEAR BAY</td>\n",
       "    </tr>\n",
       "  </tbody>\n",
       "</table>\n",
       "</div>"
      ],
      "text/plain": [
       "   longitude  latitude  housing_median_age  total_rooms  total_bedrooms  \\\n",
       "1    -122.22     37.86                21.0       7099.0          1106.0   \n",
       "2    -122.24     37.85                52.0       1467.0           190.0   \n",
       "\n",
       "   population  households  median_income  median_house_value ocean_proximity  \n",
       "1      2401.0      1138.0         8.3014            358500.0        NEAR BAY  \n",
       "2       496.0       177.0         7.2574            352100.0        NEAR BAY  "
      ]
     },
     "execution_count": 35,
     "metadata": {},
     "output_type": "execute_result"
    }
   ],
   "source": [
    "housing_data.loc[1:2] #selects the row 2 to 3"
   ]
  },
  {
   "cell_type": "code",
   "execution_count": 36,
   "id": "a9ce6b34-c588-49fb-985d-0989dd94d502",
   "metadata": {},
   "outputs": [
    {
     "data": {
      "text/html": [
       "<div>\n",
       "<style scoped>\n",
       "    .dataframe tbody tr th:only-of-type {\n",
       "        vertical-align: middle;\n",
       "    }\n",
       "\n",
       "    .dataframe tbody tr th {\n",
       "        vertical-align: top;\n",
       "    }\n",
       "\n",
       "    .dataframe thead th {\n",
       "        text-align: right;\n",
       "    }\n",
       "</style>\n",
       "<table border=\"1\" class=\"dataframe\">\n",
       "  <thead>\n",
       "    <tr style=\"text-align: right;\">\n",
       "      <th></th>\n",
       "      <th>longitude</th>\n",
       "      <th>latitude</th>\n",
       "      <th>housing_median_age</th>\n",
       "      <th>total_rooms</th>\n",
       "      <th>total_bedrooms</th>\n",
       "      <th>population</th>\n",
       "      <th>households</th>\n",
       "      <th>median_income</th>\n",
       "      <th>median_house_value</th>\n",
       "      <th>ocean_proximity</th>\n",
       "    </tr>\n",
       "  </thead>\n",
       "  <tbody>\n",
       "    <tr>\n",
       "      <th>0</th>\n",
       "      <td>-122.23</td>\n",
       "      <td>37.88</td>\n",
       "      <td>41.0</td>\n",
       "      <td>880.0</td>\n",
       "      <td>129.0</td>\n",
       "      <td>322.0</td>\n",
       "      <td>126.0</td>\n",
       "      <td>8.3252</td>\n",
       "      <td>452600.0</td>\n",
       "      <td>NEAR BAY</td>\n",
       "    </tr>\n",
       "    <tr>\n",
       "      <th>1</th>\n",
       "      <td>-122.22</td>\n",
       "      <td>37.86</td>\n",
       "      <td>21.0</td>\n",
       "      <td>7099.0</td>\n",
       "      <td>1106.0</td>\n",
       "      <td>2401.0</td>\n",
       "      <td>1138.0</td>\n",
       "      <td>8.3014</td>\n",
       "      <td>358500.0</td>\n",
       "      <td>NEAR BAY</td>\n",
       "    </tr>\n",
       "    <tr>\n",
       "      <th>2</th>\n",
       "      <td>-122.24</td>\n",
       "      <td>37.85</td>\n",
       "      <td>52.0</td>\n",
       "      <td>1467.0</td>\n",
       "      <td>190.0</td>\n",
       "      <td>496.0</td>\n",
       "      <td>177.0</td>\n",
       "      <td>7.2574</td>\n",
       "      <td>352100.0</td>\n",
       "      <td>NEAR BAY</td>\n",
       "    </tr>\n",
       "    <tr>\n",
       "      <th>3</th>\n",
       "      <td>-122.25</td>\n",
       "      <td>37.85</td>\n",
       "      <td>52.0</td>\n",
       "      <td>1274.0</td>\n",
       "      <td>235.0</td>\n",
       "      <td>558.0</td>\n",
       "      <td>219.0</td>\n",
       "      <td>5.6431</td>\n",
       "      <td>341300.0</td>\n",
       "      <td>NEAR BAY</td>\n",
       "    </tr>\n",
       "  </tbody>\n",
       "</table>\n",
       "</div>"
      ],
      "text/plain": [
       "   longitude  latitude  housing_median_age  total_rooms  total_bedrooms  \\\n",
       "0    -122.23     37.88                41.0        880.0           129.0   \n",
       "1    -122.22     37.86                21.0       7099.0          1106.0   \n",
       "2    -122.24     37.85                52.0       1467.0           190.0   \n",
       "3    -122.25     37.85                52.0       1274.0           235.0   \n",
       "\n",
       "   population  households  median_income  median_house_value ocean_proximity  \n",
       "0       322.0       126.0         8.3252            452600.0        NEAR BAY  \n",
       "1      2401.0      1138.0         8.3014            358500.0        NEAR BAY  \n",
       "2       496.0       177.0         7.2574            352100.0        NEAR BAY  \n",
       "3       558.0       219.0         5.6431            341300.0        NEAR BAY  "
      ]
     },
     "execution_count": 36,
     "metadata": {},
     "output_type": "execute_result"
    }
   ],
   "source": [
    "housing_data.loc[0:3] #selects the first 4 rows"
   ]
  },
  {
   "cell_type": "code",
   "execution_count": null,
   "id": "cd4e87ff-3879-43f2-8b54-0f0942c8dd95",
   "metadata": {},
   "outputs": [],
   "source": [
    "housing_data.iloc[:,np.r_[0:3,5]].head(2) #selects columns that are not following on another"
   ]
  },
  {
   "cell_type": "markdown",
   "id": "3a728091-509e-4b73-af76-fcf49e4d053e",
   "metadata": {},
   "source": [
    "#### Question 1\n",
    "* Find the mean, median and mode population of the blocks\n",
    "* Find the most common total number of rooms in the block"
   ]
  },
  {
   "cell_type": "code",
   "execution_count": null,
   "id": "a8b40d5c-bef1-4cf9-a1cf-73356592a997",
   "metadata": {},
   "outputs": [],
   "source": []
  },
  {
   "cell_type": "code",
   "execution_count": 49,
   "id": "971e08a8-c2e9-4f8d-b9b7-7c9ba86ff52d",
   "metadata": {},
   "outputs": [
    {
     "data": {
      "text/plain": [
       "1425.48"
      ]
     },
     "execution_count": 49,
     "metadata": {},
     "output_type": "execute_result"
    }
   ],
   "source": [
    "round(housing_data['population'].mean(),2)"
   ]
  },
  {
   "cell_type": "code",
   "execution_count": 50,
   "id": "bb9c3c6b-aeb5-4609-9610-61942f78ec1e",
   "metadata": {},
   "outputs": [
    {
     "data": {
      "text/plain": [
       "1166.0"
      ]
     },
     "execution_count": 50,
     "metadata": {},
     "output_type": "execute_result"
    }
   ],
   "source": [
    "round(housing_data['population'].median(),2)"
   ]
  },
  {
   "cell_type": "code",
   "execution_count": 51,
   "id": "c863a3bf-816a-4f11-8135-e3fe1baa76b8",
   "metadata": {},
   "outputs": [
    {
     "data": {
      "text/plain": [
       "0    891.0\n",
       "Name: population, dtype: float64"
      ]
     },
     "execution_count": 51,
     "metadata": {},
     "output_type": "execute_result"
    }
   ],
   "source": [
    "round(housing_data['population'].mode(),2)"
   ]
  },
  {
   "cell_type": "code",
   "execution_count": 52,
   "id": "fe159ac7-fa88-42ba-afd6-82b5d2d9bcae",
   "metadata": {},
   "outputs": [
    {
     "data": {
      "text/plain": [
       "4759445.105938626"
      ]
     },
     "execution_count": 52,
     "metadata": {},
     "output_type": "execute_result"
    }
   ],
   "source": [
    "housing_data['total_rooms'].var()"
   ]
  },
  {
   "cell_type": "code",
   "execution_count": 53,
   "id": "60ace38d-7068-47d7-b395-29246d2b6cd6",
   "metadata": {},
   "outputs": [
    {
     "name": "stdout",
     "output_type": "stream",
     "text": [
      "mean= 1425.48, median= 1166.0 \n"
     ]
    }
   ],
   "source": [
    "print(\"mean= {}, median= {} \".format(round(housing_data['population'].mean(),2),housing_data['population'].median()))"
   ]
  },
  {
   "cell_type": "code",
   "execution_count": 55,
   "id": "f0f52538-3942-40e6-9887-edeaca172b8e",
   "metadata": {},
   "outputs": [
    {
     "data": {
      "text/plain": [
       "0    1527.0\n",
       "Name: total_rooms, dtype: float64"
      ]
     },
     "execution_count": 55,
     "metadata": {},
     "output_type": "execute_result"
    }
   ],
   "source": [
    "housing_data['total_rooms'].mode()\n"
   ]
  },
  {
   "cell_type": "code",
   "execution_count": 69,
   "id": "3958ecf9-63d2-49f8-baa7-639e771ec04f",
   "metadata": {},
   "outputs": [],
   "source": [
    "#use collections module to get the mode\n",
    "from collections import Counter\n",
    "dict_counter=Counter(housing_data['total_rooms'])\n",
    "common_el=dict_counter.most_common(1)[0][0]"
   ]
  },
  {
   "cell_type": "code",
   "execution_count": 75,
   "id": "7a6f0f3a-48a3-4dc1-a5c9-816245bb1b7a",
   "metadata": {},
   "outputs": [
    {
     "data": {
      "text/plain": [
       "Counter({1527.0: 18,\n",
       "         1613.0: 17,\n",
       "         1582.0: 17,\n",
       "         2127.0: 16,\n",
       "         1471.0: 15,\n",
       "         2053.0: 15,\n",
       "         1717.0: 15,\n",
       "         1607.0: 15,\n",
       "         1722.0: 15,\n",
       "         1703.0: 15,\n",
       "         1745.0: 14,\n",
       "         1650.0: 14,\n",
       "         1731.0: 14,\n",
       "         1705.0: 14,\n",
       "         1787.0: 14,\n",
       "         1724.0: 14,\n",
       "         1880.0: 14,\n",
       "         1562.0: 14,\n",
       "         1743.0: 14,\n",
       "         1170.0: 13,\n",
       "         1621.0: 13,\n",
       "         1748.0: 13,\n",
       "         1283.0: 13,\n",
       "         1999.0: 13,\n",
       "         1808.0: 13,\n",
       "         1755.0: 13,\n",
       "         1834.0: 13,\n",
       "         1619.0: 13,\n",
       "         1453.0: 13,\n",
       "         1759.0: 13,\n",
       "         1551.0: 13,\n",
       "         1462.0: 13,\n",
       "         1962.0: 13,\n",
       "         2512.0: 13,\n",
       "         1437.0: 13,\n",
       "         1185.0: 13,\n",
       "         1649.0: 13,\n",
       "         2017.0: 13,\n",
       "         1580.0: 13,\n",
       "         2228.0: 13,\n",
       "         1701.0: 13,\n",
       "         1665.0: 12,\n",
       "         1387.0: 12,\n",
       "         2024.0: 12,\n",
       "         1678.0: 12,\n",
       "         2344.0: 12,\n",
       "         1321.0: 12,\n",
       "         1694.0: 12,\n",
       "         1729.0: 12,\n",
       "         1256.0: 12,\n",
       "         1391.0: 12,\n",
       "         1248.0: 12,\n",
       "         1777.0: 12,\n",
       "         1465.0: 12,\n",
       "         2077.0: 12,\n",
       "         1375.0: 12,\n",
       "         1408.0: 12,\n",
       "         1565.0: 12,\n",
       "         1463.0: 12,\n",
       "         1340.0: 12,\n",
       "         2104.0: 12,\n",
       "         1606.0: 12,\n",
       "         1671.0: 12,\n",
       "         1741.0: 12,\n",
       "         1438.0: 12,\n",
       "         1814.0: 12,\n",
       "         1548.0: 12,\n",
       "         2019.0: 12,\n",
       "         1560.0: 12,\n",
       "         1625.0: 12,\n",
       "         1631.0: 12,\n",
       "         1901.0: 12,\n",
       "         1788.0: 12,\n",
       "         1485.0: 12,\n",
       "         2696.0: 12,\n",
       "         2465.0: 12,\n",
       "         1276.0: 12,\n",
       "         1287.0: 12,\n",
       "         1576.0: 12,\n",
       "         1145.0: 12,\n",
       "         1975.0: 12,\n",
       "         1765.0: 12,\n",
       "         2143.0: 12,\n",
       "         1875.0: 12,\n",
       "         2050.0: 12,\n",
       "         1819.0: 12,\n",
       "         2355.0: 12,\n",
       "         1503.0: 11,\n",
       "         1898.0: 11,\n",
       "         1922.0: 11,\n",
       "         1868.0: 11,\n",
       "         1489.0: 11,\n",
       "         1617.0: 11,\n",
       "         1326.0: 11,\n",
       "         1835.0: 11,\n",
       "         2183.0: 11,\n",
       "         1591.0: 11,\n",
       "         1469.0: 11,\n",
       "         1547.0: 11,\n",
       "         2070.0: 11,\n",
       "         1802.0: 11,\n",
       "         2198.0: 11,\n",
       "         1583.0: 11,\n",
       "         1575.0: 11,\n",
       "         1280.0: 11,\n",
       "         1513.0: 11,\n",
       "         1379.0: 11,\n",
       "         1087.0: 11,\n",
       "         1156.0: 11,\n",
       "         1893.0: 11,\n",
       "         1797.0: 11,\n",
       "         1931.0: 11,\n",
       "         1240.0: 11,\n",
       "         2144.0: 11,\n",
       "         2236.0: 11,\n",
       "         2105.0: 11,\n",
       "         1610.0: 11,\n",
       "         1504.0: 11,\n",
       "         1446.0: 11,\n",
       "         1989.0: 11,\n",
       "         2112.0: 11,\n",
       "         1260.0: 11,\n",
       "         1476.0: 11,\n",
       "         2987.0: 11,\n",
       "         2131.0: 11,\n",
       "         2085.0: 11,\n",
       "         2237.0: 11,\n",
       "         2191.0: 11,\n",
       "         2099.0: 11,\n",
       "         2403.0: 11,\n",
       "         1461.0: 11,\n",
       "         1713.0: 11,\n",
       "         1818.0: 11,\n",
       "         1519.0: 11,\n",
       "         2655.0: 11,\n",
       "         1479.0: 11,\n",
       "         1335.0: 11,\n",
       "         1672.0: 11,\n",
       "         1430.0: 11,\n",
       "         1859.0: 11,\n",
       "         1475.0: 11,\n",
       "         1730.0: 11,\n",
       "         1860.0: 11,\n",
       "         2399.0: 11,\n",
       "         1444.0: 11,\n",
       "         1664.0: 11,\n",
       "         1328.0: 11,\n",
       "         1495.0: 11,\n",
       "         1937.0: 11,\n",
       "         2010.0: 11,\n",
       "         2577.0: 11,\n",
       "         2074.0: 11,\n",
       "         1750.0: 11,\n",
       "         1851.0: 11,\n",
       "         1467.0: 10,\n",
       "         2239.0: 10,\n",
       "         1688.0: 10,\n",
       "         1511.0: 10,\n",
       "         2155.0: 10,\n",
       "         2515.0: 10,\n",
       "         2364.0: 10,\n",
       "         1632.0: 10,\n",
       "         1786.0: 10,\n",
       "         1590.0: 10,\n",
       "         1487.0: 10,\n",
       "         1813.0: 10,\n",
       "         2718.0: 10,\n",
       "         1026.0: 10,\n",
       "         2492.0: 10,\n",
       "         1766.0: 10,\n",
       "         2459.0: 10,\n",
       "         1852.0: 10,\n",
       "         1493.0: 10,\n",
       "         1473.0: 10,\n",
       "         1534.0: 10,\n",
       "         2248.0: 10,\n",
       "         2220.0: 10,\n",
       "         1193.0: 10,\n",
       "         1829.0: 10,\n",
       "         1769.0: 10,\n",
       "         2307.0: 10,\n",
       "         2474.0: 10,\n",
       "         1711.0: 10,\n",
       "         2020.0: 10,\n",
       "         2038.0: 10,\n",
       "         1468.0: 10,\n",
       "         1710.0: 10,\n",
       "         2388.0: 10,\n",
       "         1704.0: 10,\n",
       "         1210.0: 10,\n",
       "         1494.0: 10,\n",
       "         1996.0: 10,\n",
       "         786.0: 10,\n",
       "         1545.0: 10,\n",
       "         1689.0: 10,\n",
       "         1298.0: 10,\n",
       "         1382.0: 10,\n",
       "         1885.0: 10,\n",
       "         1793.0: 10,\n",
       "         1213.0: 10,\n",
       "         1727.0: 10,\n",
       "         1949.0: 10,\n",
       "         2332.0: 10,\n",
       "         1521.0: 10,\n",
       "         2084.0: 10,\n",
       "         1651.0: 10,\n",
       "         1629.0: 10,\n",
       "         1592.0: 10,\n",
       "         2549.0: 10,\n",
       "         2807.0: 10,\n",
       "         1141.0: 10,\n",
       "         2171.0: 10,\n",
       "         1840.0: 10,\n",
       "         2185.0: 10,\n",
       "         2739.0: 10,\n",
       "         2342.0: 10,\n",
       "         1127.0: 10,\n",
       "         2785.0: 10,\n",
       "         2405.0: 10,\n",
       "         1887.0: 10,\n",
       "         1226.0: 10,\n",
       "         1995.0: 10,\n",
       "         1891.0: 10,\n",
       "         2125.0: 10,\n",
       "         3109.0: 10,\n",
       "         2073.0: 10,\n",
       "         2259.0: 10,\n",
       "         1821.0: 10,\n",
       "         1481.0: 10,\n",
       "         1853.0: 10,\n",
       "         1973.0: 10,\n",
       "         1740.0: 10,\n",
       "         2281.0: 10,\n",
       "         1932.0: 10,\n",
       "         1529.0: 10,\n",
       "         1337.0: 10,\n",
       "         2524.0: 10,\n",
       "         1486.0: 10,\n",
       "         1484.0: 10,\n",
       "         2287.0: 10,\n",
       "         1889.0: 10,\n",
       "         1824.0: 10,\n",
       "         1076.0: 10,\n",
       "         1734.0: 10,\n",
       "         1608.0: 10,\n",
       "         1856.0: 10,\n",
       "         2795.0: 10,\n",
       "         1091.0: 10,\n",
       "         1983.0: 10,\n",
       "         1718.0: 10,\n",
       "         2035.0: 10,\n",
       "         1427.0: 10,\n",
       "         1514.0: 10,\n",
       "         2043.0: 10,\n",
       "         1005.0: 10,\n",
       "         1273.0: 10,\n",
       "         2101.0: 10,\n",
       "         1499.0: 10,\n",
       "         1380.0: 10,\n",
       "         1655.0: 9,\n",
       "         1207.0: 9,\n",
       "         1758.0: 9,\n",
       "         1279.0: 9,\n",
       "         1791.0: 9,\n",
       "         2375.0: 9,\n",
       "         2485.0: 9,\n",
       "         2087.0: 9,\n",
       "         1746.0: 9,\n",
       "         1175.0: 9,\n",
       "         2115.0: 9,\n",
       "         1702.0: 9,\n",
       "         932.0: 9,\n",
       "         1867.0: 9,\n",
       "         2170.0: 9,\n",
       "         1642.0: 9,\n",
       "         2424.0: 9,\n",
       "         1368.0: 9,\n",
       "         2107.0: 9,\n",
       "         1116.0: 9,\n",
       "         1293.0: 9,\n",
       "         1528.0: 9,\n",
       "         2103.0: 9,\n",
       "         1257.0: 9,\n",
       "         2229.0: 9,\n",
       "         1604.0: 9,\n",
       "         2263.0: 9,\n",
       "         2863.0: 9,\n",
       "         2159.0: 9,\n",
       "         1149.0: 9,\n",
       "         1756.0: 9,\n",
       "         2225.0: 9,\n",
       "         1709.0: 9,\n",
       "         1974.0: 9,\n",
       "         1872.0: 9,\n",
       "         859.0: 9,\n",
       "         1241.0: 9,\n",
       "         1028.0: 9,\n",
       "         1507.0: 9,\n",
       "         1616.0: 9,\n",
       "         2110.0: 9,\n",
       "         1676.0: 9,\n",
       "         2472.0: 9,\n",
       "         1954.0: 9,\n",
       "         1784.0: 9,\n",
       "         1457.0: 9,\n",
       "         1540.0: 9,\n",
       "         1633.0: 9,\n",
       "         1150.0: 9,\n",
       "         1354.0: 9,\n",
       "         2095.0: 9,\n",
       "         2016.0: 9,\n",
       "         2316.0: 9,\n",
       "         1864.0: 9,\n",
       "         1564.0: 9,\n",
       "         1535.0: 9,\n",
       "         1677.0: 9,\n",
       "         2023.0: 9,\n",
       "         1434.0: 9,\n",
       "         1566.0: 9,\n",
       "         1199.0: 9,\n",
       "         2685.0: 9,\n",
       "         1435.0: 9,\n",
       "         2396.0: 9,\n",
       "         2331.0: 9,\n",
       "         2919.0: 9,\n",
       "         2203.0: 9,\n",
       "         1497.0: 9,\n",
       "         2176.0: 9,\n",
       "         2864.0: 9,\n",
       "         1660.0: 9,\n",
       "         2199.0: 9,\n",
       "         1254.0: 9,\n",
       "         1474.0: 9,\n",
       "         2296.0: 9,\n",
       "         1407.0: 9,\n",
       "         3004.0: 9,\n",
       "         2059.0: 9,\n",
       "         1320.0: 9,\n",
       "         1579.0: 9,\n",
       "         1425.0: 9,\n",
       "         1728.0: 9,\n",
       "         2142.0: 9,\n",
       "         1615.0: 9,\n",
       "         2715.0: 9,\n",
       "         1789.0: 9,\n",
       "         2180.0: 9,\n",
       "         2722.0: 9,\n",
       "         2040.0: 9,\n",
       "         1908.0: 9,\n",
       "         1347.0: 9,\n",
       "         2080.0: 9,\n",
       "         1792.0: 9,\n",
       "         1945.0: 9,\n",
       "         2232.0: 9,\n",
       "         2205.0: 9,\n",
       "         1951.0: 9,\n",
       "         1912.0: 9,\n",
       "         1700.0: 9,\n",
       "         1089.0: 9,\n",
       "         1657.0: 9,\n",
       "         2532.0: 9,\n",
       "         1388.0: 9,\n",
       "         1452.0: 9,\n",
       "         1799.0: 9,\n",
       "         2603.0: 9,\n",
       "         1401.0: 9,\n",
       "         2426.0: 9,\n",
       "         1878.0: 9,\n",
       "         1006.0: 9,\n",
       "         2217.0: 9,\n",
       "         1697.0: 9,\n",
       "         1390.0: 9,\n",
       "         1807.0: 9,\n",
       "         1833.0: 9,\n",
       "         1239.0: 9,\n",
       "         2387.0: 9,\n",
       "         984.0: 9,\n",
       "         2267.0: 9,\n",
       "         2994.0: 9,\n",
       "         1739.0: 9,\n",
       "         1297.0: 9,\n",
       "         2483.0: 9,\n",
       "         1708.0: 9,\n",
       "         1410.0: 9,\n",
       "         2081.0: 9,\n",
       "         1442.0: 9,\n",
       "         1969.0: 9,\n",
       "         1762.0: 9,\n",
       "         2000.0: 9,\n",
       "         2197.0: 9,\n",
       "         1431.0: 9,\n",
       "         1810.0: 9,\n",
       "         1558.0: 9,\n",
       "         2421.0: 9,\n",
       "         1950.0: 9,\n",
       "         1778.0: 9,\n",
       "         1680.0: 9,\n",
       "         2223.0: 9,\n",
       "         2265.0: 9,\n",
       "         2054.0: 9,\n",
       "         1822.0: 9,\n",
       "         1249.0: 9,\n",
       "         2064.0: 9,\n",
       "         1956.0: 9,\n",
       "         1839.0: 9,\n",
       "         2547.0: 9,\n",
       "         1837.0: 9,\n",
       "         2062.0: 9,\n",
       "         2356.0: 9,\n",
       "         1921.0: 9,\n",
       "         1596.0: 9,\n",
       "         2787.0: 9,\n",
       "         3114.0: 9,\n",
       "         1785.0: 9,\n",
       "         2181.0: 9,\n",
       "         880.0: 8,\n",
       "         2202.0: 8,\n",
       "         2643.0: 8,\n",
       "         1966.0: 8,\n",
       "         1470.0: 8,\n",
       "         950.0: 8,\n",
       "         1125.0: 8,\n",
       "         2914.0: 8,\n",
       "         2612.0: 8,\n",
       "         1589.0: 8,\n",
       "         1229.0: 8,\n",
       "         2254.0: 8,\n",
       "         1971.0: 8,\n",
       "         2033.0: 8,\n",
       "         1433.0: 8,\n",
       "         1339.0: 8,\n",
       "         1252.0: 8,\n",
       "         1420.0: 8,\n",
       "         2343.0: 8,\n",
       "         762.0: 8,\n",
       "         1938.0: 8,\n",
       "         968.0: 8,\n",
       "         2021.0: 8,\n",
       "         1477.0: 8,\n",
       "         2272.0: 8,\n",
       "         2300.0: 8,\n",
       "         1183.0: 8,\n",
       "         1411.0: 8,\n",
       "         1643.0: 8,\n",
       "         1524.0: 8,\n",
       "         977.0: 8,\n",
       "         1612.0: 8,\n",
       "         1594.0: 8,\n",
       "         1764.0: 8,\n",
       "         2744.0: 8,\n",
       "         2680.0: 8,\n",
       "         1823.0: 8,\n",
       "         1790.0: 8,\n",
       "         1383.0: 8,\n",
       "         1325.0: 8,\n",
       "         2178.0: 8,\n",
       "         1927.0: 8,\n",
       "         2261.0: 8,\n",
       "         1225.0: 8,\n",
       "         2616.0: 8,\n",
       "         2495.0: 8,\n",
       "         1204.0: 8,\n",
       "         2539.0: 8,\n",
       "         1267.0: 8,\n",
       "         2246.0: 8,\n",
       "         2052.0: 8,\n",
       "         2063.0: 8,\n",
       "         1611.0: 8,\n",
       "         1153.0: 8,\n",
       "         2873.0: 8,\n",
       "         1846.0: 8,\n",
       "         1542.0: 8,\n",
       "         2879.0: 8,\n",
       "         1843.0: 8,\n",
       "         2304.0: 8,\n",
       "         1414.0: 8,\n",
       "         2260.0: 8,\n",
       "         1394.0: 8,\n",
       "         2163.0: 8,\n",
       "         3008.0: 8,\n",
       "         1692.0: 8,\n",
       "         2215.0: 8,\n",
       "         2264.0: 8,\n",
       "         1421.0: 8,\n",
       "         3184.0: 8,\n",
       "         1131.0: 8,\n",
       "         1164.0: 8,\n",
       "         1815.0: 8,\n",
       "         1976.0: 8,\n",
       "         2012.0: 8,\n",
       "         1160.0: 8,\n",
       "         2015.0: 8,\n",
       "         2419.0: 8,\n",
       "         2361.0: 8,\n",
       "         1578.0: 8,\n",
       "         2072.0: 8,\n",
       "         1295.0: 8,\n",
       "         1165.0: 8,\n",
       "         2572.0: 8,\n",
       "         2806.0: 8,\n",
       "         2456.0: 8,\n",
       "         2234.0: 8,\n",
       "         2034.0: 8,\n",
       "         1569.0: 8,\n",
       "         1947.0: 8,\n",
       "         2061.0: 8,\n",
       "         1538.0: 8,\n",
       "         2242.0: 8,\n",
       "         2447.0: 8,\n",
       "         1733.0: 8,\n",
       "         1554.0: 8,\n",
       "         3585.0: 8,\n",
       "         1865.0: 8,\n",
       "         2628.0: 8,\n",
       "         2278.0: 8,\n",
       "         2029.0: 8,\n",
       "         1096.0: 8,\n",
       "         1214.0: 8,\n",
       "         1428.0: 8,\n",
       "         1124.0: 8,\n",
       "         1000.0: 8,\n",
       "         1262.0: 8,\n",
       "         1300.0: 8,\n",
       "         2001.0: 8,\n",
       "         1013.0: 8,\n",
       "         2839.0: 8,\n",
       "         1691.0: 8,\n",
       "         2756.0: 8,\n",
       "         2587.0: 8,\n",
       "         1653.0: 8,\n",
       "         2377.0: 8,\n",
       "         1550.0: 8,\n",
       "         1075.0: 8,\n",
       "         2559.0: 8,\n",
       "         1879.0: 8,\n",
       "         2206.0: 8,\n",
       "         2372.0: 8,\n",
       "         2045.0: 8,\n",
       "         1811.0: 8,\n",
       "         1986.0: 8,\n",
       "         1917.0: 8,\n",
       "         2851.0: 8,\n",
       "         1911.0: 8,\n",
       "         1526.0: 8,\n",
       "         2657.0: 8,\n",
       "         2501.0: 8,\n",
       "         1451.0: 8,\n",
       "         1429.0: 8,\n",
       "         1492.0: 8,\n",
       "         3080.0: 8,\n",
       "         1561.0: 8,\n",
       "         1877.0: 8,\n",
       "         1533.0: 8,\n",
       "         1236.0: 8,\n",
       "         1115.0: 8,\n",
       "         2319.0: 8,\n",
       "         1081.0: 8,\n",
       "         2290.0: 8,\n",
       "         1343.0: 8,\n",
       "         2009.0: 8,\n",
       "         1768.0: 8,\n",
       "         3065.0: 8,\n",
       "         2168.0: 8,\n",
       "         1902.0: 8,\n",
       "         1270.0: 8,\n",
       "         2288.0: 8,\n",
       "         2471.0: 8,\n",
       "         2462.0: 8,\n",
       "         1648.0: 8,\n",
       "         2668.0: 8,\n",
       "         1317.0: 8,\n",
       "         2370.0: 8,\n",
       "         1348.0: 8,\n",
       "         1371.0: 8,\n",
       "         1508.0: 8,\n",
       "         991.0: 8,\n",
       "         1288.0: 8,\n",
       "         2051.0: 8,\n",
       "         2167.0: 8,\n",
       "         1552.0: 8,\n",
       "         2395.0: 8,\n",
       "         2349.0: 8,\n",
       "         1602.0: 8,\n",
       "         2511.0: 8,\n",
       "         796.0: 8,\n",
       "         1577.0: 8,\n",
       "         2608.0: 8,\n",
       "         1482.0: 8,\n",
       "         1673.0: 8,\n",
       "         1944.0: 8,\n",
       "         1244.0: 8,\n",
       "         1491.0: 8,\n",
       "         1549.0: 8,\n",
       "         1871.0: 8,\n",
       "         1684.0: 8,\n",
       "         1147.0: 8,\n",
       "         1601.0: 8,\n",
       "         975.0: 8,\n",
       "         2230.0: 8,\n",
       "         2394.0: 8,\n",
       "         1073.0: 8,\n",
       "         1271.0: 8,\n",
       "         1269.0: 8,\n",
       "         1111.0: 8,\n",
       "         1770.0: 8,\n",
       "         2831.0: 8,\n",
       "         2453.0: 8,\n",
       "         1176.0: 8,\n",
       "         1795.0: 8,\n",
       "         1636.0: 8,\n",
       "         1934.0: 8,\n",
       "         2298.0: 8,\n",
       "         1219.0: 8,\n",
       "         1904.0: 8,\n",
       "         1051.0: 8,\n",
       "         1903.0: 8,\n",
       "         1353.0: 8,\n",
       "         1706.0: 8,\n",
       "         1832.0: 8,\n",
       "         2666.0: 8,\n",
       "         2210.0: 8,\n",
       "         2697.0: 8,\n",
       "         1866.0: 8,\n",
       "         1083.0: 8,\n",
       "         1306.0: 8,\n",
       "         1771.0: 8,\n",
       "         2124.0: 8,\n",
       "         2089.0: 8,\n",
       "         1782.0: 8,\n",
       "         1574.0: 8,\n",
       "         2837.0: 8,\n",
       "         1426.0: 8,\n",
       "         1686.0: 8,\n",
       "         2028.0: 8,\n",
       "         1138.0: 8,\n",
       "         2819.0: 8,\n",
       "         1230.0: 8,\n",
       "         2076.0: 8,\n",
       "         2602.0: 8,\n",
       "         2584.0: 8,\n",
       "         1775.0: 8,\n",
       "         1403.0: 8,\n",
       "         1994.0: 8,\n",
       "         2297.0: 8,\n",
       "         1683.0: 8,\n",
       "         1781.0: 8,\n",
       "         1735.0: 8,\n",
       "         906.0: 8,\n",
       "         3260.0: 8,\n",
       "         1120.0: 7,\n",
       "         1228.0: 7,\n",
       "         2224.0: 7,\n",
       "         2082.0: 7,\n",
       "         2153.0: 7,\n",
       "         1215.0: 7,\n",
       "         1443.0: 7,\n",
       "         1007.0: 7,\n",
       "         1630.0: 7,\n",
       "         1010.0: 7,\n",
       "         1715.0: 7,\n",
       "         1509.0: 7,\n",
       "         3337.0: 7,\n",
       "         3038.0: 7,\n",
       "         1389.0: 7,\n",
       "         2721.0: 7,\n",
       "         1586.0: 7,\n",
       "         2046.0: 7,\n",
       "         1783.0: 7,\n",
       "         1626.0: 7,\n",
       "         1137.0: 7,\n",
       "         2340.0: 7,\n",
       "         1696.0: 7,\n",
       "         2366.0: 7,\n",
       "         1543.0: 7,\n",
       "         2003.0: 7,\n",
       "         2329.0: 7,\n",
       "         1070.0: 7,\n",
       "         3326.0: 7,\n",
       "         1985.0: 7,\n",
       "         2118.0: 7,\n",
       "         2308.0: 7,\n",
       "         2036.0: 7,\n",
       "         921.0: 7,\n",
       "         856.0: 7,\n",
       "         818.0: 7,\n",
       "         990.0: 7,\n",
       "         1126.0: 7,\n",
       "         1036.0: 7,\n",
       "         1751.0: 7,\n",
       "         1334.0: 7,\n",
       "         1445.0: 7,\n",
       "         1077.0: 7,\n",
       "         3046.0: 7,\n",
       "         2252.0: 7,\n",
       "         2365.0: 7,\n",
       "         1895.0: 7,\n",
       "         2773.0: 7,\n",
       "         2888.0: 7,\n",
       "         1025.0: 7,\n",
       "         3494.0: 7,\n",
       "         1316.0: 7,\n",
       "         2156.0: 7,\n",
       "         1914.0: 7,\n",
       "         2476.0: 7,\n",
       "         1555.0: 7,\n",
       "         726.0: 7,\n",
       "         2562.0: 7,\n",
       "         1190.0: 7,\n",
       "         1723.0: 7,\n",
       "         1266.0: 7,\n",
       "         2341.0: 7,\n",
       "         2681.0: 7,\n",
       "         1472.0: 7,\n",
       "         1307.0: 7,\n",
       "         2607.0: 7,\n",
       "         1415.0: 7,\n",
       "         3659.0: 7,\n",
       "         1892.0: 7,\n",
       "         1958.0: 7,\n",
       "         3592.0: 7,\n",
       "         1997.0: 7,\n",
       "         2630.0: 7,\n",
       "         1184.0: 7,\n",
       "         2172.0: 7,\n",
       "         1897.0: 7,\n",
       "         1409.0: 7,\n",
       "         1939.0: 7,\n",
       "         1518.0: 7,\n",
       "         1726.0: 7,\n",
       "         1816.0: 7,\n",
       "         2578.0: 7,\n",
       "         2949.0: 7,\n",
       "         2312.0: 7,\n",
       "         2277.0: 7,\n",
       "         3170.0: 7,\n",
       "         2918.0: 7,\n",
       "         3166.0: 7,\n",
       "         1804.0: 7,\n",
       "         1812.0: 7,\n",
       "         2358.0: 7,\n",
       "         2647.0: 7,\n",
       "         1133.0: 7,\n",
       "         2351.0: 7,\n",
       "         1737.0: 7,\n",
       "         3425.0: 7,\n",
       "         2741.0: 7,\n",
       "         2754.0: 7,\n",
       "         790.0: 7,\n",
       "         2636.0: 7,\n",
       "         1384.0: 7,\n",
       "         2598.0: 7,\n",
       "         1896.0: 7,\n",
       "         886.0: 7,\n",
       "         3215.0: 7,\n",
       "         1432.0: 7,\n",
       "         1105.0: 7,\n",
       "         3095.0: 7,\n",
       "         2962.0: 7,\n",
       "         1568.0: 7,\n",
       "         1014.0: 7,\n",
       "         2005.0: 7,\n",
       "         2479.0: 7,\n",
       "         1265.0: 7,\n",
       "         3216.0: 7,\n",
       "         2750.0: 7,\n",
       "         2677.0: 7,\n",
       "         2966.0: 7,\n",
       "         1345.0: 7,\n",
       "         2213.0: 7,\n",
       "         1454.0: 7,\n",
       "         1330.0: 7,\n",
       "         1323.0: 7,\n",
       "         1143.0: 7,\n",
       "         1205.0: 7,\n",
       "         2423.0: 7,\n",
       "         2564.0: 7,\n",
       "         3521.0: 7,\n",
       "         1820.0: 7,\n",
       "         1102.0: 7,\n",
       "         1584.0: 7,\n",
       "         2638.0: 7,\n",
       "         1736.0: 7,\n",
       "         1255.0: 7,\n",
       "         1712.0: 7,\n",
       "         2347.0: 7,\n",
       "         2275.0: 7,\n",
       "         1531.0: 7,\n",
       "         2850.0: 7,\n",
       "         1157.0: 7,\n",
       "         1572.0: 7,\n",
       "         2892.0: 7,\n",
       "         1595.0: 7,\n",
       "         1967.0: 7,\n",
       "         1982.0: 7,\n",
       "         1817.0: 7,\n",
       "         1585.0: 7,\n",
       "         1275.0: 7,\n",
       "         1258.0: 7,\n",
       "         3507.0: 7,\n",
       "         1250.0: 7,\n",
       "         2686.0: 7,\n",
       "         1772.0: 7,\n",
       "         2443.0: 7,\n",
       "         3119.0: 7,\n",
       "         1194.0: 7,\n",
       "         1106.0: 7,\n",
       "         3042.0: 7,\n",
       "         1961.0: 7,\n",
       "         2146.0: 7,\n",
       "         1988.0: 7,\n",
       "         1314.0: 7,\n",
       "         1377.0: 7,\n",
       "         1855.0: 7,\n",
       "         2114.0: 7,\n",
       "         1404.0: 7,\n",
       "         2581.0: 7,\n",
       "         1541.0: 7,\n",
       "         1987.0: 7,\n",
       "         1926.0: 7,\n",
       "         2438.0: 7,\n",
       "         2437.0: 7,\n",
       "         1186.0: 7,\n",
       "         2233.0: 7,\n",
       "         1315.0: 7,\n",
       "         1441.0: 7,\n",
       "         2067.0: 7,\n",
       "         1488.0: 7,\n",
       "         2536.0: 7,\n",
       "         2289.0: 7,\n",
       "         2857.0: 7,\n",
       "         2360.0: 7,\n",
       "         2075.0: 7,\n",
       "         943.0: 7,\n",
       "         2589.0: 7,\n",
       "         3225.0: 7,\n",
       "         1963.0: 7,\n",
       "         2980.0: 7,\n",
       "         1302.0: 7,\n",
       "         1054.0: 7,\n",
       "         1923.0: 7,\n",
       "         2065.0: 7,\n",
       "         1393.0: 7,\n",
       "         1658.0: 7,\n",
       "         1231.0: 7,\n",
       "         1268.0: 7,\n",
       "         2285.0: 7,\n",
       "         2241.0: 7,\n",
       "         2975.0: 7,\n",
       "         2152.0: 7,\n",
       "         2683.0: 7,\n",
       "         2250.0: 7,\n",
       "         2392.0: 7,\n",
       "         1854.0: 7,\n",
       "         2088.0: 7,\n",
       "         2283.0: 7,\n",
       "         1009.0: 7,\n",
       "         1402.0: 7,\n",
       "         1458.0: 7,\n",
       "         1039.0: 7,\n",
       "         1171.0: 7,\n",
       "         1178.0: 7,\n",
       "         1291.0: 7,\n",
       "         2321.0: 7,\n",
       "         1523.0: 7,\n",
       "         1448.0: 7,\n",
       "         2460.0: 7,\n",
       "         2271.0: 7,\n",
       "         2534.0: 7,\n",
       "         2458.0: 7,\n",
       "         1667.0: 7,\n",
       "         2122.0: 7,\n",
       "         2508.0: 7,\n",
       "         1941.0: 7,\n",
       "         2161.0: 7,\n",
       "         2737.0: 7,\n",
       "         1016.0: 7,\n",
       "         1869.0: 7,\n",
       "         1294.0: 7,\n",
       "         2049.0: 7,\n",
       "         2374.0: 7,\n",
       "         793.0: 7,\n",
       "         1245.0: 7,\n",
       "         1318.0: 7,\n",
       "         2635.0: 7,\n",
       "         1079.0: 7,\n",
       "         2574.0: 7,\n",
       "         1447.0: 7,\n",
       "         2700.0: 7,\n",
       "         1146.0: 7,\n",
       "         2193.0: 7,\n",
       "         2094.0: 7,\n",
       "         2411.0: 7,\n",
       "         1416.0: 7,\n",
       "         2830.0: 7,\n",
       "         993.0: 7,\n",
       "         1993.0: 7,\n",
       "         1308.0: 7,\n",
       "         2790.0: 7,\n",
       "         2245.0: 7,\n",
       "         1516.0: 7,\n",
       "         1679.0: 7,\n",
       "         1620.0: 7,\n",
       "         2066.0: 7,\n",
       "         1366.0: 7,\n",
       "         1943.0: 7,\n",
       "         1080.0: 7,\n",
       "         2108.0: 7,\n",
       "         1883.0: 7,\n",
       "         778.0: 7,\n",
       "         1346.0: 7,\n",
       "         1158.0: 7,\n",
       "         1072.0: 7,\n",
       "         2037.0: 7,\n",
       "         3136.0: 7,\n",
       "         2345.0: 7,\n",
       "         1747.0: 7,\n",
       "         2174.0: 7,\n",
       "         2226.0: 7,\n",
       "         1113.0: 7,\n",
       "         1053.0: 7,\n",
       "         1399.0: 7,\n",
       "         1841.0: 7,\n",
       "         1417.0: 7,\n",
       "         2369.0: 7,\n",
       "         2352.0: 7,\n",
       "         2149.0: 7,\n",
       "         2334.0: 7,\n",
       "         1933.0: 7,\n",
       "         1235.0: 7,\n",
       "         2238.0: 7,\n",
       "         855.0: 7,\n",
       "         2637.0: 7,\n",
       "         2189.0: 7,\n",
       "         2126.0: 7,\n",
       "         1830.0: 7,\n",
       "         1597.0: 7,\n",
       "         1998.0: 7,\n",
       "         1068.0: 7,\n",
       "         1086.0: 7,\n",
       "         2846.0: 7,\n",
       "         2614.0: 7,\n",
       "         3167.0: 7,\n",
       "         2723.0: 7,\n",
       "         2782.0: 7,\n",
       "         1212.0: 7,\n",
       "         2469.0: 7,\n",
       "         1979.0: 7,\n",
       "         2988.0: 7,\n",
       "         1505.0: 7,\n",
       "         2381.0: 7,\n",
       "         2705.0: 7,\n",
       "         2383.0: 7,\n",
       "         2434.0: 7,\n",
       "         1179.0: 7,\n",
       "         1285.0: 7,\n",
       "         1332.0: 7,\n",
       "         1858.0: 7,\n",
       "         1774.0: 7,\n",
       "         2690.0: 7,\n",
       "         3298.0: 7,\n",
       "         3404.0: 7,\n",
       "         1406.0: 7,\n",
       "         1948.0: 7,\n",
       "         928.0: 7,\n",
       "         2911.0: 7,\n",
       "         1984.0: 7,\n",
       "         1182.0: 7,\n",
       "         2129.0: 7,\n",
       "         2274.0: 7,\n",
       "         2098.0: 7,\n",
       "         1530.0: 7,\n",
       "         1221.0: 7,\n",
       "         966.0: 7,\n",
       "         2629.0: 7,\n",
       "         2413.0: 7,\n",
       "         1395.0: 7,\n",
       "         1290.0: 7,\n",
       "         3273.0: 7,\n",
       "         1972.0: 7,\n",
       "         1605.0: 7,\n",
       "         2644.0: 7,\n",
       "         1274.0: 6,\n",
       "         1627.0: 6,\n",
       "         2535.0: 6,\n",
       "         2491.0: 6,\n",
       "         696.0: 6,\n",
       "         2436.0: 6,\n",
       "         1130.0: 6,\n",
       "         2665.0: 6,\n",
       "         946.0: 6,\n",
       "         945.0: 6,\n",
       "         2801.0: 6,\n",
       "         1237.0: 6,\n",
       "         2026.0: 6,\n",
       "         3481.0: 6,\n",
       "         2376.0: 6,\n",
       "         2211.0: 6,\n",
       "         2964.0: 6,\n",
       "         2315.0: 6,\n",
       "         2093.0: 6,\n",
       "         ...})"
      ]
     },
     "execution_count": 75,
     "metadata": {},
     "output_type": "execute_result"
    }
   ],
   "source": [
    "dict_counter"
   ]
  },
  {
   "cell_type": "code",
   "execution_count": 60,
   "id": "faa27802-e758-4aa5-9045-39bdd4c9bee6",
   "metadata": {},
   "outputs": [
    {
     "data": {
      "text/plain": [
       "[(1527.0, 18), (1613.0, 17), (1582.0, 17), (2127.0, 16)]"
      ]
     },
     "execution_count": 60,
     "metadata": {},
     "output_type": "execute_result"
    }
   ],
   "source": [
    "dict_counter.most_common(4)"
   ]
  },
  {
   "cell_type": "code",
   "execution_count": null,
   "id": "14ca7523-a2d7-455b-8222-071ad0168aff",
   "metadata": {},
   "outputs": [],
   "source": []
  },
  {
   "cell_type": "code",
   "execution_count": 97,
   "id": "c09d4bee-9184-499c-ad12-d8e0a765be71",
   "metadata": {},
   "outputs": [
    {
     "name": "stdout",
     "output_type": "stream",
     "text": [
      "Counter({23: 4, 25: 3, 13: 2, 12: 2, 24: 1, 17: 1, 34: 1, 22: 1})\n"
     ]
    }
   ],
   "source": [
    "a=np.array([13,25,25,24,13,12,23,12,17,25,34,23,23,22,23])\n",
    "b=Counter(a)\n",
    "print(b)"
   ]
  },
  {
   "cell_type": "code",
   "execution_count": 100,
   "id": "7a93fb35-7a50-4d09-b955-ad6e113b915f",
   "metadata": {},
   "outputs": [
    {
     "data": {
      "text/plain": [
       "dict_items([(13, 2), (25, 3), (24, 1), (12, 2), (23, 4), (17, 1), (34, 1), (22, 1)])"
      ]
     },
     "execution_count": 100,
     "metadata": {},
     "output_type": "execute_result"
    }
   ],
   "source": [
    "tup=b.items()\n",
    "tup"
   ]
  },
  {
   "cell_type": "code",
   "execution_count": 65,
   "id": "a83e3874-4794-408a-9991-21ef36f62354",
   "metadata": {},
   "outputs": [
    {
     "data": {
      "text/plain": [
       "4"
      ]
     },
     "execution_count": 65,
     "metadata": {},
     "output_type": "execute_result"
    }
   ],
   "source": [
    "b.get(23)"
   ]
  },
  {
   "cell_type": "code",
   "execution_count": 71,
   "id": "d5092bbd-3021-460c-a0c2-7bcd52028644",
   "metadata": {},
   "outputs": [
    {
     "data": {
      "text/plain": [
       "{13: 2, 25: 3, 24: 1, 12: 2, 23: 4, 17: 1, 34: 1, 22: 1}"
      ]
     },
     "execution_count": 71,
     "metadata": {},
     "output_type": "execute_result"
    }
   ],
   "source": [
    "dict2={}\n",
    "for i in a:\n",
    "    dict2[i]=dict2.get(i,0)+1\n",
    "dict2\n",
    "\n"
   ]
  },
  {
   "cell_type": "code",
   "execution_count": 72,
   "id": "6170a644-43a0-423a-8a76-50a8c09e72ad",
   "metadata": {},
   "outputs": [
    {
     "data": {
      "text/plain": [
       "4"
      ]
     },
     "execution_count": 72,
     "metadata": {},
     "output_type": "execute_result"
    }
   ],
   "source": [
    "max(dict2.values())"
   ]
  },
  {
   "cell_type": "code",
   "execution_count": null,
   "id": "fc97c2a3-ffea-44a6-b552-91a50eb363b3",
   "metadata": {},
   "outputs": [],
   "source": []
  },
  {
   "cell_type": "code",
   "execution_count": 74,
   "id": "c35b58c3-83aa-4e1c-ab01-4d64ea90add8",
   "metadata": {},
   "outputs": [
    {
     "data": {
      "text/plain": [
       "18"
      ]
     },
     "execution_count": 74,
     "metadata": {},
     "output_type": "execute_result"
    }
   ],
   "source": [
    "# use the dictionary to get the mode. Create the dictionary and get the most common\n",
    "dict1={}\n",
    "for number in housing_data['total_rooms']:\n",
    "    dict1[number]=dict1.get(number,0)+1\n",
    "high_frequency=max(dict1.values())\n",
    "high_frequency"
   ]
  },
  {
   "cell_type": "code",
   "execution_count": 76,
   "id": "4064cf38-7a38-4022-bcf7-ec769078a219",
   "metadata": {},
   "outputs": [
    {
     "name": "stdout",
     "output_type": "stream",
     "text": [
      "1527.0\n"
     ]
    }
   ],
   "source": [
    "#Use for loop extract the key with the highest value given the dictionary value\n",
    "for k,v in dict1.items():\n",
    "    if dict1[k]== high_frequency:\n",
    "        print(k)"
   ]
  },
  {
   "cell_type": "code",
   "execution_count": 77,
   "id": "a5d7b87c-56a4-42c8-b8b8-7794ba61de1e",
   "metadata": {},
   "outputs": [
    {
     "name": "stdout",
     "output_type": "stream",
     "text": [
      "18\n",
      "[1527.0]\n"
     ]
    }
   ],
   "source": [
    "#Use list comprehension to print the key(total rooms) with the highest frequency\n",
    "most_frequent=[k for k,v in dict1.items() if dict1[k]==high_frequency] \n",
    "print(high_frequency)\n",
    "print(most_frequent)"
   ]
  },
  {
   "cell_type": "code",
   "execution_count": null,
   "id": "384af6d4-8b8b-4063-b15e-b8ab92832f32",
   "metadata": {},
   "outputs": [],
   "source": []
  },
  {
   "cell_type": "code",
   "execution_count": 87,
   "id": "95e79926-51e9-4f01-9615-80d5209b56d1",
   "metadata": {},
   "outputs": [],
   "source": [
    "b1=[4,5,6,7,6,5,6,3,9,8,2]"
   ]
  },
  {
   "cell_type": "code",
   "execution_count": 84,
   "id": "9b994787-5695-48c0-aaf5-5381f37d7c55",
   "metadata": {},
   "outputs": [
    {
     "name": "stdout",
     "output_type": "stream",
     "text": [
      "4\n",
      "6\n",
      "6\n",
      "6\n",
      "8\n",
      "2\n"
     ]
    }
   ],
   "source": [
    "for number in b1:\n",
    "    if number % 2==0:\n",
    "        print(number)"
   ]
  },
  {
   "cell_type": "code",
   "execution_count": 89,
   "id": "55c7a72e-7b1c-4c68-a189-c0dfe5627f23",
   "metadata": {},
   "outputs": [],
   "source": [
    "def even_in_list(list1):\n",
    "    even_nums=[]\n",
    "    for number in list1:\n",
    "        if number % 2 == 0:\n",
    "            even_nums.append(number)\n",
    "    return even_nums           \n",
    "    "
   ]
  },
  {
   "cell_type": "code",
   "execution_count": 90,
   "id": "73b57323-b7b3-44fd-9e4c-570c4ac679dd",
   "metadata": {},
   "outputs": [
    {
     "data": {
      "text/plain": [
       "[4, 6, 6, 6, 8, 2]"
      ]
     },
     "execution_count": 90,
     "metadata": {},
     "output_type": "execute_result"
    }
   ],
   "source": [
    "even_in_list(b1)"
   ]
  },
  {
   "cell_type": "code",
   "execution_count": 96,
   "id": "f38faa12-c26c-4782-92b0-9e3e77a37557",
   "metadata": {},
   "outputs": [
    {
     "data": {
      "text/plain": [
       "[4, 6, 6, 6, 8, 2]"
      ]
     },
     "execution_count": 96,
     "metadata": {},
     "output_type": "execute_result"
    }
   ],
   "source": [
    "even_list=[even_nums for even_nums in b1 if even_nums % 2 == 0] #list compressions\n",
    "even_list"
   ]
  },
  {
   "cell_type": "markdown",
   "id": "4b8ae416-b343-4d21-b172-942ac50b2cda",
   "metadata": {},
   "source": [
    "### Measures of dispersion\n",
    "\n",
    "* **Range**: How far is a spread of values between the largest and the smallest one; It is the difference between the highest value and the lowest value in the data\n",
    "* **quartiles**: values that divide logically arranged data into four parts with the same number of items. The data must be arranged in ascending order\n",
    "    * *1st quartile*, the value between the first and the second quarters\n",
    "    * *2nd quartile* is the value between the second and third quarters. This is the median\n",
    "    * *3rd quartile*, the value between the third and the fourth quarters\n",
    "* **percentile**: values that divide logically arranged data into 100 parts with the same number of items. The data must be arranged in ascending order\n",
    "* **Interquartile range**: the difference between the 1st and third quartile\n",
    "* **Standard deviation**: A measure of distribution of data around the mean.\n",
    "* **Variance**: Is a measure of how data points vary from the mean. This is closely related to the standard deviation. Both standard deviation and variance almost represent a similar concept but are used differently in application.\n",
    "* **Kurtosis,*k***: Is a measure of how tailed(peaked) the distribution is with respect to the normal distribution. For a normal distribution, *k=3*. When *k>3* the distribution has thin bell a high peak(**Leptokurtic**) and when *k<3* the distribution has a thick bell with a low peak  peaked(**platykurtic**)  \n",
    "* **Skewness,s**: The measure of symmetrical behavior of a distribution. For a normal distribution, *s=0*. When the distribution is skewed to the left, **negatively skewed** , (the long tail is to the left), *$s < 0$* and when the distribution is skewed to the right **positively skewed** (the long tail is to the right), *$s > 0$*  "
   ]
  },
  {
   "cell_type": "markdown",
   "id": "dbc48bf8-0eee-4ade-9882-c93df2ade5df",
   "metadata": {},
   "source": [
    "#### Question 2\n",
    "* Find the range of the number of rooms among the blocks\n",
    "* Find the quartiles and the inter-quartile range of the number of rooms among the blocks\n",
    "* Find the lowest value of the median income of the 5% top highest earners in the blocks\n",
    "* Find the variance and standard deviation of the median income among the blocks\n",
    "* Find the kurtosis and skewness of the distribution of the median income"
   ]
  },
  {
   "cell_type": "code",
   "execution_count": 102,
   "id": "fa4fa61a-41a6-46db-9385-ad95ad20a81b",
   "metadata": {},
   "outputs": [
    {
     "data": {
      "text/plain": [
       "Index(['longitude', 'latitude', 'housing_median_age', 'total_rooms',\n",
       "       'total_bedrooms', 'population', 'households', 'median_income',\n",
       "       'median_house_value', 'ocean_proximity'],\n",
       "      dtype='object')"
      ]
     },
     "execution_count": 102,
     "metadata": {},
     "output_type": "execute_result"
    }
   ],
   "source": [
    "housing_data.columns"
   ]
  },
  {
   "cell_type": "code",
   "execution_count": 105,
   "id": "2bfb01d6-3923-4439-bcf8-e89abcf7f0a5",
   "metadata": {},
   "outputs": [
    {
     "data": {
      "text/plain": [
       "2.0"
      ]
     },
     "execution_count": 105,
     "metadata": {},
     "output_type": "execute_result"
    }
   ],
   "source": [
    "housing_data['total_rooms'].min()"
   ]
  },
  {
   "cell_type": "code",
   "execution_count": 106,
   "id": "2d4653a1-7d82-4a95-9c81-fab886278b1a",
   "metadata": {},
   "outputs": [
    {
     "data": {
      "text/plain": [
       "39318.0"
      ]
     },
     "execution_count": 106,
     "metadata": {},
     "output_type": "execute_result"
    }
   ],
   "source": [
    "#range\n",
    "housing_data['total_rooms'].max() -(housing_data['total_rooms'].min())"
   ]
  },
  {
   "cell_type": "code",
   "execution_count": 124,
   "id": "5d1c8c20-06ad-4c11-af08-d8a1d2ad3dd4",
   "metadata": {},
   "outputs": [
    {
     "data": {
      "text/plain": [
       "3148.0"
      ]
     },
     "execution_count": 124,
     "metadata": {},
     "output_type": "execute_result"
    }
   ],
   "source": [
    "np.percentile(housing_data['total_rooms'],75) #third quartile "
   ]
  },
  {
   "cell_type": "code",
   "execution_count": 127,
   "id": "58968ec7-66dd-4db7-831a-ef0497ec3c39",
   "metadata": {},
   "outputs": [],
   "source": [
    "Q1,Q2,Q3=np.percentile(housing_data['total_rooms'],[25,50,75])"
   ]
  },
  {
   "cell_type": "code",
   "execution_count": 129,
   "id": "611f9d60-6fe2-43fb-bd16-cd5c340a313f",
   "metadata": {},
   "outputs": [
    {
     "name": "stdout",
     "output_type": "stream",
     "text": [
      "Q1=1447.75, Median=2127.0, and Q3=3148.0\n"
     ]
    }
   ],
   "source": [
    "print('Q1={}, Median={}, and Q3={}'.format(Q1,Q2,Q3))"
   ]
  },
  {
   "cell_type": "code",
   "execution_count": 130,
   "id": "3afcc79d-7367-40be-98d8-1d398dbd993d",
   "metadata": {},
   "outputs": [
    {
     "name": "stdout",
     "output_type": "stream",
     "text": [
      "q1=1447.75, q2=2127.0, q3=3148.0\n"
     ]
    }
   ],
   "source": [
    "#quartiles\n",
    "q1,q2,q3=np.percentile(housing_data['total_rooms'],[25,50,75]) #this is tuple unpaking, we create tuple on the right then npack it(asign it values on the right)\n",
    "print(\"q1={}, q2={}, q3={}\".format(q1,q2,q3)) "
   ]
  },
  {
   "cell_type": "code",
   "execution_count": 131,
   "id": "5568ade3-469f-4c50-9add-0811b156b989",
   "metadata": {},
   "outputs": [
    {
     "data": {
      "text/plain": [
       "1700.25"
      ]
     },
     "execution_count": 131,
     "metadata": {},
     "output_type": "execute_result"
    }
   ],
   "source": [
    "#interquatile range\n",
    "interq_s=q3-q1\n",
    "interq_s"
   ]
  },
  {
   "cell_type": "code",
   "execution_count": 134,
   "id": "8b1841bb-0950-4ca1-bfe7-daa323b09612",
   "metadata": {},
   "outputs": [
    {
     "data": {
      "text/plain": [
       "8.946750000000016"
      ]
     },
     "execution_count": 134,
     "metadata": {},
     "output_type": "execute_result"
    }
   ],
   "source": [
    "#lowest of top 5% is 95% percentile. We order the column ascending then get the 95% percentile\n",
    "m_income=housing_data['median_income'].sort_values() #sor values ascending, if descening, we use .sort_values(asceding=False)\n",
    "np.percentile(m_income,98)"
   ]
  },
  {
   "cell_type": "code",
   "execution_count": 137,
   "id": "feca2ae2-fe88-4440-931c-b51d6784daf0",
   "metadata": {},
   "outputs": [],
   "source": [
    "#using assert method to show that the 96% percentile is less than 95%. This is to ensure that you are on the track\n",
    "assert np.percentile(m_income,96) > np.percentile(m_income,95) "
   ]
  },
  {
   "cell_type": "code",
   "execution_count": 139,
   "id": "18da93d6-0618-4944-b4d8-cfb3206b9980",
   "metadata": {},
   "outputs": [
    {
     "data": {
      "text/plain": [
       "1.8998"
      ]
     },
     "execution_count": 139,
     "metadata": {},
     "output_type": "execute_result"
    }
   ],
   "source": [
    "#variance and standard deviation\n",
    "round(housing_data.median_income.std(),4) #round to 4 decimal places"
   ]
  },
  {
   "cell_type": "code",
   "execution_count": 138,
   "id": "d38447d3-4372-458e-ba78-b7105c9fec48",
   "metadata": {},
   "outputs": [
    {
     "data": {
      "text/plain": [
       "1.8998"
      ]
     },
     "execution_count": 138,
     "metadata": {},
     "output_type": "execute_result"
    }
   ],
   "source": [
    "round(housing_data['median_income'].std(),4)"
   ]
  },
  {
   "cell_type": "code",
   "execution_count": 140,
   "id": "070e7270-e9a8-4400-88f0-e1552ddd0476",
   "metadata": {},
   "outputs": [
    {
     "data": {
      "text/plain": [
       "3.6093"
      ]
     },
     "execution_count": 140,
     "metadata": {},
     "output_type": "execute_result"
    }
   ],
   "source": [
    "#variance\n",
    "round(housing_data['median_income'].var(),4)"
   ]
  },
  {
   "cell_type": "code",
   "execution_count": 141,
   "id": "d76bc377-3463-45a8-b480-8e558328f913",
   "metadata": {},
   "outputs": [
    {
     "data": {
      "text/plain": [
       "4.953"
      ]
     },
     "execution_count": 141,
     "metadata": {},
     "output_type": "execute_result"
    }
   ],
   "source": [
    "#kurtosis\n",
    "round(housing_data['median_income'].kurtosis(),3)"
   ]
  },
  {
   "cell_type": "code",
   "execution_count": 142,
   "id": "9f1338a7-0573-496a-b945-56e7543d033e",
   "metadata": {},
   "outputs": [
    {
     "data": {
      "text/plain": [
       "1.647"
      ]
     },
     "execution_count": 142,
     "metadata": {},
     "output_type": "execute_result"
    }
   ],
   "source": [
    "round(housing_data['median_income'].skew(),3)"
   ]
  },
  {
   "cell_type": "code",
   "execution_count": null,
   "id": "cd253d6a-50c1-4d8c-885e-b4493d23041a",
   "metadata": {},
   "outputs": [],
   "source": [
    "a1,a2,a3=np.percentile(housing_data['median_income'],[25,50,75])\n",
    "IQR_a=a3-a1"
   ]
  },
  {
   "cell_type": "markdown",
   "id": "889373db-7473-4e79-b536-81bfb0289acd",
   "metadata": {},
   "source": [
    "## outliers\n",
    "They are points that significantly differ from others. \n",
    "In practical application, they are taken to be\n",
    "* less than 5% and more than 95% in a normal distribution\n",
    "* less than Q1-1.5IQR or more than Q3+1.5IQR\n",
    "* significantly outside the trend of the general distribution of the data "
   ]
  },
  {
   "cell_type": "code",
   "execution_count": 144,
   "id": "d553a180-7a44-4ede-8241-eabf536ac2b3",
   "metadata": {},
   "outputs": [
    {
     "data": {
      "image/png": "[encoded data removed]",
      "text/plain": [
       "<Figure size 640x480 with 1 Axes>"
      ]
     },
     "metadata": {},
     "output_type": "display_data"
    }
   ],
   "source": [
    "#By using the box plot, we can identify the outliers\n",
    "plt.boxplot(housing_data['median_income'])\n",
    "plt.ylabel('median income(0,000 USD)')\n",
    "plt.title('Distribution of median income in block')\n",
    "plt.show();\n",
    "# see notice many outliers above the upper whisker"
   ]
  },
  {
   "cell_type": "code",
   "execution_count": 145,
   "id": "ae71d2d2-9a6b-479a-81d9-7d580b2ae00b",
   "metadata": {},
   "outputs": [],
   "source": [
    "qq1,qq2,qq3=np.percentile(housing_data['median_income'],[25,50,75])\n",
    "lower_whisker=qq1-(1.5*(qq3-qq1))\n",
    "upper_whisker=qq3+(1.5*(qq3-qq1))"
   ]
  },
  {
   "cell_type": "code",
   "execution_count": 146,
   "id": "2da2910c-2034-4609-adf6-2a3ed64a8653",
   "metadata": {},
   "outputs": [
    {
     "name": "stdout",
     "output_type": "stream",
     "text": [
      "-0.7063750000000004 8.013024999999999\n"
     ]
    }
   ],
   "source": [
    "print(lower_whisker,upper_whisker)"
   ]
  },
  {
   "cell_type": "code",
   "execution_count": 154,
   "id": "3a36afeb-40a7-4a32-8ea3-ded1c148c826",
   "metadata": {},
   "outputs": [],
   "source": [
    "D=np.array([3,5,6,7,2,3,6,3,9,6,4])"
   ]
  },
  {
   "cell_type": "code",
   "execution_count": 156,
   "id": "93157caf-257d-4a0a-8d48-ae403514e397",
   "metadata": {},
   "outputs": [
    {
     "data": {
      "text/plain": [
       "array([False,  True,  True,  True, False, False,  True, False,  True,\n",
       "        True, False])"
      ]
     },
     "execution_count": 156,
     "metadata": {},
     "output_type": "execute_result"
    }
   ],
   "source": [
    "D>4"
   ]
  },
  {
   "cell_type": "code",
   "execution_count": 157,
   "id": "dfe29187-1571-4f0c-ac9a-fe845be12e6a",
   "metadata": {},
   "outputs": [
    {
     "data": {
      "text/plain": [
       "array([5, 6, 7, 6, 9, 6])"
      ]
     },
     "execution_count": 157,
     "metadata": {},
     "output_type": "execute_result"
    }
   ],
   "source": [
    "D[D>4]"
   ]
  },
  {
   "cell_type": "code",
   "execution_count": 163,
   "id": "739934dc-1ffd-491e-89dc-d489961884e6",
   "metadata": {},
   "outputs": [
    {
     "data": {
      "text/plain": [
       "681"
      ]
     },
     "execution_count": 163,
     "metadata": {},
     "output_type": "execute_result"
    }
   ],
   "source": [
    "housing_data['median_income'][housing_data['median_income']>upper_whisker].size"
   ]
  },
  {
   "cell_type": "code",
   "execution_count": 164,
   "id": "c6bd6103-dff7-4658-8ead-c1537132cdc1",
   "metadata": {},
   "outputs": [],
   "source": [
    "#compute the outlier\n",
    "outl_low=housing_data['median_income'][housing_data['median_income']< lower_whisker]\n",
    "outl_hig=housing_data['median_income'][housing_data['median_income']> upper_whisker]"
   ]
  },
  {
   "cell_type": "code",
   "execution_count": 165,
   "id": "d389cef3-7c19-4e1d-b884-7108f619f5b0",
   "metadata": {},
   "outputs": [
    {
     "data": {
      "text/plain": [
       "0         8.3252\n",
       "1         8.3014\n",
       "131      11.6017\n",
       "134       8.2049\n",
       "135       8.4010\n",
       "          ...   \n",
       "20426    10.0472\n",
       "20427     8.6499\n",
       "20428     8.7288\n",
       "20436    12.5420\n",
       "20503     8.2787\n",
       "Name: median_income, Length: 681, dtype: float64"
      ]
     },
     "execution_count": 165,
     "metadata": {},
     "output_type": "execute_result"
    }
   ],
   "source": [
    "housing_data['median_income'][housing_data['median_income']>upper_whisker]"
   ]
  },
  {
   "cell_type": "code",
   "execution_count": null,
   "id": "57c7685b-5940-4f8b-9bc7-f8b88bdeb4d5",
   "metadata": {},
   "outputs": [],
   "source": [
    "lower_whisker"
   ]
  },
  {
   "cell_type": "code",
   "execution_count": 166,
   "id": "7fea99f1-186f-40a1-b8a7-bd23705d77ee",
   "metadata": {},
   "outputs": [
    {
     "data": {
      "text/plain": [
       "0"
      ]
     },
     "execution_count": 166,
     "metadata": {},
     "output_type": "execute_result"
    }
   ],
   "source": [
    "outl_low.size #none of then"
   ]
  },
  {
   "cell_type": "code",
   "execution_count": 167,
   "id": "61b8f299-91b6-47f4-95a4-6a6c7dc1a371",
   "metadata": {},
   "outputs": [
    {
     "data": {
      "text/plain": [
       "681"
      ]
     },
     "execution_count": 167,
     "metadata": {},
     "output_type": "execute_result"
    }
   ],
   "source": [
    "outl_hig.size #681 outliers"
   ]
  },
  {
   "cell_type": "markdown",
   "id": "4025875e-7976-4234-a3d4-3424ef709c56",
   "metadata": {},
   "source": [
    "### Frequency distributions\n",
    "We can create tables for frequency distributions the represent them on graphs such as bar graphs, histograms,pie charts among others"
   ]
  },
  {
   "cell_type": "code",
   "execution_count": 168,
   "id": "3dcd7ec4-8d7a-4a8e-b45a-a7c8d6ae7736",
   "metadata": {},
   "outputs": [
    {
     "data": {
      "text/plain": [
       "Index(['longitude', 'latitude', 'housing_median_age', 'total_rooms',\n",
       "       'total_bedrooms', 'population', 'households', 'median_income',\n",
       "       'median_house_value', 'ocean_proximity'],\n",
       "      dtype='object')"
      ]
     },
     "execution_count": 168,
     "metadata": {},
     "output_type": "execute_result"
    }
   ],
   "source": [
    "housing_data.columns"
   ]
  },
  {
   "cell_type": "code",
   "execution_count": 174,
   "id": "93a7f334-b361-4f38-b28b-9b54017f6c3a",
   "metadata": {},
   "outputs": [
    {
     "data": {
      "text/plain": [
       "array(['NEAR BAY', '<1H OCEAN', 'INLAND', 'NEAR OCEAN', 'ISLAND'],\n",
       "      dtype=object)"
      ]
     },
     "execution_count": 174,
     "metadata": {},
     "output_type": "execute_result"
    }
   ],
   "source": [
    "housing_data['ocean_proximity'].unique()"
   ]
  },
  {
   "cell_type": "code",
   "execution_count": 175,
   "id": "b5549cf7-df22-4a85-be67-cdebe94df499",
   "metadata": {},
   "outputs": [
    {
     "data": {
      "text/plain": [
       "ocean_proximity\n",
       "<1H OCEAN     9136\n",
       "INLAND        6551\n",
       "NEAR OCEAN    2658\n",
       "NEAR BAY      2290\n",
       "ISLAND           5\n",
       "Name: count, dtype: int64"
      ]
     },
     "execution_count": 175,
     "metadata": {},
     "output_type": "execute_result"
    }
   ],
   "source": [
    "housing_data['ocean_proximity'].value_counts()"
   ]
  },
  {
   "cell_type": "code",
   "execution_count": 180,
   "id": "2a8bd347-9bfc-4b0d-9439-1fe23ae5f595",
   "metadata": {},
   "outputs": [
    {
     "data": {
      "text/plain": [
       "array([9136, 6551, 2658, 2290,    5], dtype=int64)"
      ]
     },
     "execution_count": 180,
     "metadata": {},
     "output_type": "execute_result"
    }
   ],
   "source": [
    "housing_data['ocean_proximity'].value_counts().values"
   ]
  },
  {
   "cell_type": "markdown",
   "id": "a3666e14-5e18-4b5a-a9bb-4b38df5560b6",
   "metadata": {},
   "source": [
    "### Common Visualizations"
   ]
  },
  {
   "cell_type": "markdown",
   "id": "56e35009-7fec-42e4-bc1b-0fb83834c8cc",
   "metadata": {},
   "source": [
    "Create a frequency distribution table showing the ocean proximity for various block"
   ]
  },
  {
   "cell_type": "code",
   "execution_count": 181,
   "id": "ba878c77-2f13-4714-b757-be101fa1316f",
   "metadata": {},
   "outputs": [
    {
     "data": {
      "text/plain": [
       "ocean_proximity\n",
       "<1H OCEAN     9136\n",
       "INLAND        6551\n",
       "NEAR OCEAN    2658\n",
       "NEAR BAY      2290\n",
       "ISLAND           5\n",
       "Name: count, dtype: int64"
      ]
     },
     "execution_count": 181,
     "metadata": {},
     "output_type": "execute_result"
    }
   ],
   "source": [
    "housing_data['ocean_proximity'].value_counts()"
   ]
  },
  {
   "cell_type": "code",
   "execution_count": 182,
   "id": "db991a54-89e7-4c75-b92a-2aff49eb33ac",
   "metadata": {},
   "outputs": [
    {
     "data": {
      "text/plain": [
       "['NEAR BAY', '<1H OCEAN', 'INLAND', 'NEAR OCEAN', 'ISLAND']"
      ]
     },
     "execution_count": 182,
     "metadata": {},
     "output_type": "execute_result"
    }
   ],
   "source": [
    "block_locs=housing_data['ocean_proximity'].unique().tolist()\n",
    "block_locs"
   ]
  },
  {
   "cell_type": "code",
   "execution_count": 191,
   "id": "44cbd249-afef-49ac-b49d-cec1de9135f4",
   "metadata": {},
   "outputs": [
    {
     "data": {
      "image/png": "[encoded data removed]",
      "text/plain": [
       "<Figure size 600x400 with 1 Axes>"
      ]
     },
     "metadata": {},
     "output_type": "display_data"
    }
   ],
   "source": [
    "#create a bar graph for this data\n",
    "fig,ax=plt.subplots(figsize=(6,4))\n",
    "plt.bar(block_locs,housing_data['ocean_proximity'].value_counts(),width=0.75)\n",
    "plt.title('Number of locks at various locations from the ocean')\n",
    "plt.ylabel('No. of block')\n",
    "plt.show();\n"
   ]
  },
  {
   "cell_type": "code",
   "execution_count": 197,
   "id": "81933652-a624-447f-bb5a-bc157081e4d1",
   "metadata": {},
   "outputs": [
    {
     "data": {
      "image/png": "[encoded data removed]",
      "text/plain": [
       "<Figure size 640x480 with 1 Axes>"
      ]
     },
     "metadata": {},
     "output_type": "display_data"
    }
   ],
   "source": [
    "#pie chart\n",
    "plt.pie(housing_data['ocean_proximity'].value_counts(),labels=block_locs,startangle=0,radius=0.8);"
   ]
  },
  {
   "cell_type": "code",
   "execution_count": 202,
   "id": "8ee4de67-5ddc-48c4-8c3a-85d6ff7f5587",
   "metadata": {},
   "outputs": [
    {
     "data": {
      "image/png": "[encoded data removed]",
      "text/plain": [
       "<Figure size 640x480 with 1 Axes>"
      ]
     },
     "metadata": {},
     "output_type": "display_data"
    }
   ],
   "source": [
    "#create a histogram for the income distributions\n",
    "plt.hist(housing_data['median_income'],bins=10)\n",
    "plt.ylabel('income in 10 thousand USD')\n",
    "plt.title('Income distribution for various blocks')\n",
    "plt.show();\n"
   ]
  },
  {
   "cell_type": "code",
   "execution_count": 209,
   "id": "b679788e-269b-4725-8c97-1f8be9873d71",
   "metadata": {},
   "outputs": [
    {
     "data": {
      "image/png": "[encoded data removed]",
      "text/plain": [
       "<Figure size 640x480 with 1 Axes>"
      ]
     },
     "metadata": {},
     "output_type": "display_data"
    }
   ],
   "source": [
    "#create a scatter plot for income against the population\n",
    "plt.scatter(housing_data['population'],housing_data['median_income'],marker='.',color='black');\n",
    "plt.xlabel('Population')\n",
    "plt.ylabel('median income in 0,000 USD')\n",
    "plt.title('Income distribution against the population')\n",
    "plt.show();"
   ]
  },
  {
   "cell_type": "markdown",
   "id": "078ae670-046b-4072-a424-5310a971e9e4",
   "metadata": {},
   "source": [
    "# Statistical Inference\n",
    "In this case, we focus on test of Hypothesis and confidence interval\n",
    "\n",
    "Inference implies generalizing the results from a sample to the whole population under study. We make an assumption that the sample was randomly generated and is unbiased.\n",
    "\n",
    "Statistical inference makes use of the normal distribution which is a doomed-shaped symmetrical distribution whose mean and median are equal. The probability density distribution**(pdf)** for normal distribution is\n",
    "$$f(x,\\mu,\\sigma)=\\dfrac{1}{\\sigma \\sqrt{2\\pi}}e^{-\\dfrac{1}{2}\\left(\\dfrac{x-\\mu}{\\sigma}\\right)^2}$$\n",
    "where $x$ is a variable, $\\mu$ is the mean and $\\sigma$ is the standard deviation of the distribution.\n",
    "To apply normal distribution easily, we transform the pdf into a distribution with a $\\mu=0$ and $\\sigma_1$. This distribution is called a standard normal ditribution whose pdf is \n",
    "$$f(z)=\\dfrac{1}{\\sqrt{2\\pi}}e^{-\\dfrac{1}{2}z^2}$$\n",
    "and transformation is \n",
    "$$z=\\dfrac{x-\\mu}{\\sigma}$$\n",
    "called the $z$-score.\n",
    "\n",
    "Given the value of $z$, we can find the cumulative probability distribution that $P(z \\leq z_a)$ where $z_a$ is the $z$-score.\n"
   ]
  },
  {
   "cell_type": "markdown",
   "id": "c75b67d8-7930-4402-883a-bd93a97257f4",
   "metadata": {},
   "source": [
    "### Question 3\n",
    "\n",
    "A scientist researched the amount of scores university students can score in an amplitude test. The average score of the students was 54\\% with a standard deviation of 6.3. The score was online, and University students were selected to attempt the test. Assuming that the distribution of the score was normal, what is the probability that a student will score\n",
    "* less than 50%\n",
    "* more than 63%\n",
    "* Between 59% and 69%\n",
    "\n",
    "We use the scipy's stats module\n",
    "\n",
    "Let $X$ be a random variable representing the score of a standard and $Z$ be the score\n",
    "\n",
    "We find $P(X \\leq 50)$"
   ]
  },
  {
   "cell_type": "code",
   "execution_count": null,
   "id": "feaaa2cc-8375-4f8a-9938-eb7aa9f91799",
   "metadata": {},
   "outputs": [],
   "source": [
    "#P(X<=50)\n",
    "z_50 =(50-54)/6.3\n",
    "p_less_50=stats.norm.cdf(z_50)\n",
    "round(p_less_50,4)"
   ]
  },
  {
   "cell_type": "code",
   "execution_count": null,
   "id": "9afb97f1-4e6b-4b4d-9019-c7e9beb71507",
   "metadata": {},
   "outputs": [],
   "source": [
    "#P(X>=63)\n",
    "z_63 =(63-54)/6.3\n",
    "p_more_63=1-stats.norm.cdf(z_63)\n",
    "round(p_more_63,4)"
   ]
  },
  {
   "cell_type": "code",
   "execution_count": null,
   "id": "1c8c7888-9d45-4278-b57a-f82b800cace6",
   "metadata": {},
   "outputs": [],
   "source": [
    "#P(59<X<69)\n",
    "z_69 =(69-54)/6.3\n",
    "z_59 =(59-54)/6.3\n",
    "p_btn_69_59=stats.norm.cdf(z_69) - stats.norm.cdf(z_59)\n",
    "round(p_btn_69_59,4)"
   ]
  },
  {
   "cell_type": "markdown",
   "id": "7bb2e950-f11a-44c4-893a-bd1606dda45c",
   "metadata": {},
   "source": [
    "## Confidence interval\n",
    "The confidence interval estimates the population parameter given a sample statistic. The confidence interval is a range within which we are sure that the population parameter will lie to a certain probability. The 95\\% confidence interval for a population mean $\\mu$ is\n",
    "$$\\left(\\bar{x} - Z_{\\alpha/2} \\dfrac{\\sigma}{\\sqrt{n}}, \\bar{x} + Z_{\\alpha/2} \\dfrac{\\sigma}{\\sqrt{n}}\\right)$$\n",
    "or $$\\bar{x} \\pm Z_{\\alpha/2} \\dfrac{\\sigma}{\\sqrt{n}}$$\n",
    "\n",
    "The number $Z_{\\alpha/2} \\dfrac{\\sigma}{\\sqrt{n}}$ is called the marginal error\n",
    "\n",
    "Note/: The sampling distribution of the mean whose population standard deviation is $\\sigma$, the standard error(standard deviation of the sample) is $\\sqrt{\\dfrac{\\sigma^2}{n}}=\\dfrac{\\sigma}{\\sqrt{n}}$ where $n$ is the sample size. By central limit theorem, for larger values of $n$, the standard deviation approached $\\sigma$ irrespective of the underlaying distribution. \n",
    "\n",
    "In the above question, what would be 95\\% confidence interval for the mean of 54\\% for a sample size of 100.\n",
    "\n",
    "The level of significance is $1-0.95 = 0.05=\\alpha$. When the sample size is more than 30, the distribution is approximately normal, hence we use the Z-score. \n",
    "\n",
    "**The confidence interval for the proportion**\n",
    "$$\\left(\\hat{p} - Z_{\\alpha/2} \\sqrt{\\dfrac{\\hat{p}\\hat{q}}{n}}, \\hat{p} + Z_{\\alpha/2} \\sqrt{\\dfrac{\\hat{p}\\hat{q}}{n}}\\right)$$\n",
    "or $$\\hat{p} \\pm Z_{\\alpha/2} \\sqrt{\\dfrac{\\hat{p}\\hat{q}}{n}}$$\n"
   ]
  },
  {
   "cell_type": "code",
   "execution_count": null,
   "id": "a49c9a40-c1ed-4ec5-a53c-8b1695adfd59",
   "metadata": {},
   "outputs": [],
   "source": [
    "sample_size=100\n",
    "std_dev=6.3\n",
    "mean_s=54\n",
    "z_alpha_half=stats.norm.ppf(0.975)\n",
    "z_alpha_half"
   ]
  },
  {
   "cell_type": "code",
   "execution_count": null,
   "id": "ac6509a3-55e6-4b41-b291-5b3ad264f431",
   "metadata": {},
   "outputs": [],
   "source": [
    "error_margin=z_alpha_half*std_dev/np.sqrt(sample_size)\n",
    "print(\"Confidence interval:({},{})\".format(round(mean_s-error_margin,2),round(mean_s+error_margin,2)))"
   ]
  },
  {
   "cell_type": "markdown",
   "id": "e554ebc1-d076-4a37-8f21-bd162cace25a",
   "metadata": {},
   "source": [
    "## Hypothesis test\n",
    "We can also test if a value satisfies a certain condition. For instance, we may test if the population mean is equal to  51, more than 51 or less than 51 with a specific accuracy level. This statement provides 3 different cases of hypothesis test. \n",
    "\n",
    "First, we formula the hypothesis statements. We have two, the **null hypothesis** and the **alternative hypothesis**. The **null** hypothesis,$H_0$, is a statement that represents the claim, current situation or existing information that has to be disproved or not while the **alternative** hypothesis,$H_1$, represents a new situation or information that will be determined given sufficient evidence.\n",
    "If a simple random sample from the population is done, we would like to determine if;\n",
    "1. mean is equal to  51\n",
    "   \n",
    "   $H_0: \\mu=51$\n",
    "   \n",
    "   $H_1: \\mu \\neq 51$   \n",
    "   This is a two-tailedd test.\n",
    "   \n",
    "   $H_0: \\mu=51$\n",
    "   \n",
    "   $H_1: \\mu < 51$   \n",
    "   This is a one left tail test.\n",
    "\n",
    "   $H_0: \\mu=51$\n",
    "   \n",
    "   $H_1: \\mu > 51$\n",
    "   This is a one right tail test.\n",
    "\n",
    "   We reject the null hypothesis if positive of p_value < alpha\n",
    "2. mean is less than  51\n",
    "   \n",
    "   $H_0: \\mu < 51$\n",
    "   \n",
    "   $H_1: \\mu \\geq 51$\n",
    "   This is a one-right-tail test.\n",
    "\n",
    "   We reject the null hypothesis if positive of p_value < alpha\n",
    "   \n",
    "3. mean is more than  51\n",
    "   \n",
    "   $H_0: \\mu > 51$\n",
    "   \n",
    "   $H_1: \\mu \\leq 51$   This is a one-left-tail test.\n",
    "   \n",
    "   We reject the null hypothesis if positive of p_value < alpha\n",
    "\n",
    "In both cases, for $n>0$, the test statistics is\n",
    "$$z=\\dfrac{\\mu_0 -\\mu}{\\sigma/\\sqrt{n}}$$\n",
    "Where $n$ is the sample size and $\\mu_0$ is value being compared to in the hypothesis statement. In our case, we will be using Z-statistics(score) because we will be working with sample sizes more than 30. In a situation where the sample size is less than 30, we use the t-statistic\n",
    "\n",
    "**Example: Using a significance level of $\\alpha =0.01(99%)$, test whether the the population mean is less than 51%, n=100**\n",
    "\n",
    "**Example: Using a significance level of $\\alpha =0.01(99%)$, test whether the the population mean is equal to 51%, n=100**"
   ]
  },
  {
   "cell_type": "code",
   "execution_count": null,
   "id": "fbdacf68-4c96-4397-a420-bc3258938943",
   "metadata": {},
   "outputs": [],
   "source": [
    "#Using a significance level of \\alpha =0.01(99%), test whether the the population mean is equal to 51%, n=100\n",
    "alpha=0.01\n",
    "test_mean=51\n",
    "mean_s=54\n",
    "std_dev=6.3\n",
    "sample_size=100\n",
    "test_statistic= (test_mean-mean_s)/(std_dev/np.sqrt(sample_size))\n",
    "test_statistic\n",
    "p_value=stats.norm.cdf(test_statistic)\n",
    "p_value"
   ]
  },
  {
   "cell_type": "code",
   "execution_count": null,
   "id": "5d66e99d-e732-4238-a99c-4d8f40782bab",
   "metadata": {},
   "outputs": [],
   "source": [
    "p_value < 0.005 # if mu_0 != 51"
   ]
  },
  {
   "cell_type": "code",
   "execution_count": null,
   "id": "b5ce02e9-d1dc-4ab0-b3d8-befb96de1a62",
   "metadata": {},
   "outputs": [],
   "source": [
    "p_value < 0.01  #if mu_0 <51%"
   ]
  },
  {
   "cell_type": "code",
   "execution_count": null,
   "id": "f171c212-f888-4f2c-9abe-1a16385446de",
   "metadata": {},
   "outputs": [],
   "source": [
    "#Using a significance level of \\alpha =0.01(99%), test whether the the population mean is less than 51%, n=100\n",
    "alpha=0.01\n",
    "test_mean=51\n",
    "test_statistic=(test_mean-mean_s)/(std_dev/np.sqrt(sample_size))\n",
    "p_value=stats.norm.cdf(test_statistic)\n",
    "\n",
    "if p_value < alpha:\n",
    "    print('reject the null hypothesis in faviour of the alternative hypothesis')\n",
    "else:\n",
    "    print('There is no enough evidence to reject the null hypothesis, hence, the null hypothesis is true')\n",
    "\n"
   ]
  },
  {
   "cell_type": "code",
   "execution_count": null,
   "id": "fd2fc512-5586-4afb-8e7c-b6c3da8e5651",
   "metadata": {},
   "outputs": [],
   "source": [
    "def test_less_than(alpha,test_mean,mean_s,std,sample_size):\n",
    "    test_statistic=(test_mean-mean_s)/(std/np.sqrt(sample_size))\n",
    "    p_value=stats.norm.cdf(test_statistic)\n",
    "    if p_value < alpha:\n",
    "        return 'reject the null hypothesis in faviour of the alternative hypothesis'\n",
    "    else:\n",
    "        return 'There is no enough evidence to reject the null hypothesis, hence, the null hypothesis is true'"
   ]
  },
  {
   "cell_type": "code",
   "execution_count": null,
   "id": "277a8f59-88b3-4879-9814-e81093c1a602",
   "metadata": {},
   "outputs": [],
   "source": [
    "test_less_than(0.01,51,54,6.3,100)"
   ]
  },
  {
   "cell_type": "code",
   "execution_count": null,
   "id": "fe67bd23-1bc3-41fe-a691-11cfa6cc305e",
   "metadata": {},
   "outputs": [],
   "source": [
    "housing_data['total_rooms'].mean()"
   ]
  }
 ],
 "metadata": {
  "kernelspec": {
   "display_name": "Python 3 (ipykernel)",
   "language": "python",
   "name": "python3"
  },
  "language_info": {
   "codemirror_mode": {
    "name": "ipython",
    "version": 3
   },
   "file_extension": ".py",
   "mimetype": "text/x-python",
   "name": "python",
   "nbconvert_exporter": "python",
   "pygments_lexer": "ipython3",
   "version": "3.11.7"
  }
 },
 "nbformat": 4,
 "nbformat_minor": 5
}
